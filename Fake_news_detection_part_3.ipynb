{
  "nbformat": 4,
  "nbformat_minor": 0,
  "metadata": {
    "colab": {
      "provenance": [],
      "toc_visible": true,
      "mount_file_id": "1zkHBteBlelMukmH4xdd_Ie27FynkwR2q",
      "authorship_tag": "ABX9TyOx/c9KX+nPSpv0QoNdaiY2",
      "include_colab_link": true
    },
    "kernelspec": {
      "name": "python3",
      "display_name": "Python 3"
    },
    "language_info": {
      "name": "python"
    }
  },
  "cells": [
    {
      "cell_type": "markdown",
      "metadata": {
        "id": "view-in-github",
        "colab_type": "text"
      },
      "source": [
        "<a href=\"https://colab.research.google.com/github/aziegert/Fake_news_detection/blob/main/Fake_news_detection_part_3.ipynb\" target=\"_parent\"><img src=\"https://colab.research.google.com/assets/colab-badge.svg\" alt=\"Open In Colab\"/></a>"
      ]
    },
    {
      "cell_type": "markdown",
      "source": [
        "#Imports"
      ],
      "metadata": {
        "id": "l0rgGjluDmgS"
      }
    },
    {
      "cell_type": "code",
      "source": [
        "!python -m spacy download en_core_web_lg"
      ],
      "metadata": {
        "id": "L4wdIR66e1Yv"
      },
      "execution_count": null,
      "outputs": []
    },
    {
      "cell_type": "code",
      "execution_count": null,
      "metadata": {
        "id": "NbQpGtjEAx47"
      },
      "outputs": [],
      "source": [
        "#basic\n",
        "from google.colab import files\n",
        "from google.colab import drive\n",
        "import pandas as pd\n",
        "import numpy as np\n",
        "import datetime\n",
        "from tqdm import tqdm\n",
        "import random\n",
        "import scipy\n",
        "\n",
        "#plots\n",
        "import matplotlib.pyplot as plt\n",
        "\n",
        "#words\n",
        "import spacy\n",
        "\n",
        "#model\n",
        "from sklearn.model_selection import train_test_split\n",
        "import torch\n",
        "from torch import nn\n",
        "from torch.utils.data import Dataset, DataLoader"
      ]
    },
    {
      "cell_type": "code",
      "source": [
        "%matplotlib inline"
      ],
      "metadata": {
        "id": "20ligVXV5htC"
      },
      "execution_count": null,
      "outputs": []
    },
    {
      "cell_type": "markdown",
      "source": [
        "#Loading data"
      ],
      "metadata": {
        "id": "G5Js4Xg1DuXc"
      }
    },
    {
      "cell_type": "code",
      "source": [
        "files.upload()"
      ],
      "metadata": {
        "id": "SxxCBUhdA98F"
      },
      "execution_count": null,
      "outputs": []
    },
    {
      "cell_type": "code",
      "source": [
        "!mkdir -p ~/.kaggle\n",
        "!cp kaggle.json ~/.kaggle"
      ],
      "metadata": {
        "id": "ElrfLFV8BK6A"
      },
      "execution_count": null,
      "outputs": []
    },
    {
      "cell_type": "code",
      "source": [
        "!kaggle datasets download -d clmentbisaillon/fake-and-real-news-dataset"
      ],
      "metadata": {
        "colab": {
          "base_uri": "https://localhost:8080/"
        },
        "id": "Ys0VCCcCDBhA",
        "outputId": "a92ba258-eb48-4cc8-f19d-9988f139906f"
      },
      "execution_count": null,
      "outputs": [
        {
          "output_type": "stream",
          "name": "stdout",
          "text": [
            "Warning: Your Kaggle API key is readable by other users on this system! To fix this, you can run 'chmod 600 /root/.kaggle/kaggle.json'\n",
            "Downloading fake-and-real-news-dataset.zip to /content\n",
            " 93% 38.0M/41.0M [00:00<00:00, 115MB/s]\n",
            "100% 41.0M/41.0M [00:00<00:00, 111MB/s]\n"
          ]
        }
      ]
    },
    {
      "cell_type": "code",
      "source": [
        "!unzip /content/fake-and-real-news-dataset.zip"
      ],
      "metadata": {
        "colab": {
          "base_uri": "https://localhost:8080/"
        },
        "id": "xvjUvCXADD2c",
        "outputId": "1e73ebe5-9243-4cb8-eb02-10347adb3a30"
      },
      "execution_count": null,
      "outputs": [
        {
          "output_type": "stream",
          "name": "stdout",
          "text": [
            "Archive:  /content/fake-and-real-news-dataset.zip\n",
            "  inflating: Fake.csv                \n",
            "  inflating: True.csv                \n"
          ]
        }
      ]
    },
    {
      "cell_type": "code",
      "source": [
        "df_fake = pd.read_csv('/content/Fake.csv')\n",
        "df_true = pd.read_csv('/content/True.csv')"
      ],
      "metadata": {
        "id": "qT67uxGoDMqf"
      },
      "execution_count": null,
      "outputs": []
    },
    {
      "cell_type": "markdown",
      "source": [
        "#EDA"
      ],
      "metadata": {
        "id": "OFCsSP2kFA1k"
      }
    },
    {
      "cell_type": "markdown",
      "source": [
        "##Date review"
      ],
      "metadata": {
        "id": "FrU_Msa9dU83"
      }
    },
    {
      "cell_type": "code",
      "source": [
        "df_fake['is_fake'] = 1\n",
        "df_fake.head(5)"
      ],
      "metadata": {
        "colab": {
          "base_uri": "https://localhost:8080/",
          "height": 206
        },
        "id": "vTxIAwDqdMgU",
        "outputId": "6e50ca9d-eac9-4247-f79c-ddc3bdad25ee"
      },
      "execution_count": null,
      "outputs": [
        {
          "output_type": "execute_result",
          "data": {
            "text/plain": [
              "                                               title  \\\n",
              "0   Donald Trump Sends Out Embarrassing New Year’...   \n",
              "1   Drunk Bragging Trump Staffer Started Russian ...   \n",
              "2   Sheriff David Clarke Becomes An Internet Joke...   \n",
              "3   Trump Is So Obsessed He Even Has Obama’s Name...   \n",
              "4   Pope Francis Just Called Out Donald Trump Dur...   \n",
              "\n",
              "                                                text subject  \\\n",
              "0  Donald Trump just couldn t wish all Americans ...    News   \n",
              "1  House Intelligence Committee Chairman Devin Nu...    News   \n",
              "2  On Friday, it was revealed that former Milwauk...    News   \n",
              "3  On Christmas day, Donald Trump announced that ...    News   \n",
              "4  Pope Francis used his annual Christmas Day mes...    News   \n",
              "\n",
              "                date  is_fake  \n",
              "0  December 31, 2017        1  \n",
              "1  December 31, 2017        1  \n",
              "2  December 30, 2017        1  \n",
              "3  December 29, 2017        1  \n",
              "4  December 25, 2017        1  "
            ],
            "text/html": [
              "\n",
              "  <div id=\"df-657b70a4-799f-4570-8e12-117e76b73ada\">\n",
              "    <div class=\"colab-df-container\">\n",
              "      <div>\n",
              "<style scoped>\n",
              "    .dataframe tbody tr th:only-of-type {\n",
              "        vertical-align: middle;\n",
              "    }\n",
              "\n",
              "    .dataframe tbody tr th {\n",
              "        vertical-align: top;\n",
              "    }\n",
              "\n",
              "    .dataframe thead th {\n",
              "        text-align: right;\n",
              "    }\n",
              "</style>\n",
              "<table border=\"1\" class=\"dataframe\">\n",
              "  <thead>\n",
              "    <tr style=\"text-align: right;\">\n",
              "      <th></th>\n",
              "      <th>title</th>\n",
              "      <th>text</th>\n",
              "      <th>subject</th>\n",
              "      <th>date</th>\n",
              "      <th>is_fake</th>\n",
              "    </tr>\n",
              "  </thead>\n",
              "  <tbody>\n",
              "    <tr>\n",
              "      <th>0</th>\n",
              "      <td>Donald Trump Sends Out Embarrassing New Year’...</td>\n",
              "      <td>Donald Trump just couldn t wish all Americans ...</td>\n",
              "      <td>News</td>\n",
              "      <td>December 31, 2017</td>\n",
              "      <td>1</td>\n",
              "    </tr>\n",
              "    <tr>\n",
              "      <th>1</th>\n",
              "      <td>Drunk Bragging Trump Staffer Started Russian ...</td>\n",
              "      <td>House Intelligence Committee Chairman Devin Nu...</td>\n",
              "      <td>News</td>\n",
              "      <td>December 31, 2017</td>\n",
              "      <td>1</td>\n",
              "    </tr>\n",
              "    <tr>\n",
              "      <th>2</th>\n",
              "      <td>Sheriff David Clarke Becomes An Internet Joke...</td>\n",
              "      <td>On Friday, it was revealed that former Milwauk...</td>\n",
              "      <td>News</td>\n",
              "      <td>December 30, 2017</td>\n",
              "      <td>1</td>\n",
              "    </tr>\n",
              "    <tr>\n",
              "      <th>3</th>\n",
              "      <td>Trump Is So Obsessed He Even Has Obama’s Name...</td>\n",
              "      <td>On Christmas day, Donald Trump announced that ...</td>\n",
              "      <td>News</td>\n",
              "      <td>December 29, 2017</td>\n",
              "      <td>1</td>\n",
              "    </tr>\n",
              "    <tr>\n",
              "      <th>4</th>\n",
              "      <td>Pope Francis Just Called Out Donald Trump Dur...</td>\n",
              "      <td>Pope Francis used his annual Christmas Day mes...</td>\n",
              "      <td>News</td>\n",
              "      <td>December 25, 2017</td>\n",
              "      <td>1</td>\n",
              "    </tr>\n",
              "  </tbody>\n",
              "</table>\n",
              "</div>\n",
              "      <button class=\"colab-df-convert\" onclick=\"convertToInteractive('df-657b70a4-799f-4570-8e12-117e76b73ada')\"\n",
              "              title=\"Convert this dataframe to an interactive table.\"\n",
              "              style=\"display:none;\">\n",
              "        \n",
              "  <svg xmlns=\"http://www.w3.org/2000/svg\" height=\"24px\"viewBox=\"0 0 24 24\"\n",
              "       width=\"24px\">\n",
              "    <path d=\"M0 0h24v24H0V0z\" fill=\"none\"/>\n",
              "    <path d=\"M18.56 5.44l.94 2.06.94-2.06 2.06-.94-2.06-.94-.94-2.06-.94 2.06-2.06.94zm-11 1L8.5 8.5l.94-2.06 2.06-.94-2.06-.94L8.5 2.5l-.94 2.06-2.06.94zm10 10l.94 2.06.94-2.06 2.06-.94-2.06-.94-.94-2.06-.94 2.06-2.06.94z\"/><path d=\"M17.41 7.96l-1.37-1.37c-.4-.4-.92-.59-1.43-.59-.52 0-1.04.2-1.43.59L10.3 9.45l-7.72 7.72c-.78.78-.78 2.05 0 2.83L4 21.41c.39.39.9.59 1.41.59.51 0 1.02-.2 1.41-.59l7.78-7.78 2.81-2.81c.8-.78.8-2.07 0-2.86zM5.41 20L4 18.59l7.72-7.72 1.47 1.35L5.41 20z\"/>\n",
              "  </svg>\n",
              "      </button>\n",
              "      \n",
              "  <style>\n",
              "    .colab-df-container {\n",
              "      display:flex;\n",
              "      flex-wrap:wrap;\n",
              "      gap: 12px;\n",
              "    }\n",
              "\n",
              "    .colab-df-convert {\n",
              "      background-color: #E8F0FE;\n",
              "      border: none;\n",
              "      border-radius: 50%;\n",
              "      cursor: pointer;\n",
              "      display: none;\n",
              "      fill: #1967D2;\n",
              "      height: 32px;\n",
              "      padding: 0 0 0 0;\n",
              "      width: 32px;\n",
              "    }\n",
              "\n",
              "    .colab-df-convert:hover {\n",
              "      background-color: #E2EBFA;\n",
              "      box-shadow: 0px 1px 2px rgba(60, 64, 67, 0.3), 0px 1px 3px 1px rgba(60, 64, 67, 0.15);\n",
              "      fill: #174EA6;\n",
              "    }\n",
              "\n",
              "    [theme=dark] .colab-df-convert {\n",
              "      background-color: #3B4455;\n",
              "      fill: #D2E3FC;\n",
              "    }\n",
              "\n",
              "    [theme=dark] .colab-df-convert:hover {\n",
              "      background-color: #434B5C;\n",
              "      box-shadow: 0px 1px 3px 1px rgba(0, 0, 0, 0.15);\n",
              "      filter: drop-shadow(0px 1px 2px rgba(0, 0, 0, 0.3));\n",
              "      fill: #FFFFFF;\n",
              "    }\n",
              "  </style>\n",
              "\n",
              "      <script>\n",
              "        const buttonEl =\n",
              "          document.querySelector('#df-657b70a4-799f-4570-8e12-117e76b73ada button.colab-df-convert');\n",
              "        buttonEl.style.display =\n",
              "          google.colab.kernel.accessAllowed ? 'block' : 'none';\n",
              "\n",
              "        async function convertToInteractive(key) {\n",
              "          const element = document.querySelector('#df-657b70a4-799f-4570-8e12-117e76b73ada');\n",
              "          const dataTable =\n",
              "            await google.colab.kernel.invokeFunction('convertToInteractive',\n",
              "                                                     [key], {});\n",
              "          if (!dataTable) return;\n",
              "\n",
              "          const docLinkHtml = 'Like what you see? Visit the ' +\n",
              "            '<a target=\"_blank\" href=https://colab.research.google.com/notebooks/data_table.ipynb>data table notebook</a>'\n",
              "            + ' to learn more about interactive tables.';\n",
              "          element.innerHTML = '';\n",
              "          dataTable['output_type'] = 'display_data';\n",
              "          await google.colab.output.renderOutput(dataTable, element);\n",
              "          const docLink = document.createElement('div');\n",
              "          docLink.innerHTML = docLinkHtml;\n",
              "          element.appendChild(docLink);\n",
              "        }\n",
              "      </script>\n",
              "    </div>\n",
              "  </div>\n",
              "  "
            ]
          },
          "metadata": {},
          "execution_count": 9
        }
      ]
    },
    {
      "cell_type": "code",
      "source": [
        "df_true['is_fake'] = 0\n",
        "df_true.head(5)"
      ],
      "metadata": {
        "colab": {
          "base_uri": "https://localhost:8080/",
          "height": 206
        },
        "id": "3C1jonITdlOz",
        "outputId": "afba09b7-8633-4c93-f5d9-db1784591bd4"
      },
      "execution_count": null,
      "outputs": [
        {
          "output_type": "execute_result",
          "data": {
            "text/plain": [
              "                                               title  \\\n",
              "0  As U.S. budget fight looms, Republicans flip t...   \n",
              "1  U.S. military to accept transgender recruits o...   \n",
              "2  Senior U.S. Republican senator: 'Let Mr. Muell...   \n",
              "3  FBI Russia probe helped by Australian diplomat...   \n",
              "4  Trump wants Postal Service to charge 'much mor...   \n",
              "\n",
              "                                                text       subject  \\\n",
              "0  WASHINGTON (Reuters) - The head of a conservat...  politicsNews   \n",
              "1  WASHINGTON (Reuters) - Transgender people will...  politicsNews   \n",
              "2  WASHINGTON (Reuters) - The special counsel inv...  politicsNews   \n",
              "3  WASHINGTON (Reuters) - Trump campaign adviser ...  politicsNews   \n",
              "4  SEATTLE/WASHINGTON (Reuters) - President Donal...  politicsNews   \n",
              "\n",
              "                 date  is_fake  \n",
              "0  December 31, 2017         0  \n",
              "1  December 29, 2017         0  \n",
              "2  December 31, 2017         0  \n",
              "3  December 30, 2017         0  \n",
              "4  December 29, 2017         0  "
            ],
            "text/html": [
              "\n",
              "  <div id=\"df-a51a9b6f-7ad2-4e10-961a-5bf015ea4e70\">\n",
              "    <div class=\"colab-df-container\">\n",
              "      <div>\n",
              "<style scoped>\n",
              "    .dataframe tbody tr th:only-of-type {\n",
              "        vertical-align: middle;\n",
              "    }\n",
              "\n",
              "    .dataframe tbody tr th {\n",
              "        vertical-align: top;\n",
              "    }\n",
              "\n",
              "    .dataframe thead th {\n",
              "        text-align: right;\n",
              "    }\n",
              "</style>\n",
              "<table border=\"1\" class=\"dataframe\">\n",
              "  <thead>\n",
              "    <tr style=\"text-align: right;\">\n",
              "      <th></th>\n",
              "      <th>title</th>\n",
              "      <th>text</th>\n",
              "      <th>subject</th>\n",
              "      <th>date</th>\n",
              "      <th>is_fake</th>\n",
              "    </tr>\n",
              "  </thead>\n",
              "  <tbody>\n",
              "    <tr>\n",
              "      <th>0</th>\n",
              "      <td>As U.S. budget fight looms, Republicans flip t...</td>\n",
              "      <td>WASHINGTON (Reuters) - The head of a conservat...</td>\n",
              "      <td>politicsNews</td>\n",
              "      <td>December 31, 2017</td>\n",
              "      <td>0</td>\n",
              "    </tr>\n",
              "    <tr>\n",
              "      <th>1</th>\n",
              "      <td>U.S. military to accept transgender recruits o...</td>\n",
              "      <td>WASHINGTON (Reuters) - Transgender people will...</td>\n",
              "      <td>politicsNews</td>\n",
              "      <td>December 29, 2017</td>\n",
              "      <td>0</td>\n",
              "    </tr>\n",
              "    <tr>\n",
              "      <th>2</th>\n",
              "      <td>Senior U.S. Republican senator: 'Let Mr. Muell...</td>\n",
              "      <td>WASHINGTON (Reuters) - The special counsel inv...</td>\n",
              "      <td>politicsNews</td>\n",
              "      <td>December 31, 2017</td>\n",
              "      <td>0</td>\n",
              "    </tr>\n",
              "    <tr>\n",
              "      <th>3</th>\n",
              "      <td>FBI Russia probe helped by Australian diplomat...</td>\n",
              "      <td>WASHINGTON (Reuters) - Trump campaign adviser ...</td>\n",
              "      <td>politicsNews</td>\n",
              "      <td>December 30, 2017</td>\n",
              "      <td>0</td>\n",
              "    </tr>\n",
              "    <tr>\n",
              "      <th>4</th>\n",
              "      <td>Trump wants Postal Service to charge 'much mor...</td>\n",
              "      <td>SEATTLE/WASHINGTON (Reuters) - President Donal...</td>\n",
              "      <td>politicsNews</td>\n",
              "      <td>December 29, 2017</td>\n",
              "      <td>0</td>\n",
              "    </tr>\n",
              "  </tbody>\n",
              "</table>\n",
              "</div>\n",
              "      <button class=\"colab-df-convert\" onclick=\"convertToInteractive('df-a51a9b6f-7ad2-4e10-961a-5bf015ea4e70')\"\n",
              "              title=\"Convert this dataframe to an interactive table.\"\n",
              "              style=\"display:none;\">\n",
              "        \n",
              "  <svg xmlns=\"http://www.w3.org/2000/svg\" height=\"24px\"viewBox=\"0 0 24 24\"\n",
              "       width=\"24px\">\n",
              "    <path d=\"M0 0h24v24H0V0z\" fill=\"none\"/>\n",
              "    <path d=\"M18.56 5.44l.94 2.06.94-2.06 2.06-.94-2.06-.94-.94-2.06-.94 2.06-2.06.94zm-11 1L8.5 8.5l.94-2.06 2.06-.94-2.06-.94L8.5 2.5l-.94 2.06-2.06.94zm10 10l.94 2.06.94-2.06 2.06-.94-2.06-.94-.94-2.06-.94 2.06-2.06.94z\"/><path d=\"M17.41 7.96l-1.37-1.37c-.4-.4-.92-.59-1.43-.59-.52 0-1.04.2-1.43.59L10.3 9.45l-7.72 7.72c-.78.78-.78 2.05 0 2.83L4 21.41c.39.39.9.59 1.41.59.51 0 1.02-.2 1.41-.59l7.78-7.78 2.81-2.81c.8-.78.8-2.07 0-2.86zM5.41 20L4 18.59l7.72-7.72 1.47 1.35L5.41 20z\"/>\n",
              "  </svg>\n",
              "      </button>\n",
              "      \n",
              "  <style>\n",
              "    .colab-df-container {\n",
              "      display:flex;\n",
              "      flex-wrap:wrap;\n",
              "      gap: 12px;\n",
              "    }\n",
              "\n",
              "    .colab-df-convert {\n",
              "      background-color: #E8F0FE;\n",
              "      border: none;\n",
              "      border-radius: 50%;\n",
              "      cursor: pointer;\n",
              "      display: none;\n",
              "      fill: #1967D2;\n",
              "      height: 32px;\n",
              "      padding: 0 0 0 0;\n",
              "      width: 32px;\n",
              "    }\n",
              "\n",
              "    .colab-df-convert:hover {\n",
              "      background-color: #E2EBFA;\n",
              "      box-shadow: 0px 1px 2px rgba(60, 64, 67, 0.3), 0px 1px 3px 1px rgba(60, 64, 67, 0.15);\n",
              "      fill: #174EA6;\n",
              "    }\n",
              "\n",
              "    [theme=dark] .colab-df-convert {\n",
              "      background-color: #3B4455;\n",
              "      fill: #D2E3FC;\n",
              "    }\n",
              "\n",
              "    [theme=dark] .colab-df-convert:hover {\n",
              "      background-color: #434B5C;\n",
              "      box-shadow: 0px 1px 3px 1px rgba(0, 0, 0, 0.15);\n",
              "      filter: drop-shadow(0px 1px 2px rgba(0, 0, 0, 0.3));\n",
              "      fill: #FFFFFF;\n",
              "    }\n",
              "  </style>\n",
              "\n",
              "      <script>\n",
              "        const buttonEl =\n",
              "          document.querySelector('#df-a51a9b6f-7ad2-4e10-961a-5bf015ea4e70 button.colab-df-convert');\n",
              "        buttonEl.style.display =\n",
              "          google.colab.kernel.accessAllowed ? 'block' : 'none';\n",
              "\n",
              "        async function convertToInteractive(key) {\n",
              "          const element = document.querySelector('#df-a51a9b6f-7ad2-4e10-961a-5bf015ea4e70');\n",
              "          const dataTable =\n",
              "            await google.colab.kernel.invokeFunction('convertToInteractive',\n",
              "                                                     [key], {});\n",
              "          if (!dataTable) return;\n",
              "\n",
              "          const docLinkHtml = 'Like what you see? Visit the ' +\n",
              "            '<a target=\"_blank\" href=https://colab.research.google.com/notebooks/data_table.ipynb>data table notebook</a>'\n",
              "            + ' to learn more about interactive tables.';\n",
              "          element.innerHTML = '';\n",
              "          dataTable['output_type'] = 'display_data';\n",
              "          await google.colab.output.renderOutput(dataTable, element);\n",
              "          const docLink = document.createElement('div');\n",
              "          docLink.innerHTML = docLinkHtml;\n",
              "          element.appendChild(docLink);\n",
              "        }\n",
              "      </script>\n",
              "    </div>\n",
              "  </div>\n",
              "  "
            ]
          },
          "metadata": {},
          "execution_count": 10
        }
      ]
    },
    {
      "cell_type": "code",
      "source": [
        "df = pd.concat([df_fake, df_true]).reset_index(drop=True)\n",
        "df"
      ],
      "metadata": {
        "colab": {
          "base_uri": "https://localhost:8080/",
          "height": 424
        },
        "id": "lRr3dJjbdw2H",
        "outputId": "4d48ff7f-418b-4d96-f8ec-3973fa742eb0"
      },
      "execution_count": null,
      "outputs": [
        {
          "output_type": "execute_result",
          "data": {
            "text/plain": [
              "                                                   title  \\\n",
              "0       Donald Trump Sends Out Embarrassing New Year’...   \n",
              "1       Drunk Bragging Trump Staffer Started Russian ...   \n",
              "2       Sheriff David Clarke Becomes An Internet Joke...   \n",
              "3       Trump Is So Obsessed He Even Has Obama’s Name...   \n",
              "4       Pope Francis Just Called Out Donald Trump Dur...   \n",
              "...                                                  ...   \n",
              "44893  'Fully committed' NATO backs new U.S. approach...   \n",
              "44894  LexisNexis withdrew two products from Chinese ...   \n",
              "44895  Minsk cultural hub becomes haven from authorities   \n",
              "44896  Vatican upbeat on possibility of Pope Francis ...   \n",
              "44897  Indonesia to buy $1.14 billion worth of Russia...   \n",
              "\n",
              "                                                    text    subject  \\\n",
              "0      Donald Trump just couldn t wish all Americans ...       News   \n",
              "1      House Intelligence Committee Chairman Devin Nu...       News   \n",
              "2      On Friday, it was revealed that former Milwauk...       News   \n",
              "3      On Christmas day, Donald Trump announced that ...       News   \n",
              "4      Pope Francis used his annual Christmas Day mes...       News   \n",
              "...                                                  ...        ...   \n",
              "44893  BRUSSELS (Reuters) - NATO allies on Tuesday we...  worldnews   \n",
              "44894  LONDON (Reuters) - LexisNexis, a provider of l...  worldnews   \n",
              "44895  MINSK (Reuters) - In the shadow of disused Sov...  worldnews   \n",
              "44896  MOSCOW (Reuters) - Vatican Secretary of State ...  worldnews   \n",
              "44897  JAKARTA (Reuters) - Indonesia will buy 11 Sukh...  worldnews   \n",
              "\n",
              "                    date  is_fake  \n",
              "0      December 31, 2017        1  \n",
              "1      December 31, 2017        1  \n",
              "2      December 30, 2017        1  \n",
              "3      December 29, 2017        1  \n",
              "4      December 25, 2017        1  \n",
              "...                  ...      ...  \n",
              "44893   August 22, 2017         0  \n",
              "44894   August 22, 2017         0  \n",
              "44895   August 22, 2017         0  \n",
              "44896   August 22, 2017         0  \n",
              "44897   August 22, 2017         0  \n",
              "\n",
              "[44898 rows x 5 columns]"
            ],
            "text/html": [
              "\n",
              "  <div id=\"df-2e817117-86b5-44ef-bc9b-09d8430596d0\">\n",
              "    <div class=\"colab-df-container\">\n",
              "      <div>\n",
              "<style scoped>\n",
              "    .dataframe tbody tr th:only-of-type {\n",
              "        vertical-align: middle;\n",
              "    }\n",
              "\n",
              "    .dataframe tbody tr th {\n",
              "        vertical-align: top;\n",
              "    }\n",
              "\n",
              "    .dataframe thead th {\n",
              "        text-align: right;\n",
              "    }\n",
              "</style>\n",
              "<table border=\"1\" class=\"dataframe\">\n",
              "  <thead>\n",
              "    <tr style=\"text-align: right;\">\n",
              "      <th></th>\n",
              "      <th>title</th>\n",
              "      <th>text</th>\n",
              "      <th>subject</th>\n",
              "      <th>date</th>\n",
              "      <th>is_fake</th>\n",
              "    </tr>\n",
              "  </thead>\n",
              "  <tbody>\n",
              "    <tr>\n",
              "      <th>0</th>\n",
              "      <td>Donald Trump Sends Out Embarrassing New Year’...</td>\n",
              "      <td>Donald Trump just couldn t wish all Americans ...</td>\n",
              "      <td>News</td>\n",
              "      <td>December 31, 2017</td>\n",
              "      <td>1</td>\n",
              "    </tr>\n",
              "    <tr>\n",
              "      <th>1</th>\n",
              "      <td>Drunk Bragging Trump Staffer Started Russian ...</td>\n",
              "      <td>House Intelligence Committee Chairman Devin Nu...</td>\n",
              "      <td>News</td>\n",
              "      <td>December 31, 2017</td>\n",
              "      <td>1</td>\n",
              "    </tr>\n",
              "    <tr>\n",
              "      <th>2</th>\n",
              "      <td>Sheriff David Clarke Becomes An Internet Joke...</td>\n",
              "      <td>On Friday, it was revealed that former Milwauk...</td>\n",
              "      <td>News</td>\n",
              "      <td>December 30, 2017</td>\n",
              "      <td>1</td>\n",
              "    </tr>\n",
              "    <tr>\n",
              "      <th>3</th>\n",
              "      <td>Trump Is So Obsessed He Even Has Obama’s Name...</td>\n",
              "      <td>On Christmas day, Donald Trump announced that ...</td>\n",
              "      <td>News</td>\n",
              "      <td>December 29, 2017</td>\n",
              "      <td>1</td>\n",
              "    </tr>\n",
              "    <tr>\n",
              "      <th>4</th>\n",
              "      <td>Pope Francis Just Called Out Donald Trump Dur...</td>\n",
              "      <td>Pope Francis used his annual Christmas Day mes...</td>\n",
              "      <td>News</td>\n",
              "      <td>December 25, 2017</td>\n",
              "      <td>1</td>\n",
              "    </tr>\n",
              "    <tr>\n",
              "      <th>...</th>\n",
              "      <td>...</td>\n",
              "      <td>...</td>\n",
              "      <td>...</td>\n",
              "      <td>...</td>\n",
              "      <td>...</td>\n",
              "    </tr>\n",
              "    <tr>\n",
              "      <th>44893</th>\n",
              "      <td>'Fully committed' NATO backs new U.S. approach...</td>\n",
              "      <td>BRUSSELS (Reuters) - NATO allies on Tuesday we...</td>\n",
              "      <td>worldnews</td>\n",
              "      <td>August 22, 2017</td>\n",
              "      <td>0</td>\n",
              "    </tr>\n",
              "    <tr>\n",
              "      <th>44894</th>\n",
              "      <td>LexisNexis withdrew two products from Chinese ...</td>\n",
              "      <td>LONDON (Reuters) - LexisNexis, a provider of l...</td>\n",
              "      <td>worldnews</td>\n",
              "      <td>August 22, 2017</td>\n",
              "      <td>0</td>\n",
              "    </tr>\n",
              "    <tr>\n",
              "      <th>44895</th>\n",
              "      <td>Minsk cultural hub becomes haven from authorities</td>\n",
              "      <td>MINSK (Reuters) - In the shadow of disused Sov...</td>\n",
              "      <td>worldnews</td>\n",
              "      <td>August 22, 2017</td>\n",
              "      <td>0</td>\n",
              "    </tr>\n",
              "    <tr>\n",
              "      <th>44896</th>\n",
              "      <td>Vatican upbeat on possibility of Pope Francis ...</td>\n",
              "      <td>MOSCOW (Reuters) - Vatican Secretary of State ...</td>\n",
              "      <td>worldnews</td>\n",
              "      <td>August 22, 2017</td>\n",
              "      <td>0</td>\n",
              "    </tr>\n",
              "    <tr>\n",
              "      <th>44897</th>\n",
              "      <td>Indonesia to buy $1.14 billion worth of Russia...</td>\n",
              "      <td>JAKARTA (Reuters) - Indonesia will buy 11 Sukh...</td>\n",
              "      <td>worldnews</td>\n",
              "      <td>August 22, 2017</td>\n",
              "      <td>0</td>\n",
              "    </tr>\n",
              "  </tbody>\n",
              "</table>\n",
              "<p>44898 rows × 5 columns</p>\n",
              "</div>\n",
              "      <button class=\"colab-df-convert\" onclick=\"convertToInteractive('df-2e817117-86b5-44ef-bc9b-09d8430596d0')\"\n",
              "              title=\"Convert this dataframe to an interactive table.\"\n",
              "              style=\"display:none;\">\n",
              "        \n",
              "  <svg xmlns=\"http://www.w3.org/2000/svg\" height=\"24px\"viewBox=\"0 0 24 24\"\n",
              "       width=\"24px\">\n",
              "    <path d=\"M0 0h24v24H0V0z\" fill=\"none\"/>\n",
              "    <path d=\"M18.56 5.44l.94 2.06.94-2.06 2.06-.94-2.06-.94-.94-2.06-.94 2.06-2.06.94zm-11 1L8.5 8.5l.94-2.06 2.06-.94-2.06-.94L8.5 2.5l-.94 2.06-2.06.94zm10 10l.94 2.06.94-2.06 2.06-.94-2.06-.94-.94-2.06-.94 2.06-2.06.94z\"/><path d=\"M17.41 7.96l-1.37-1.37c-.4-.4-.92-.59-1.43-.59-.52 0-1.04.2-1.43.59L10.3 9.45l-7.72 7.72c-.78.78-.78 2.05 0 2.83L4 21.41c.39.39.9.59 1.41.59.51 0 1.02-.2 1.41-.59l7.78-7.78 2.81-2.81c.8-.78.8-2.07 0-2.86zM5.41 20L4 18.59l7.72-7.72 1.47 1.35L5.41 20z\"/>\n",
              "  </svg>\n",
              "      </button>\n",
              "      \n",
              "  <style>\n",
              "    .colab-df-container {\n",
              "      display:flex;\n",
              "      flex-wrap:wrap;\n",
              "      gap: 12px;\n",
              "    }\n",
              "\n",
              "    .colab-df-convert {\n",
              "      background-color: #E8F0FE;\n",
              "      border: none;\n",
              "      border-radius: 50%;\n",
              "      cursor: pointer;\n",
              "      display: none;\n",
              "      fill: #1967D2;\n",
              "      height: 32px;\n",
              "      padding: 0 0 0 0;\n",
              "      width: 32px;\n",
              "    }\n",
              "\n",
              "    .colab-df-convert:hover {\n",
              "      background-color: #E2EBFA;\n",
              "      box-shadow: 0px 1px 2px rgba(60, 64, 67, 0.3), 0px 1px 3px 1px rgba(60, 64, 67, 0.15);\n",
              "      fill: #174EA6;\n",
              "    }\n",
              "\n",
              "    [theme=dark] .colab-df-convert {\n",
              "      background-color: #3B4455;\n",
              "      fill: #D2E3FC;\n",
              "    }\n",
              "\n",
              "    [theme=dark] .colab-df-convert:hover {\n",
              "      background-color: #434B5C;\n",
              "      box-shadow: 0px 1px 3px 1px rgba(0, 0, 0, 0.15);\n",
              "      filter: drop-shadow(0px 1px 2px rgba(0, 0, 0, 0.3));\n",
              "      fill: #FFFFFF;\n",
              "    }\n",
              "  </style>\n",
              "\n",
              "      <script>\n",
              "        const buttonEl =\n",
              "          document.querySelector('#df-2e817117-86b5-44ef-bc9b-09d8430596d0 button.colab-df-convert');\n",
              "        buttonEl.style.display =\n",
              "          google.colab.kernel.accessAllowed ? 'block' : 'none';\n",
              "\n",
              "        async function convertToInteractive(key) {\n",
              "          const element = document.querySelector('#df-2e817117-86b5-44ef-bc9b-09d8430596d0');\n",
              "          const dataTable =\n",
              "            await google.colab.kernel.invokeFunction('convertToInteractive',\n",
              "                                                     [key], {});\n",
              "          if (!dataTable) return;\n",
              "\n",
              "          const docLinkHtml = 'Like what you see? Visit the ' +\n",
              "            '<a target=\"_blank\" href=https://colab.research.google.com/notebooks/data_table.ipynb>data table notebook</a>'\n",
              "            + ' to learn more about interactive tables.';\n",
              "          element.innerHTML = '';\n",
              "          dataTable['output_type'] = 'display_data';\n",
              "          await google.colab.output.renderOutput(dataTable, element);\n",
              "          const docLink = document.createElement('div');\n",
              "          docLink.innerHTML = docLinkHtml;\n",
              "          element.appendChild(docLink);\n",
              "        }\n",
              "      </script>\n",
              "    </div>\n",
              "  </div>\n",
              "  "
            ]
          },
          "metadata": {},
          "execution_count": 11
        }
      ]
    },
    {
      "cell_type": "code",
      "source": [
        "df.info()"
      ],
      "metadata": {
        "colab": {
          "base_uri": "https://localhost:8080/"
        },
        "id": "t0Knf729TeSK",
        "outputId": "21082b88-bdf2-4e51-f07e-0d89cbbe062b"
      },
      "execution_count": null,
      "outputs": [
        {
          "output_type": "stream",
          "name": "stdout",
          "text": [
            "<class 'pandas.core.frame.DataFrame'>\n",
            "RangeIndex: 44898 entries, 0 to 44897\n",
            "Data columns (total 5 columns):\n",
            " #   Column   Non-Null Count  Dtype \n",
            "---  ------   --------------  ----- \n",
            " 0   title    44898 non-null  object\n",
            " 1   text     44898 non-null  object\n",
            " 2   subject  44898 non-null  object\n",
            " 3   date     44898 non-null  object\n",
            " 4   is_fake  44898 non-null  int64 \n",
            "dtypes: int64(1), object(4)\n",
            "memory usage: 1.7+ MB\n"
          ]
        }
      ]
    },
    {
      "cell_type": "code",
      "source": [
        "#We convert the 'date' column to a date type\n",
        "df['date_new'] = pd.to_datetime(df['date'], errors='coerce')\n",
        "\n",
        "# We find all records that are not in the correct format\n",
        "invalid_dates = df[df['date_new'].isna()]\n",
        "invalid_dates"
      ],
      "metadata": {
        "colab": {
          "base_uri": "https://localhost:8080/",
          "height": 363
        },
        "id": "yVNLyA92Vs_P",
        "outputId": "29046e48-f731-4e96-9964-e4d695ba4fdf"
      },
      "execution_count": null,
      "outputs": [
        {
          "output_type": "execute_result",
          "data": {
            "text/plain": [
              "                                                   title  \\\n",
              "9358   https://100percentfedup.com/served-roy-moore-v...   \n",
              "15507  https://100percentfedup.com/video-hillary-aske...   \n",
              "15508  https://100percentfedup.com/12-yr-old-black-co...   \n",
              "15839  https://fedup.wpengine.com/wp-content/uploads/...   \n",
              "15840  https://fedup.wpengine.com/wp-content/uploads/...   \n",
              "17432  https://fedup.wpengine.com/wp-content/uploads/...   \n",
              "17433  https://fedup.wpengine.com/wp-content/uploads/...   \n",
              "18933                                           Homepage   \n",
              "21869  https://fedup.wpengine.com/wp-content/uploads/...   \n",
              "21870  https://fedup.wpengine.com/wp-content/uploads/...   \n",
              "\n",
              "                                                    text          subject  \\\n",
              "9358   https://100percentfedup.com/served-roy-moore-v...         politics   \n",
              "15507  https://100percentfedup.com/video-hillary-aske...         politics   \n",
              "15508  https://100percentfedup.com/12-yr-old-black-co...         politics   \n",
              "15839  https://fedup.wpengine.com/wp-content/uploads/...         politics   \n",
              "15840  https://fedup.wpengine.com/wp-content/uploads/...         politics   \n",
              "17432  https://fedup.wpengine.com/wp-content/uploads/...  Government News   \n",
              "17433  https://fedup.wpengine.com/wp-content/uploads/...  Government News   \n",
              "18933  [vc_row][vc_column width= 1/1 ][td_block_trend...        left-news   \n",
              "21869  https://fedup.wpengine.com/wp-content/uploads/...        left-news   \n",
              "21870  https://fedup.wpengine.com/wp-content/uploads/...        left-news   \n",
              "\n",
              "                                                    date  is_fake date_new  \n",
              "9358   https://100percentfedup.com/served-roy-moore-v...        1      NaT  \n",
              "15507  https://100percentfedup.com/video-hillary-aske...        1      NaT  \n",
              "15508  https://100percentfedup.com/12-yr-old-black-co...        1      NaT  \n",
              "15839  https://fedup.wpengine.com/wp-content/uploads/...        1      NaT  \n",
              "15840  https://fedup.wpengine.com/wp-content/uploads/...        1      NaT  \n",
              "17432  https://fedup.wpengine.com/wp-content/uploads/...        1      NaT  \n",
              "17433  https://fedup.wpengine.com/wp-content/uploads/...        1      NaT  \n",
              "18933  MSNBC HOST Rudely Assumes Steel Worker Would N...        1      NaT  \n",
              "21869  https://fedup.wpengine.com/wp-content/uploads/...        1      NaT  \n",
              "21870  https://fedup.wpengine.com/wp-content/uploads/...        1      NaT  "
            ],
            "text/html": [
              "\n",
              "  <div id=\"df-cc9ba4e4-fb69-4aec-8313-c805f40911b2\">\n",
              "    <div class=\"colab-df-container\">\n",
              "      <div>\n",
              "<style scoped>\n",
              "    .dataframe tbody tr th:only-of-type {\n",
              "        vertical-align: middle;\n",
              "    }\n",
              "\n",
              "    .dataframe tbody tr th {\n",
              "        vertical-align: top;\n",
              "    }\n",
              "\n",
              "    .dataframe thead th {\n",
              "        text-align: right;\n",
              "    }\n",
              "</style>\n",
              "<table border=\"1\" class=\"dataframe\">\n",
              "  <thead>\n",
              "    <tr style=\"text-align: right;\">\n",
              "      <th></th>\n",
              "      <th>title</th>\n",
              "      <th>text</th>\n",
              "      <th>subject</th>\n",
              "      <th>date</th>\n",
              "      <th>is_fake</th>\n",
              "      <th>date_new</th>\n",
              "    </tr>\n",
              "  </thead>\n",
              "  <tbody>\n",
              "    <tr>\n",
              "      <th>9358</th>\n",
              "      <td>https://100percentfedup.com/served-roy-moore-v...</td>\n",
              "      <td>https://100percentfedup.com/served-roy-moore-v...</td>\n",
              "      <td>politics</td>\n",
              "      <td>https://100percentfedup.com/served-roy-moore-v...</td>\n",
              "      <td>1</td>\n",
              "      <td>NaT</td>\n",
              "    </tr>\n",
              "    <tr>\n",
              "      <th>15507</th>\n",
              "      <td>https://100percentfedup.com/video-hillary-aske...</td>\n",
              "      <td>https://100percentfedup.com/video-hillary-aske...</td>\n",
              "      <td>politics</td>\n",
              "      <td>https://100percentfedup.com/video-hillary-aske...</td>\n",
              "      <td>1</td>\n",
              "      <td>NaT</td>\n",
              "    </tr>\n",
              "    <tr>\n",
              "      <th>15508</th>\n",
              "      <td>https://100percentfedup.com/12-yr-old-black-co...</td>\n",
              "      <td>https://100percentfedup.com/12-yr-old-black-co...</td>\n",
              "      <td>politics</td>\n",
              "      <td>https://100percentfedup.com/12-yr-old-black-co...</td>\n",
              "      <td>1</td>\n",
              "      <td>NaT</td>\n",
              "    </tr>\n",
              "    <tr>\n",
              "      <th>15839</th>\n",
              "      <td>https://fedup.wpengine.com/wp-content/uploads/...</td>\n",
              "      <td>https://fedup.wpengine.com/wp-content/uploads/...</td>\n",
              "      <td>politics</td>\n",
              "      <td>https://fedup.wpengine.com/wp-content/uploads/...</td>\n",
              "      <td>1</td>\n",
              "      <td>NaT</td>\n",
              "    </tr>\n",
              "    <tr>\n",
              "      <th>15840</th>\n",
              "      <td>https://fedup.wpengine.com/wp-content/uploads/...</td>\n",
              "      <td>https://fedup.wpengine.com/wp-content/uploads/...</td>\n",
              "      <td>politics</td>\n",
              "      <td>https://fedup.wpengine.com/wp-content/uploads/...</td>\n",
              "      <td>1</td>\n",
              "      <td>NaT</td>\n",
              "    </tr>\n",
              "    <tr>\n",
              "      <th>17432</th>\n",
              "      <td>https://fedup.wpengine.com/wp-content/uploads/...</td>\n",
              "      <td>https://fedup.wpengine.com/wp-content/uploads/...</td>\n",
              "      <td>Government News</td>\n",
              "      <td>https://fedup.wpengine.com/wp-content/uploads/...</td>\n",
              "      <td>1</td>\n",
              "      <td>NaT</td>\n",
              "    </tr>\n",
              "    <tr>\n",
              "      <th>17433</th>\n",
              "      <td>https://fedup.wpengine.com/wp-content/uploads/...</td>\n",
              "      <td>https://fedup.wpengine.com/wp-content/uploads/...</td>\n",
              "      <td>Government News</td>\n",
              "      <td>https://fedup.wpengine.com/wp-content/uploads/...</td>\n",
              "      <td>1</td>\n",
              "      <td>NaT</td>\n",
              "    </tr>\n",
              "    <tr>\n",
              "      <th>18933</th>\n",
              "      <td>Homepage</td>\n",
              "      <td>[vc_row][vc_column width= 1/1 ][td_block_trend...</td>\n",
              "      <td>left-news</td>\n",
              "      <td>MSNBC HOST Rudely Assumes Steel Worker Would N...</td>\n",
              "      <td>1</td>\n",
              "      <td>NaT</td>\n",
              "    </tr>\n",
              "    <tr>\n",
              "      <th>21869</th>\n",
              "      <td>https://fedup.wpengine.com/wp-content/uploads/...</td>\n",
              "      <td>https://fedup.wpengine.com/wp-content/uploads/...</td>\n",
              "      <td>left-news</td>\n",
              "      <td>https://fedup.wpengine.com/wp-content/uploads/...</td>\n",
              "      <td>1</td>\n",
              "      <td>NaT</td>\n",
              "    </tr>\n",
              "    <tr>\n",
              "      <th>21870</th>\n",
              "      <td>https://fedup.wpengine.com/wp-content/uploads/...</td>\n",
              "      <td>https://fedup.wpengine.com/wp-content/uploads/...</td>\n",
              "      <td>left-news</td>\n",
              "      <td>https://fedup.wpengine.com/wp-content/uploads/...</td>\n",
              "      <td>1</td>\n",
              "      <td>NaT</td>\n",
              "    </tr>\n",
              "  </tbody>\n",
              "</table>\n",
              "</div>\n",
              "      <button class=\"colab-df-convert\" onclick=\"convertToInteractive('df-cc9ba4e4-fb69-4aec-8313-c805f40911b2')\"\n",
              "              title=\"Convert this dataframe to an interactive table.\"\n",
              "              style=\"display:none;\">\n",
              "        \n",
              "  <svg xmlns=\"http://www.w3.org/2000/svg\" height=\"24px\"viewBox=\"0 0 24 24\"\n",
              "       width=\"24px\">\n",
              "    <path d=\"M0 0h24v24H0V0z\" fill=\"none\"/>\n",
              "    <path d=\"M18.56 5.44l.94 2.06.94-2.06 2.06-.94-2.06-.94-.94-2.06-.94 2.06-2.06.94zm-11 1L8.5 8.5l.94-2.06 2.06-.94-2.06-.94L8.5 2.5l-.94 2.06-2.06.94zm10 10l.94 2.06.94-2.06 2.06-.94-2.06-.94-.94-2.06-.94 2.06-2.06.94z\"/><path d=\"M17.41 7.96l-1.37-1.37c-.4-.4-.92-.59-1.43-.59-.52 0-1.04.2-1.43.59L10.3 9.45l-7.72 7.72c-.78.78-.78 2.05 0 2.83L4 21.41c.39.39.9.59 1.41.59.51 0 1.02-.2 1.41-.59l7.78-7.78 2.81-2.81c.8-.78.8-2.07 0-2.86zM5.41 20L4 18.59l7.72-7.72 1.47 1.35L5.41 20z\"/>\n",
              "  </svg>\n",
              "      </button>\n",
              "      \n",
              "  <style>\n",
              "    .colab-df-container {\n",
              "      display:flex;\n",
              "      flex-wrap:wrap;\n",
              "      gap: 12px;\n",
              "    }\n",
              "\n",
              "    .colab-df-convert {\n",
              "      background-color: #E8F0FE;\n",
              "      border: none;\n",
              "      border-radius: 50%;\n",
              "      cursor: pointer;\n",
              "      display: none;\n",
              "      fill: #1967D2;\n",
              "      height: 32px;\n",
              "      padding: 0 0 0 0;\n",
              "      width: 32px;\n",
              "    }\n",
              "\n",
              "    .colab-df-convert:hover {\n",
              "      background-color: #E2EBFA;\n",
              "      box-shadow: 0px 1px 2px rgba(60, 64, 67, 0.3), 0px 1px 3px 1px rgba(60, 64, 67, 0.15);\n",
              "      fill: #174EA6;\n",
              "    }\n",
              "\n",
              "    [theme=dark] .colab-df-convert {\n",
              "      background-color: #3B4455;\n",
              "      fill: #D2E3FC;\n",
              "    }\n",
              "\n",
              "    [theme=dark] .colab-df-convert:hover {\n",
              "      background-color: #434B5C;\n",
              "      box-shadow: 0px 1px 3px 1px rgba(0, 0, 0, 0.15);\n",
              "      filter: drop-shadow(0px 1px 2px rgba(0, 0, 0, 0.3));\n",
              "      fill: #FFFFFF;\n",
              "    }\n",
              "  </style>\n",
              "\n",
              "      <script>\n",
              "        const buttonEl =\n",
              "          document.querySelector('#df-cc9ba4e4-fb69-4aec-8313-c805f40911b2 button.colab-df-convert');\n",
              "        buttonEl.style.display =\n",
              "          google.colab.kernel.accessAllowed ? 'block' : 'none';\n",
              "\n",
              "        async function convertToInteractive(key) {\n",
              "          const element = document.querySelector('#df-cc9ba4e4-fb69-4aec-8313-c805f40911b2');\n",
              "          const dataTable =\n",
              "            await google.colab.kernel.invokeFunction('convertToInteractive',\n",
              "                                                     [key], {});\n",
              "          if (!dataTable) return;\n",
              "\n",
              "          const docLinkHtml = 'Like what you see? Visit the ' +\n",
              "            '<a target=\"_blank\" href=https://colab.research.google.com/notebooks/data_table.ipynb>data table notebook</a>'\n",
              "            + ' to learn more about interactive tables.';\n",
              "          element.innerHTML = '';\n",
              "          dataTable['output_type'] = 'display_data';\n",
              "          await google.colab.output.renderOutput(dataTable, element);\n",
              "          const docLink = document.createElement('div');\n",
              "          docLink.innerHTML = docLinkHtml;\n",
              "          element.appendChild(docLink);\n",
              "        }\n",
              "      </script>\n",
              "    </div>\n",
              "  </div>\n",
              "  "
            ]
          },
          "metadata": {},
          "execution_count": 13
        }
      ]
    },
    {
      "cell_type": "code",
      "source": [
        "df.dropna(subset=['date_new'], inplace=True)\n",
        "df.info()"
      ],
      "metadata": {
        "colab": {
          "base_uri": "https://localhost:8080/"
        },
        "id": "OV71A-lnV05b",
        "outputId": "2ba9cd3c-b332-4077-fa86-3967fc18bb7d"
      },
      "execution_count": null,
      "outputs": [
        {
          "output_type": "stream",
          "name": "stdout",
          "text": [
            "<class 'pandas.core.frame.DataFrame'>\n",
            "Int64Index: 44888 entries, 0 to 44897\n",
            "Data columns (total 6 columns):\n",
            " #   Column    Non-Null Count  Dtype         \n",
            "---  ------    --------------  -----         \n",
            " 0   title     44888 non-null  object        \n",
            " 1   text      44888 non-null  object        \n",
            " 2   subject   44888 non-null  object        \n",
            " 3   date      44888 non-null  object        \n",
            " 4   is_fake   44888 non-null  int64         \n",
            " 5   date_new  44888 non-null  datetime64[ns]\n",
            "dtypes: datetime64[ns](1), int64(1), object(4)\n",
            "memory usage: 2.4+ MB\n"
          ]
        }
      ]
    },
    {
      "cell_type": "code",
      "source": [
        "df.drop('date_new', axis=1, inplace=True)"
      ],
      "metadata": {
        "id": "gVKsY15xWNPs"
      },
      "execution_count": null,
      "outputs": []
    },
    {
      "cell_type": "markdown",
      "source": [
        "##Text Cleaning and Embeddings"
      ],
      "metadata": {
        "id": "YRqr8xeguO2G"
      }
    },
    {
      "cell_type": "markdown",
      "source": [
        "###Cleaning"
      ],
      "metadata": {
        "id": "bEF-SINpMh-6"
      }
    },
    {
      "cell_type": "code",
      "source": [
        "nlp = spacy.load('en_core_web_lg')"
      ],
      "metadata": {
        "id": "ZvqsVHgx4InW"
      },
      "execution_count": null,
      "outputs": []
    },
    {
      "cell_type": "code",
      "source": [
        "tqdm.pandas()"
      ],
      "metadata": {
        "id": "RdKFr2z8WQB7"
      },
      "execution_count": null,
      "outputs": []
    },
    {
      "cell_type": "code",
      "source": [
        "def clean_text(text):\n",
        "  \n",
        "  clean_text = []\n",
        "  text = re.sub(r'@\\S+', '', text)\n",
        "  text = nlp(text)\n",
        "  \n",
        "  for token in text:\n",
        "    token.norm_\n",
        "    token.lemma_\n",
        "     \n",
        "    if not (token.is_stop\n",
        "            or token.is_digit\n",
        "            or token.is_punct\n",
        "            or token.like_url\n",
        "            or token.like_email\n",
        "            or token.is_space\n",
        "            or token.is_oov\n",
        "            or len(token)<2) :\n",
        "\n",
        "      clean_text.append(token.text)  \n",
        "     \n",
        "  return ' '.join(clean_text)"
      ],
      "metadata": {
        "id": "ABvAAx54MB3J"
      },
      "execution_count": null,
      "outputs": []
    },
    {
      "cell_type": "code",
      "source": [
        "df['title_progress'] = df['title'].progress_apply(clean_text)\n",
        "df.sample(5)"
      ],
      "metadata": {
        "colab": {
          "base_uri": "https://localhost:8080/",
          "height": 224
        },
        "id": "62kS4G3jlO3-",
        "outputId": "cc0c9f75-8281-40e8-b0a4-d3220498d17a"
      },
      "execution_count": null,
      "outputs": [
        {
          "output_type": "stream",
          "name": "stderr",
          "text": [
            "100%|██████████| 44888/44888 [08:14<00:00, 90.78it/s] \n"
          ]
        },
        {
          "output_type": "execute_result",
          "data": {
            "text/plain": [
              "                                                   title  \\\n",
              "8792    Kim Davis Utters Four Words To Describe Obama...   \n",
              "26226  Stalled Russia sanctions bill hits North Korea...   \n",
              "29390  Homeland Security says will 'comply with judic...   \n",
              "16882  PATRIOT CALL TO ACTION: A Major Storm Is Brewi...   \n",
              "14795  A MUST READ: Homeland Security Director Reveal...   \n",
              "\n",
              "                                                    text          subject  \\\n",
              "8792   Rowan county clerk Kim Davis already had her f...             News   \n",
              "26226  WASHINGTON (Reuters) - A bill that many lawmak...     politicsNews   \n",
              "29390  (Reuters) - The U.S. Department of Homeland Se...     politicsNews   \n",
              "16882   This is a call to action You guys always talk...  Government News   \n",
              "14795  Have you ever noticed how DHS Director Jeh Joh...         politics   \n",
              "\n",
              "                    date  is_fake  \\\n",
              "8792    January 13, 2016        1   \n",
              "26226     July 14, 2017         0   \n",
              "29390  January 29, 2017         0   \n",
              "16882       Dec 30, 2015        1   \n",
              "14795       Dec 14, 2015        1   \n",
              "\n",
              "                                          title_progress  \n",
              "8792   Kim Davis Utters Words Describe Obama Speech G...  \n",
              "26226  Stalled Russia sanctions bill hits North Korea...  \n",
              "29390      Homeland Security says comply judicial orders  \n",
              "16882  PATRIOT ACTION Major Storm Brewing Oregon Fed ...  \n",
              "14795  READ Homeland Security Director Reveals Sides ...  "
            ],
            "text/html": [
              "\n",
              "  <div id=\"df-afee08ba-3f2b-40e3-b21a-1f520c13bd46\">\n",
              "    <div class=\"colab-df-container\">\n",
              "      <div>\n",
              "<style scoped>\n",
              "    .dataframe tbody tr th:only-of-type {\n",
              "        vertical-align: middle;\n",
              "    }\n",
              "\n",
              "    .dataframe tbody tr th {\n",
              "        vertical-align: top;\n",
              "    }\n",
              "\n",
              "    .dataframe thead th {\n",
              "        text-align: right;\n",
              "    }\n",
              "</style>\n",
              "<table border=\"1\" class=\"dataframe\">\n",
              "  <thead>\n",
              "    <tr style=\"text-align: right;\">\n",
              "      <th></th>\n",
              "      <th>title</th>\n",
              "      <th>text</th>\n",
              "      <th>subject</th>\n",
              "      <th>date</th>\n",
              "      <th>is_fake</th>\n",
              "      <th>title_progress</th>\n",
              "    </tr>\n",
              "  </thead>\n",
              "  <tbody>\n",
              "    <tr>\n",
              "      <th>8792</th>\n",
              "      <td>Kim Davis Utters Four Words To Describe Obama...</td>\n",
              "      <td>Rowan county clerk Kim Davis already had her f...</td>\n",
              "      <td>News</td>\n",
              "      <td>January 13, 2016</td>\n",
              "      <td>1</td>\n",
              "      <td>Kim Davis Utters Words Describe Obama Speech G...</td>\n",
              "    </tr>\n",
              "    <tr>\n",
              "      <th>26226</th>\n",
              "      <td>Stalled Russia sanctions bill hits North Korea...</td>\n",
              "      <td>WASHINGTON (Reuters) - A bill that many lawmak...</td>\n",
              "      <td>politicsNews</td>\n",
              "      <td>July 14, 2017</td>\n",
              "      <td>0</td>\n",
              "      <td>Stalled Russia sanctions bill hits North Korea...</td>\n",
              "    </tr>\n",
              "    <tr>\n",
              "      <th>29390</th>\n",
              "      <td>Homeland Security says will 'comply with judic...</td>\n",
              "      <td>(Reuters) - The U.S. Department of Homeland Se...</td>\n",
              "      <td>politicsNews</td>\n",
              "      <td>January 29, 2017</td>\n",
              "      <td>0</td>\n",
              "      <td>Homeland Security says comply judicial orders</td>\n",
              "    </tr>\n",
              "    <tr>\n",
              "      <th>16882</th>\n",
              "      <td>PATRIOT CALL TO ACTION: A Major Storm Is Brewi...</td>\n",
              "      <td>This is a call to action You guys always talk...</td>\n",
              "      <td>Government News</td>\n",
              "      <td>Dec 30, 2015</td>\n",
              "      <td>1</td>\n",
              "      <td>PATRIOT ACTION Major Storm Brewing Oregon Fed ...</td>\n",
              "    </tr>\n",
              "    <tr>\n",
              "      <th>14795</th>\n",
              "      <td>A MUST READ: Homeland Security Director Reveal...</td>\n",
              "      <td>Have you ever noticed how DHS Director Jeh Joh...</td>\n",
              "      <td>politics</td>\n",
              "      <td>Dec 14, 2015</td>\n",
              "      <td>1</td>\n",
              "      <td>READ Homeland Security Director Reveals Sides ...</td>\n",
              "    </tr>\n",
              "  </tbody>\n",
              "</table>\n",
              "</div>\n",
              "      <button class=\"colab-df-convert\" onclick=\"convertToInteractive('df-afee08ba-3f2b-40e3-b21a-1f520c13bd46')\"\n",
              "              title=\"Convert this dataframe to an interactive table.\"\n",
              "              style=\"display:none;\">\n",
              "        \n",
              "  <svg xmlns=\"http://www.w3.org/2000/svg\" height=\"24px\"viewBox=\"0 0 24 24\"\n",
              "       width=\"24px\">\n",
              "    <path d=\"M0 0h24v24H0V0z\" fill=\"none\"/>\n",
              "    <path d=\"M18.56 5.44l.94 2.06.94-2.06 2.06-.94-2.06-.94-.94-2.06-.94 2.06-2.06.94zm-11 1L8.5 8.5l.94-2.06 2.06-.94-2.06-.94L8.5 2.5l-.94 2.06-2.06.94zm10 10l.94 2.06.94-2.06 2.06-.94-2.06-.94-.94-2.06-.94 2.06-2.06.94z\"/><path d=\"M17.41 7.96l-1.37-1.37c-.4-.4-.92-.59-1.43-.59-.52 0-1.04.2-1.43.59L10.3 9.45l-7.72 7.72c-.78.78-.78 2.05 0 2.83L4 21.41c.39.39.9.59 1.41.59.51 0 1.02-.2 1.41-.59l7.78-7.78 2.81-2.81c.8-.78.8-2.07 0-2.86zM5.41 20L4 18.59l7.72-7.72 1.47 1.35L5.41 20z\"/>\n",
              "  </svg>\n",
              "      </button>\n",
              "      \n",
              "  <style>\n",
              "    .colab-df-container {\n",
              "      display:flex;\n",
              "      flex-wrap:wrap;\n",
              "      gap: 12px;\n",
              "    }\n",
              "\n",
              "    .colab-df-convert {\n",
              "      background-color: #E8F0FE;\n",
              "      border: none;\n",
              "      border-radius: 50%;\n",
              "      cursor: pointer;\n",
              "      display: none;\n",
              "      fill: #1967D2;\n",
              "      height: 32px;\n",
              "      padding: 0 0 0 0;\n",
              "      width: 32px;\n",
              "    }\n",
              "\n",
              "    .colab-df-convert:hover {\n",
              "      background-color: #E2EBFA;\n",
              "      box-shadow: 0px 1px 2px rgba(60, 64, 67, 0.3), 0px 1px 3px 1px rgba(60, 64, 67, 0.15);\n",
              "      fill: #174EA6;\n",
              "    }\n",
              "\n",
              "    [theme=dark] .colab-df-convert {\n",
              "      background-color: #3B4455;\n",
              "      fill: #D2E3FC;\n",
              "    }\n",
              "\n",
              "    [theme=dark] .colab-df-convert:hover {\n",
              "      background-color: #434B5C;\n",
              "      box-shadow: 0px 1px 3px 1px rgba(0, 0, 0, 0.15);\n",
              "      filter: drop-shadow(0px 1px 2px rgba(0, 0, 0, 0.3));\n",
              "      fill: #FFFFFF;\n",
              "    }\n",
              "  </style>\n",
              "\n",
              "      <script>\n",
              "        const buttonEl =\n",
              "          document.querySelector('#df-afee08ba-3f2b-40e3-b21a-1f520c13bd46 button.colab-df-convert');\n",
              "        buttonEl.style.display =\n",
              "          google.colab.kernel.accessAllowed ? 'block' : 'none';\n",
              "\n",
              "        async function convertToInteractive(key) {\n",
              "          const element = document.querySelector('#df-afee08ba-3f2b-40e3-b21a-1f520c13bd46');\n",
              "          const dataTable =\n",
              "            await google.colab.kernel.invokeFunction('convertToInteractive',\n",
              "                                                     [key], {});\n",
              "          if (!dataTable) return;\n",
              "\n",
              "          const docLinkHtml = 'Like what you see? Visit the ' +\n",
              "            '<a target=\"_blank\" href=https://colab.research.google.com/notebooks/data_table.ipynb>data table notebook</a>'\n",
              "            + ' to learn more about interactive tables.';\n",
              "          element.innerHTML = '';\n",
              "          dataTable['output_type'] = 'display_data';\n",
              "          await google.colab.output.renderOutput(dataTable, element);\n",
              "          const docLink = document.createElement('div');\n",
              "          docLink.innerHTML = docLinkHtml;\n",
              "          element.appendChild(docLink);\n",
              "        }\n",
              "      </script>\n",
              "    </div>\n",
              "  </div>\n",
              "  "
            ]
          },
          "metadata": {},
          "execution_count": 19
        }
      ]
    },
    {
      "cell_type": "code",
      "source": [
        "df['text_progress'] = df['text'].progress_apply(clean_text)\n",
        "df.sample(5)"
      ],
      "metadata": {
        "id": "uruGC3YF9SNk",
        "colab": {
          "base_uri": "https://localhost:8080/",
          "height": 354
        },
        "outputId": "9eadcd42-1220-4c0c-9dc3-c9d9e242239b"
      },
      "execution_count": null,
      "outputs": [
        {
          "output_type": "stream",
          "name": "stderr",
          "text": [
            "100%|██████████| 44888/44888 [1:09:09<00:00, 10.82it/s]\n"
          ]
        },
        {
          "output_type": "execute_result",
          "data": {
            "text/plain": [
              "                                                   title  \\\n",
              "32171  Trump employee apologizes for Melania speech '...   \n",
              "26577  Trump lawyers make final Supreme Court pitch o...   \n",
              "43718  Hardliners protest French labor reform after M...   \n",
              "34894  Pakistan allows wife, mother to visit Indian m...   \n",
              "11294  AFGHANISTAN AMBASSADOR Was Delightfully Shocke...   \n",
              "\n",
              "                                                    text       subject  \\\n",
              "32171  CLEVELAND (Reuters) - A staff writer for the T...  politicsNews   \n",
              "26577  WASHINGTON (Reuters) - The Trump administratio...  politicsNews   \n",
              "43718  PARIS (Reuters) - Tens of thousands of hard-le...     worldnews   \n",
              "34894  ISLAMABAD (Reuters) - Pakistan allowed the wif...     worldnews   \n",
              "11294   Donald Trump wanted to win, where as before, ...      politics   \n",
              "\n",
              "                      date  is_fake  \\\n",
              "32171       July 20, 2016         0   \n",
              "26577       June 21, 2017         0   \n",
              "43718  September 11, 2017         0   \n",
              "34894   December 25, 2017         0   \n",
              "11294         Mar 26, 2017        1   \n",
              "\n",
              "                                          title_progress  \\\n",
              "32171     Trump employee apologizes Melania speech chaos   \n",
              "26577  Trump lawyers final Supreme Court pitch travel...   \n",
              "43718  Hardliners protest French labor reform Macron ...   \n",
              "34894  Pakistan allows wife mother visit Indian man s...   \n",
              "11294  AFGHANISTAN AMBASSADOR Delightfully Shocked Me...   \n",
              "\n",
              "                                               title_emb  \\\n",
              "32171  [1.5538384, 0.32557502, -1.6243418, 2.1161666,...   \n",
              "26577  [0.48249123, 3.04705, -1.0629625, 2.5656116, 1...   \n",
              "43718  [-1.8866061, 0.29881, -1.1778069, 2.2232857, 3...   \n",
              "34894  [-0.8044689, -0.1768633, -1.7313766, -1.080972...   \n",
              "11294  [0.88387537, 0.020605028, -0.4923081, 0.942696...   \n",
              "\n",
              "                                           text_progress  \n",
              "32171  CLEVELAND Reuters staff writer Trump Organizat...  \n",
              "26577  WASHINGTON Reuters Trump administration Wednes...  \n",
              "43718  PARIS Reuters Tens thousands hard left trade u...  \n",
              "34894  ISLAMABAD Reuters Pakistan allowed wife mother...  \n",
              "11294  Donald Trump wanted win President Obama didn w...  "
            ],
            "text/html": [
              "\n",
              "  <div id=\"df-d117dfcc-4274-43ef-a566-9ef8b0e1f745\">\n",
              "    <div class=\"colab-df-container\">\n",
              "      <div>\n",
              "<style scoped>\n",
              "    .dataframe tbody tr th:only-of-type {\n",
              "        vertical-align: middle;\n",
              "    }\n",
              "\n",
              "    .dataframe tbody tr th {\n",
              "        vertical-align: top;\n",
              "    }\n",
              "\n",
              "    .dataframe thead th {\n",
              "        text-align: right;\n",
              "    }\n",
              "</style>\n",
              "<table border=\"1\" class=\"dataframe\">\n",
              "  <thead>\n",
              "    <tr style=\"text-align: right;\">\n",
              "      <th></th>\n",
              "      <th>title</th>\n",
              "      <th>text</th>\n",
              "      <th>subject</th>\n",
              "      <th>date</th>\n",
              "      <th>is_fake</th>\n",
              "      <th>title_progress</th>\n",
              "      <th>title_emb</th>\n",
              "      <th>text_progress</th>\n",
              "    </tr>\n",
              "  </thead>\n",
              "  <tbody>\n",
              "    <tr>\n",
              "      <th>32171</th>\n",
              "      <td>Trump employee apologizes for Melania speech '...</td>\n",
              "      <td>CLEVELAND (Reuters) - A staff writer for the T...</td>\n",
              "      <td>politicsNews</td>\n",
              "      <td>July 20, 2016</td>\n",
              "      <td>0</td>\n",
              "      <td>Trump employee apologizes Melania speech chaos</td>\n",
              "      <td>[1.5538384, 0.32557502, -1.6243418, 2.1161666,...</td>\n",
              "      <td>CLEVELAND Reuters staff writer Trump Organizat...</td>\n",
              "    </tr>\n",
              "    <tr>\n",
              "      <th>26577</th>\n",
              "      <td>Trump lawyers make final Supreme Court pitch o...</td>\n",
              "      <td>WASHINGTON (Reuters) - The Trump administratio...</td>\n",
              "      <td>politicsNews</td>\n",
              "      <td>June 21, 2017</td>\n",
              "      <td>0</td>\n",
              "      <td>Trump lawyers final Supreme Court pitch travel...</td>\n",
              "      <td>[0.48249123, 3.04705, -1.0629625, 2.5656116, 1...</td>\n",
              "      <td>WASHINGTON Reuters Trump administration Wednes...</td>\n",
              "    </tr>\n",
              "    <tr>\n",
              "      <th>43718</th>\n",
              "      <td>Hardliners protest French labor reform after M...</td>\n",
              "      <td>PARIS (Reuters) - Tens of thousands of hard-le...</td>\n",
              "      <td>worldnews</td>\n",
              "      <td>September 11, 2017</td>\n",
              "      <td>0</td>\n",
              "      <td>Hardliners protest French labor reform Macron ...</td>\n",
              "      <td>[-1.8866061, 0.29881, -1.1778069, 2.2232857, 3...</td>\n",
              "      <td>PARIS Reuters Tens thousands hard left trade u...</td>\n",
              "    </tr>\n",
              "    <tr>\n",
              "      <th>34894</th>\n",
              "      <td>Pakistan allows wife, mother to visit Indian m...</td>\n",
              "      <td>ISLAMABAD (Reuters) - Pakistan allowed the wif...</td>\n",
              "      <td>worldnews</td>\n",
              "      <td>December 25, 2017</td>\n",
              "      <td>0</td>\n",
              "      <td>Pakistan allows wife mother visit Indian man s...</td>\n",
              "      <td>[-0.8044689, -0.1768633, -1.7313766, -1.080972...</td>\n",
              "      <td>ISLAMABAD Reuters Pakistan allowed wife mother...</td>\n",
              "    </tr>\n",
              "    <tr>\n",
              "      <th>11294</th>\n",
              "      <td>AFGHANISTAN AMBASSADOR Was Delightfully Shocke...</td>\n",
              "      <td>Donald Trump wanted to win, where as before, ...</td>\n",
              "      <td>politics</td>\n",
              "      <td>Mar 26, 2017</td>\n",
              "      <td>1</td>\n",
              "      <td>AFGHANISTAN AMBASSADOR Delightfully Shocked Me...</td>\n",
              "      <td>[0.88387537, 0.020605028, -0.4923081, 0.942696...</td>\n",
              "      <td>Donald Trump wanted win President Obama didn w...</td>\n",
              "    </tr>\n",
              "  </tbody>\n",
              "</table>\n",
              "</div>\n",
              "      <button class=\"colab-df-convert\" onclick=\"convertToInteractive('df-d117dfcc-4274-43ef-a566-9ef8b0e1f745')\"\n",
              "              title=\"Convert this dataframe to an interactive table.\"\n",
              "              style=\"display:none;\">\n",
              "        \n",
              "  <svg xmlns=\"http://www.w3.org/2000/svg\" height=\"24px\"viewBox=\"0 0 24 24\"\n",
              "       width=\"24px\">\n",
              "    <path d=\"M0 0h24v24H0V0z\" fill=\"none\"/>\n",
              "    <path d=\"M18.56 5.44l.94 2.06.94-2.06 2.06-.94-2.06-.94-.94-2.06-.94 2.06-2.06.94zm-11 1L8.5 8.5l.94-2.06 2.06-.94-2.06-.94L8.5 2.5l-.94 2.06-2.06.94zm10 10l.94 2.06.94-2.06 2.06-.94-2.06-.94-.94-2.06-.94 2.06-2.06.94z\"/><path d=\"M17.41 7.96l-1.37-1.37c-.4-.4-.92-.59-1.43-.59-.52 0-1.04.2-1.43.59L10.3 9.45l-7.72 7.72c-.78.78-.78 2.05 0 2.83L4 21.41c.39.39.9.59 1.41.59.51 0 1.02-.2 1.41-.59l7.78-7.78 2.81-2.81c.8-.78.8-2.07 0-2.86zM5.41 20L4 18.59l7.72-7.72 1.47 1.35L5.41 20z\"/>\n",
              "  </svg>\n",
              "      </button>\n",
              "      \n",
              "  <style>\n",
              "    .colab-df-container {\n",
              "      display:flex;\n",
              "      flex-wrap:wrap;\n",
              "      gap: 12px;\n",
              "    }\n",
              "\n",
              "    .colab-df-convert {\n",
              "      background-color: #E8F0FE;\n",
              "      border: none;\n",
              "      border-radius: 50%;\n",
              "      cursor: pointer;\n",
              "      display: none;\n",
              "      fill: #1967D2;\n",
              "      height: 32px;\n",
              "      padding: 0 0 0 0;\n",
              "      width: 32px;\n",
              "    }\n",
              "\n",
              "    .colab-df-convert:hover {\n",
              "      background-color: #E2EBFA;\n",
              "      box-shadow: 0px 1px 2px rgba(60, 64, 67, 0.3), 0px 1px 3px 1px rgba(60, 64, 67, 0.15);\n",
              "      fill: #174EA6;\n",
              "    }\n",
              "\n",
              "    [theme=dark] .colab-df-convert {\n",
              "      background-color: #3B4455;\n",
              "      fill: #D2E3FC;\n",
              "    }\n",
              "\n",
              "    [theme=dark] .colab-df-convert:hover {\n",
              "      background-color: #434B5C;\n",
              "      box-shadow: 0px 1px 3px 1px rgba(0, 0, 0, 0.15);\n",
              "      filter: drop-shadow(0px 1px 2px rgba(0, 0, 0, 0.3));\n",
              "      fill: #FFFFFF;\n",
              "    }\n",
              "  </style>\n",
              "\n",
              "      <script>\n",
              "        const buttonEl =\n",
              "          document.querySelector('#df-d117dfcc-4274-43ef-a566-9ef8b0e1f745 button.colab-df-convert');\n",
              "        buttonEl.style.display =\n",
              "          google.colab.kernel.accessAllowed ? 'block' : 'none';\n",
              "\n",
              "        async function convertToInteractive(key) {\n",
              "          const element = document.querySelector('#df-d117dfcc-4274-43ef-a566-9ef8b0e1f745');\n",
              "          const dataTable =\n",
              "            await google.colab.kernel.invokeFunction('convertToInteractive',\n",
              "                                                     [key], {});\n",
              "          if (!dataTable) return;\n",
              "\n",
              "          const docLinkHtml = 'Like what you see? Visit the ' +\n",
              "            '<a target=\"_blank\" href=https://colab.research.google.com/notebooks/data_table.ipynb>data table notebook</a>'\n",
              "            + ' to learn more about interactive tables.';\n",
              "          element.innerHTML = '';\n",
              "          dataTable['output_type'] = 'display_data';\n",
              "          await google.colab.output.renderOutput(dataTable, element);\n",
              "          const docLink = document.createElement('div');\n",
              "          docLink.innerHTML = docLinkHtml;\n",
              "          element.appendChild(docLink);\n",
              "        }\n",
              "      </script>\n",
              "    </div>\n",
              "  </div>\n",
              "  "
            ]
          },
          "metadata": {},
          "execution_count": 44
        }
      ]
    },
    {
      "cell_type": "markdown",
      "source": [
        "###Embeddings"
      ],
      "metadata": {
        "id": "CkpzokfnMAZb"
      }
    },
    {
      "cell_type": "code",
      "source": [
        "df['title_emb'] = df['title_progress'].progress_apply(lambda x: nlp(x).vector)"
      ],
      "metadata": {
        "id": "A5Pa0-p86iB0",
        "colab": {
          "base_uri": "https://localhost:8080/"
        },
        "outputId": "288747cf-e3c9-45dc-8a30-eb867ac46790"
      },
      "execution_count": null,
      "outputs": [
        {
          "output_type": "stream",
          "name": "stderr",
          "text": [
            "100%|██████████| 44888/44888 [07:28<00:00, 100.02it/s]\n"
          ]
        }
      ]
    },
    {
      "cell_type": "code",
      "source": [
        "df['text_emb'] = df['text_progress'].progress_apply(lambda x: nlp(x).vector)"
      ],
      "metadata": {
        "id": "dxSw0-Da7ag2",
        "colab": {
          "base_uri": "https://localhost:8080/"
        },
        "outputId": "36329b49-7398-4fe3-ec94-e85516dcec9d"
      },
      "execution_count": null,
      "outputs": [
        {
          "output_type": "stream",
          "name": "stderr",
          "text": [
            "100%|██████████| 44888/44888 [35:32<00:00, 21.05it/s]\n"
          ]
        }
      ]
    },
    {
      "cell_type": "markdown",
      "source": [
        "##Saving processed data"
      ],
      "metadata": {
        "id": "0OY7PLEm5AFW"
      }
    },
    {
      "cell_type": "code",
      "source": [
        "drive.mount('/content/drive')\n",
        "\n",
        "csv_file_path = '/content/drive/MyDrive/Processed_Data/fake_news_processed_data.csv'\n",
        "df.to_csv(csv_file_path, index=False)"
      ],
      "metadata": {
        "colab": {
          "base_uri": "https://localhost:8080/"
        },
        "id": "9Qacxa9VJgsg",
        "outputId": "038c3244-5058-4b3a-a859-612e5376150d"
      },
      "execution_count": null,
      "outputs": [
        {
          "output_type": "stream",
          "name": "stdout",
          "text": [
            "Drive already mounted at /content/drive; to attempt to forcibly remount, call drive.mount(\"/content/drive\", force_remount=True).\n"
          ]
        }
      ]
    },
    {
      "cell_type": "markdown",
      "source": [
        "##Reading processed data"
      ],
      "metadata": {
        "id": "mfaojb3gMJJA"
      }
    },
    {
      "cell_type": "code",
      "source": [
        "csv_file_path = '/content/drive/MyDrive/Processed_Data/fake_news_processed_data.csv'\n",
        "df=pd.read_csv(csv_file_path)"
      ],
      "metadata": {
        "id": "9P0h5DTt8DJo"
      },
      "execution_count": null,
      "outputs": []
    },
    {
      "cell_type": "markdown",
      "source": [
        "#Splitting our dataset into a train/validation/test split"
      ],
      "metadata": {
        "id": "Mk7-FfNSS6Tb"
      }
    },
    {
      "cell_type": "code",
      "source": [
        "class TextDataset(Dataset):\n",
        "  def __init__(self, vectors, labels):\n",
        "    self.vectors = vectors\n",
        "    self.labels = labels\n",
        "    \n",
        "  def __len__(self):\n",
        "    return len(self.labels)\n",
        "    \n",
        "  def __getitem__(self, idx):\n",
        "    return self.vectors[idx], self.labels[idx]"
      ],
      "metadata": {
        "id": "DiYWaksKoAur"
      },
      "execution_count": null,
      "outputs": []
    },
    {
      "cell_type": "code",
      "source": [
        "def get_dataloaders(X, y, batch_size):\n",
        "  X_train, X_test, y_train, y_test = train_test_split(X, y, test_size=0.2, stratify=y, random_state=6)\n",
        "  X_train, X_val, y_train, y_val = train_test_split(X_train, y_train, test_size=0.25, stratify=y_train, random_state=6)   \n",
        "\n",
        "  X_train, X_val, X_test = torch.Tensor(X_train.tolist()), torch.Tensor(X_val.tolist()), torch.Tensor(X_test.tolist())\n",
        "  y_train, y_val, y_test = torch.Tensor(y_train.values), torch.Tensor(y_val.values), torch.Tensor(y_test.values)\n",
        "\n",
        "  train_data = TextDataset(X_train, y_train)\n",
        "  val_data = TextDataset(X_val, y_val)\n",
        "  test_data = TextDataset(X_test, y_test)\n",
        "\n",
        "  train_dataloader = DataLoader(train_data, batch_size=batch_size, shuffle=True)\n",
        "  val_dataloader = DataLoader(val_data, batch_size=batch_size, shuffle=False)\n",
        "  test_dataloader = DataLoader(test_data, batch_size=batch_size, shuffle=False)\n",
        "\n",
        "  return  train_dataloader, val_dataloader, test_dataloader"
      ],
      "metadata": {
        "id": "vRYtZx8QzSvJ"
      },
      "execution_count": null,
      "outputs": []
    },
    {
      "cell_type": "markdown",
      "source": [
        "#Neural Network"
      ],
      "metadata": {
        "id": "DPK2xtwwSvUx"
      }
    },
    {
      "cell_type": "markdown",
      "source": [
        "##Model bulding"
      ],
      "metadata": {
        "id": "k1LjJAh8aaCE"
      }
    },
    {
      "cell_type": "code",
      "source": [
        "class SimpleNet(nn.Module):\n",
        "    def __init__(self, n_inputs, n_hidden, n_outputs, dropout):\n",
        "        super(SimpleNet, self).__init__()\n",
        "        self.fc1 = nn.Linear(n_inputs, n_hidden)\n",
        "        self.dropout = nn.Dropout(dropout)\n",
        "        self.fc2 = nn.Linear(n_hidden, n_outputs)\n",
        "        self.relu = nn.ReLU()\n",
        "        self.sigmoid = nn.Sigmoid()\n",
        "        \n",
        "    def forward(self, x):\n",
        "        out = self.fc1(x)\n",
        "        out = self.relu(out)\n",
        "        out = self.dropout(out)\n",
        "        out = self.fc2(out)\n",
        "        out = self.sigmoid(out)\n",
        "        return out"
      ],
      "metadata": {
        "id": "NIVQYUArXTLW"
      },
      "execution_count": null,
      "outputs": []
    },
    {
      "cell_type": "code",
      "source": [
        "def weights_init(m):\n",
        "    if isinstance(m, nn.Linear):\n",
        "        nn.init.xavier_uniform_(m.weight.data)\n",
        "        nn.init.zeros_(m.bias.data)"
      ],
      "metadata": {
        "id": "37pJen5Yb8av"
      },
      "execution_count": null,
      "outputs": []
    },
    {
      "cell_type": "code",
      "source": [
        "n_inputs = 300\n",
        "n_hidden = 50\n",
        "n_outputs = 1\n",
        "dropout = 0.1\n",
        "\n",
        "learning_rate = 0.001"
      ],
      "metadata": {
        "id": "7P_kzq6CYJa2"
      },
      "execution_count": null,
      "outputs": []
    },
    {
      "cell_type": "code",
      "source": [
        "model = SimpleNet(n_inputs, n_hidden, n_outputs, dropout)"
      ],
      "metadata": {
        "id": "nk6ffrelYeyV"
      },
      "execution_count": null,
      "outputs": []
    },
    {
      "cell_type": "code",
      "source": [
        "optimizer = torch.optim.Adam(model.parameters(), lr=learning_rate)\n",
        "criterion = torch.nn.BCELoss()"
      ],
      "metadata": {
        "id": "SGhs4X5vY0EQ"
      },
      "execution_count": null,
      "outputs": []
    },
    {
      "cell_type": "code",
      "source": [
        "def train_loop(dataloader, model, optimizer, criterion):\n",
        "    size = len(dataloader.dataset)\n",
        "    num_batches = len(dataloader)\n",
        "    train_loss, correct, correct_sum = 0, 0, 0\n",
        "\n",
        "    for batch, (vectors, labels) in enumerate(dataloader):\n",
        "        \n",
        "      # Compute prediction and loss\n",
        "      outputs = model(vectors)\n",
        "      loss = criterion(outputs, labels.unsqueeze(1))\n",
        "\n",
        "      # Backpropagation\n",
        "      optimizer.zero_grad()\n",
        "      loss.backward()\n",
        "      optimizer.step()\n",
        "\n",
        "      train_loss +=loss.item()\n",
        "      predicted = torch.round(outputs)\n",
        "      correct = torch.eq(predicted, labels.unsqueeze(1)).sum()\n",
        "      correct_sum += correct.item()\n",
        "\n",
        "    train_loss /= num_batches\n",
        "    accuracy = 100 * correct_sum / size\n",
        "    print(f'Loss: {train_loss:.6f},  Accuracy: {accuracy:.2f}%', end='    ')\n",
        "\n",
        "    return train_loss, accuracy\n",
        "\n",
        "\n",
        "def test_loop(dataloader, model, criterion):\n",
        "    size = len(dataloader.dataset)\n",
        "    num_batches = len(dataloader)\n",
        "    test_loss, correct, correct_sum = 0, 0, 0\n",
        "\n",
        "    with torch.no_grad():\n",
        "        for vectors, labels in dataloader:\n",
        "            outputs = model(vectors)\n",
        "            test_loss += criterion(outputs, labels.unsqueeze(1)).item()\n",
        "            predicted = torch.round(outputs)\n",
        "            correct = torch.eq(predicted, labels.unsqueeze(1)).sum()\n",
        "            correct_sum += correct.item()\n",
        "\n",
        "    test_loss /= num_batches\n",
        "    accuracy = 100 * correct_sum / size\n",
        "    print(f'Loss: {test_loss:.6f},  Accuracy: {accuracy:.2f}%')\n",
        "\n",
        "    return test_loss, accuracy"
      ],
      "metadata": {
        "id": "jqm4D5SlZWi3"
      },
      "execution_count": null,
      "outputs": []
    },
    {
      "cell_type": "markdown",
      "source": [
        "##Prediction based on 'title'"
      ],
      "metadata": {
        "id": "dTov_pbdaVxh"
      }
    },
    {
      "cell_type": "code",
      "source": [
        "train_dataloader, val_dataloader, test_dataloader = get_dataloaders(df['title_emb'], df['is_fake'], batch_size=512)"
      ],
      "metadata": {
        "id": "3F-aXCsfaUuJ"
      },
      "execution_count": null,
      "outputs": []
    },
    {
      "cell_type": "code",
      "source": [
        "epochs = 100\n",
        "train_loss_history = []\n",
        "train_accuracy_history = []\n",
        "val_loss_history = []\n",
        "val_accuracy_history = []\n",
        "best_accuracy = 0\n",
        "\n",
        "model.apply(weights_init)\n",
        "\n",
        "for epoch in range(epochs):\n",
        "    print(f'Epoch {epoch+1}:  ', end='')\n",
        "    print(f'Train: ', end='')\n",
        "    train_loss, train_accuracy = train_loop(train_dataloader, model, optimizer, criterion)\n",
        "    print(f'Validation: ', end='')\n",
        "    val_loss, val_accuracy = test_loop(val_dataloader, model, criterion)\n",
        "\n",
        "    if val_accuracy > best_accuracy:\n",
        "        best_accuracy = val_accuracy\n",
        "        best_model = model\n",
        "        torch.save(model.state_dict(), 'best_model.pt')\n",
        "\n",
        "    train_loss_history.append(train_loss)\n",
        "    train_accuracy_history.append(train_accuracy)\n",
        "    val_loss_history.append(val_loss)\n",
        "    val_accuracy_history.append(val_accuracy)\n",
        "\n",
        "print('Done!')"
      ],
      "metadata": {
        "colab": {
          "base_uri": "https://localhost:8080/"
        },
        "id": "38rs9uS_Zgd6",
        "outputId": "587e1c1c-1d16-4791-dc19-cb4698864806"
      },
      "execution_count": null,
      "outputs": [
        {
          "output_type": "stream",
          "name": "stdout",
          "text": [
            "Epoch 1:  Train: Loss: 0.151185,  Accuracy: 94.40%    Validation: Loss: 0.039277,  Accuracy: 98.76%\n",
            "Epoch 2:  Train: Loss: 0.034158,  Accuracy: 98.88%    Validation: Loss: 0.028924,  Accuracy: 99.05%\n",
            "Epoch 3:  Train: Loss: 0.026794,  Accuracy: 99.13%    Validation: Loss: 0.024287,  Accuracy: 99.15%\n",
            "Epoch 4:  Train: Loss: 0.024516,  Accuracy: 99.18%    Validation: Loss: 0.021711,  Accuracy: 99.33%\n",
            "Epoch 5:  Train: Loss: 0.021230,  Accuracy: 99.27%    Validation: Loss: 0.020109,  Accuracy: 99.28%\n",
            "Epoch 6:  Train: Loss: 0.018726,  Accuracy: 99.40%    Validation: Loss: 0.017610,  Accuracy: 99.41%\n",
            "Epoch 7:  Train: Loss: 0.017291,  Accuracy: 99.41%    Validation: Loss: 0.018353,  Accuracy: 99.40%\n",
            "Epoch 8:  Train: Loss: 0.015575,  Accuracy: 99.50%    Validation: Loss: 0.015727,  Accuracy: 99.47%\n",
            "Epoch 9:  Train: Loss: 0.014045,  Accuracy: 99.53%    Validation: Loss: 0.015308,  Accuracy: 99.44%\n",
            "Epoch 10:  Train: Loss: 0.013439,  Accuracy: 99.56%    Validation: Loss: 0.016090,  Accuracy: 99.39%\n",
            "Epoch 11:  Train: Loss: 0.012313,  Accuracy: 99.60%    Validation: Loss: 0.014590,  Accuracy: 99.42%\n",
            "Epoch 12:  Train: Loss: 0.012602,  Accuracy: 99.57%    Validation: Loss: 0.016261,  Accuracy: 99.43%\n",
            "Epoch 13:  Train: Loss: 0.011428,  Accuracy: 99.58%    Validation: Loss: 0.014947,  Accuracy: 99.45%\n",
            "Epoch 14:  Train: Loss: 0.010973,  Accuracy: 99.64%    Validation: Loss: 0.014674,  Accuracy: 99.49%\n",
            "Epoch 15:  Train: Loss: 0.010633,  Accuracy: 99.65%    Validation: Loss: 0.014376,  Accuracy: 99.45%\n",
            "Epoch 16:  Train: Loss: 0.009845,  Accuracy: 99.69%    Validation: Loss: 0.014404,  Accuracy: 99.55%\n",
            "Epoch 17:  Train: Loss: 0.009239,  Accuracy: 99.73%    Validation: Loss: 0.012604,  Accuracy: 99.51%\n",
            "Epoch 18:  Train: Loss: 0.008859,  Accuracy: 99.72%    Validation: Loss: 0.013962,  Accuracy: 99.41%\n",
            "Epoch 19:  Train: Loss: 0.008750,  Accuracy: 99.70%    Validation: Loss: 0.013496,  Accuracy: 99.58%\n",
            "Epoch 20:  Train: Loss: 0.008615,  Accuracy: 99.73%    Validation: Loss: 0.013794,  Accuracy: 99.51%\n",
            "Epoch 21:  Train: Loss: 0.008275,  Accuracy: 99.73%    Validation: Loss: 0.014263,  Accuracy: 99.45%\n",
            "Epoch 22:  Train: Loss: 0.008032,  Accuracy: 99.75%    Validation: Loss: 0.014145,  Accuracy: 99.48%\n",
            "Epoch 23:  Train: Loss: 0.007391,  Accuracy: 99.73%    Validation: Loss: 0.013150,  Accuracy: 99.54%\n",
            "Epoch 24:  Train: Loss: 0.006845,  Accuracy: 99.81%    Validation: Loss: 0.015351,  Accuracy: 99.50%\n",
            "Epoch 25:  Train: Loss: 0.006853,  Accuracy: 99.77%    Validation: Loss: 0.012004,  Accuracy: 99.54%\n",
            "Epoch 26:  Train: Loss: 0.006069,  Accuracy: 99.83%    Validation: Loss: 0.013655,  Accuracy: 99.49%\n",
            "Epoch 27:  Train: Loss: 0.006230,  Accuracy: 99.81%    Validation: Loss: 0.013679,  Accuracy: 99.47%\n",
            "Epoch 28:  Train: Loss: 0.006188,  Accuracy: 99.81%    Validation: Loss: 0.014973,  Accuracy: 99.54%\n",
            "Epoch 29:  Train: Loss: 0.005756,  Accuracy: 99.84%    Validation: Loss: 0.013116,  Accuracy: 99.51%\n",
            "Epoch 30:  Train: Loss: 0.005489,  Accuracy: 99.84%    Validation: Loss: 0.013550,  Accuracy: 99.55%\n",
            "Epoch 31:  Train: Loss: 0.005175,  Accuracy: 99.84%    Validation: Loss: 0.012778,  Accuracy: 99.53%\n",
            "Epoch 32:  Train: Loss: 0.005206,  Accuracy: 99.86%    Validation: Loss: 0.012441,  Accuracy: 99.61%\n",
            "Epoch 33:  Train: Loss: 0.004878,  Accuracy: 99.87%    Validation: Loss: 0.012904,  Accuracy: 99.59%\n",
            "Epoch 34:  Train: Loss: 0.004944,  Accuracy: 99.87%    Validation: Loss: 0.013400,  Accuracy: 99.51%\n",
            "Epoch 35:  Train: Loss: 0.004599,  Accuracy: 99.87%    Validation: Loss: 0.012442,  Accuracy: 99.55%\n",
            "Epoch 36:  Train: Loss: 0.004453,  Accuracy: 99.89%    Validation: Loss: 0.012303,  Accuracy: 99.54%\n",
            "Epoch 37:  Train: Loss: 0.004401,  Accuracy: 99.88%    Validation: Loss: 0.012786,  Accuracy: 99.57%\n",
            "Epoch 38:  Train: Loss: 0.004136,  Accuracy: 99.89%    Validation: Loss: 0.014152,  Accuracy: 99.53%\n",
            "Epoch 39:  Train: Loss: 0.003778,  Accuracy: 99.90%    Validation: Loss: 0.011893,  Accuracy: 99.59%\n",
            "Epoch 40:  Train: Loss: 0.003761,  Accuracy: 99.90%    Validation: Loss: 0.013059,  Accuracy: 99.53%\n",
            "Epoch 41:  Train: Loss: 0.003842,  Accuracy: 99.93%    Validation: Loss: 0.011800,  Accuracy: 99.58%\n",
            "Epoch 42:  Train: Loss: 0.003460,  Accuracy: 99.92%    Validation: Loss: 0.012818,  Accuracy: 99.60%\n",
            "Epoch 43:  Train: Loss: 0.003611,  Accuracy: 99.91%    Validation: Loss: 0.013693,  Accuracy: 99.51%\n",
            "Epoch 44:  Train: Loss: 0.003403,  Accuracy: 99.92%    Validation: Loss: 0.011777,  Accuracy: 99.58%\n",
            "Epoch 45:  Train: Loss: 0.003624,  Accuracy: 99.90%    Validation: Loss: 0.013142,  Accuracy: 99.60%\n",
            "Epoch 46:  Train: Loss: 0.003167,  Accuracy: 99.92%    Validation: Loss: 0.012892,  Accuracy: 99.57%\n",
            "Epoch 47:  Train: Loss: 0.003304,  Accuracy: 99.90%    Validation: Loss: 0.012806,  Accuracy: 99.54%\n",
            "Epoch 48:  Train: Loss: 0.002781,  Accuracy: 99.93%    Validation: Loss: 0.012556,  Accuracy: 99.54%\n",
            "Epoch 49:  Train: Loss: 0.002533,  Accuracy: 99.95%    Validation: Loss: 0.013619,  Accuracy: 99.51%\n",
            "Epoch 50:  Train: Loss: 0.002548,  Accuracy: 99.94%    Validation: Loss: 0.012910,  Accuracy: 99.62%\n",
            "Epoch 51:  Train: Loss: 0.002540,  Accuracy: 99.93%    Validation: Loss: 0.013546,  Accuracy: 99.59%\n",
            "Epoch 52:  Train: Loss: 0.002368,  Accuracy: 99.95%    Validation: Loss: 0.012078,  Accuracy: 99.58%\n",
            "Epoch 53:  Train: Loss: 0.002302,  Accuracy: 99.95%    Validation: Loss: 0.014619,  Accuracy: 99.53%\n",
            "Epoch 54:  Train: Loss: 0.002553,  Accuracy: 99.93%    Validation: Loss: 0.015777,  Accuracy: 99.44%\n",
            "Epoch 55:  Train: Loss: 0.002349,  Accuracy: 99.95%    Validation: Loss: 0.013551,  Accuracy: 99.54%\n",
            "Epoch 56:  Train: Loss: 0.002634,  Accuracy: 99.93%    Validation: Loss: 0.014227,  Accuracy: 99.59%\n",
            "Epoch 57:  Train: Loss: 0.002050,  Accuracy: 99.96%    Validation: Loss: 0.013864,  Accuracy: 99.53%\n",
            "Epoch 58:  Train: Loss: 0.002217,  Accuracy: 99.94%    Validation: Loss: 0.013580,  Accuracy: 99.60%\n",
            "Epoch 59:  Train: Loss: 0.001726,  Accuracy: 99.97%    Validation: Loss: 0.013318,  Accuracy: 99.61%\n",
            "Epoch 60:  Train: Loss: 0.002019,  Accuracy: 99.95%    Validation: Loss: 0.013118,  Accuracy: 99.63%\n",
            "Epoch 61:  Train: Loss: 0.001838,  Accuracy: 99.97%    Validation: Loss: 0.013876,  Accuracy: 99.53%\n",
            "Epoch 62:  Train: Loss: 0.001599,  Accuracy: 99.97%    Validation: Loss: 0.012028,  Accuracy: 99.63%\n",
            "Epoch 63:  Train: Loss: 0.001871,  Accuracy: 99.97%    Validation: Loss: 0.012802,  Accuracy: 99.59%\n",
            "Epoch 64:  Train: Loss: 0.001467,  Accuracy: 99.98%    Validation: Loss: 0.012731,  Accuracy: 99.59%\n",
            "Epoch 65:  Train: Loss: 0.001635,  Accuracy: 99.97%    Validation: Loss: 0.013292,  Accuracy: 99.60%\n",
            "Epoch 66:  Train: Loss: 0.001678,  Accuracy: 99.96%    Validation: Loss: 0.012497,  Accuracy: 99.63%\n",
            "Epoch 67:  Train: Loss: 0.001438,  Accuracy: 99.97%    Validation: Loss: 0.013011,  Accuracy: 99.58%\n",
            "Epoch 68:  Train: Loss: 0.001275,  Accuracy: 99.98%    Validation: Loss: 0.014200,  Accuracy: 99.59%\n",
            "Epoch 69:  Train: Loss: 0.001500,  Accuracy: 99.98%    Validation: Loss: 0.015624,  Accuracy: 99.54%\n",
            "Epoch 70:  Train: Loss: 0.001490,  Accuracy: 99.97%    Validation: Loss: 0.013627,  Accuracy: 99.64%\n",
            "Epoch 71:  Train: Loss: 0.001299,  Accuracy: 99.97%    Validation: Loss: 0.012823,  Accuracy: 99.64%\n",
            "Epoch 72:  Train: Loss: 0.001151,  Accuracy: 99.99%    Validation: Loss: 0.013304,  Accuracy: 99.59%\n",
            "Epoch 73:  Train: Loss: 0.001246,  Accuracy: 99.97%    Validation: Loss: 0.013642,  Accuracy: 99.62%\n",
            "Epoch 74:  Train: Loss: 0.001078,  Accuracy: 99.99%    Validation: Loss: 0.012566,  Accuracy: 99.69%\n",
            "Epoch 75:  Train: Loss: 0.001199,  Accuracy: 99.98%    Validation: Loss: 0.014654,  Accuracy: 99.65%\n",
            "Epoch 76:  Train: Loss: 0.001142,  Accuracy: 99.98%    Validation: Loss: 0.013103,  Accuracy: 99.61%\n",
            "Epoch 77:  Train: Loss: 0.001354,  Accuracy: 99.98%    Validation: Loss: 0.013151,  Accuracy: 99.58%\n",
            "Epoch 78:  Train: Loss: 0.001443,  Accuracy: 99.96%    Validation: Loss: 0.015336,  Accuracy: 99.55%\n",
            "Epoch 79:  Train: Loss: 0.001157,  Accuracy: 99.99%    Validation: Loss: 0.015170,  Accuracy: 99.55%\n",
            "Epoch 80:  Train: Loss: 0.001161,  Accuracy: 99.98%    Validation: Loss: 0.014781,  Accuracy: 99.59%\n",
            "Epoch 81:  Train: Loss: 0.000849,  Accuracy: 99.99%    Validation: Loss: 0.013483,  Accuracy: 99.60%\n",
            "Epoch 82:  Train: Loss: 0.000863,  Accuracy: 99.99%    Validation: Loss: 0.015320,  Accuracy: 99.57%\n",
            "Epoch 83:  Train: Loss: 0.000980,  Accuracy: 99.97%    Validation: Loss: 0.014395,  Accuracy: 99.59%\n",
            "Epoch 84:  Train: Loss: 0.000897,  Accuracy: 99.99%    Validation: Loss: 0.013028,  Accuracy: 99.62%\n",
            "Epoch 85:  Train: Loss: 0.000917,  Accuracy: 99.98%    Validation: Loss: 0.014842,  Accuracy: 99.57%\n",
            "Epoch 86:  Train: Loss: 0.001213,  Accuracy: 99.96%    Validation: Loss: 0.014132,  Accuracy: 99.61%\n",
            "Epoch 87:  Train: Loss: 0.001237,  Accuracy: 99.98%    Validation: Loss: 0.014639,  Accuracy: 99.53%\n",
            "Epoch 88:  Train: Loss: 0.000739,  Accuracy: 100.00%    Validation: Loss: 0.014339,  Accuracy: 99.58%\n",
            "Epoch 89:  Train: Loss: 0.000691,  Accuracy: 99.99%    Validation: Loss: 0.014254,  Accuracy: 99.63%\n",
            "Epoch 90:  Train: Loss: 0.000701,  Accuracy: 99.99%    Validation: Loss: 0.014442,  Accuracy: 99.59%\n",
            "Epoch 91:  Train: Loss: 0.000608,  Accuracy: 100.00%    Validation: Loss: 0.014959,  Accuracy: 99.61%\n",
            "Epoch 92:  Train: Loss: 0.000651,  Accuracy: 100.00%    Validation: Loss: 0.014269,  Accuracy: 99.55%\n",
            "Epoch 93:  Train: Loss: 0.000810,  Accuracy: 99.99%    Validation: Loss: 0.013554,  Accuracy: 99.57%\n",
            "Epoch 94:  Train: Loss: 0.000718,  Accuracy: 99.99%    Validation: Loss: 0.015289,  Accuracy: 99.63%\n",
            "Epoch 95:  Train: Loss: 0.000814,  Accuracy: 99.98%    Validation: Loss: 0.014074,  Accuracy: 99.53%\n",
            "Epoch 96:  Train: Loss: 0.000826,  Accuracy: 99.99%    Validation: Loss: 0.016204,  Accuracy: 99.61%\n",
            "Epoch 97:  Train: Loss: 0.000586,  Accuracy: 100.00%    Validation: Loss: 0.014467,  Accuracy: 99.62%\n",
            "Epoch 98:  Train: Loss: 0.000572,  Accuracy: 99.99%    Validation: Loss: 0.015410,  Accuracy: 99.55%\n",
            "Epoch 99:  Train: Loss: 0.000877,  Accuracy: 99.99%    Validation: Loss: 0.015989,  Accuracy: 99.54%\n",
            "Epoch 100:  Train: Loss: 0.000853,  Accuracy: 99.98%    Validation: Loss: 0.015516,  Accuracy: 99.59%\n",
            "Done!\n"
          ]
        }
      ]
    },
    {
      "cell_type": "code",
      "source": [
        "#Plot of Accuracy\n",
        "plt.plot(train_accuracy_history, label='train')\n",
        "plt.plot(val_accuracy_history, label='validation')\n",
        "plt.xlabel(\"no. of epochs\")\n",
        "plt.title(\"Accuracy\")\n",
        "plt.legend()\n",
        "plt.show()"
      ],
      "metadata": {
        "colab": {
          "base_uri": "https://localhost:8080/",
          "height": 472
        },
        "id": "0pXVL-kiTbH8",
        "outputId": "48ba580f-0e45-4aa3-d08c-841a4f477bd8"
      },
      "execution_count": null,
      "outputs": [
        {
          "output_type": "display_data",
          "data": {
            "text/plain": [
              "<Figure size 640x480 with 1 Axes>"
            ],
            "image/png": "[encoded data removed]"
          },
          "metadata": {}
        }
      ]
    },
    {
      "cell_type": "code",
      "source": [
        "#Plot of Loss\n",
        "plt.plot(train_loss_history, label='train')\n",
        "plt.plot(val_loss_history, label='validation')\n",
        "plt.xlabel('no. of epochs')\n",
        "plt.title('Loss')\n",
        "plt.legend()\n",
        "plt.show()"
      ],
      "metadata": {
        "colab": {
          "base_uri": "https://localhost:8080/",
          "height": 472
        },
        "id": "zsJ2ot-J-BJC",
        "outputId": "e69e7d7d-153a-4095-88f1-5045462bd507"
      },
      "execution_count": null,
      "outputs": [
        {
          "output_type": "display_data",
          "data": {
            "text/plain": [
              "<Figure size 640x480 with 1 Axes>"
            ],
            "image/png": "[encoded data removed]"
          },
          "metadata": {}
        }
      ]
    },
    {
      "cell_type": "code",
      "source": [
        "best_title_model = best_model\n",
        "test_loss, test_accuracy = test_loop(test_dataloader, best_title_model, criterion)"
      ],
      "metadata": {
        "colab": {
          "base_uri": "https://localhost:8080/"
        },
        "id": "j8qvqC0L68M6",
        "outputId": "7bcbbe5d-ee5f-441b-e7c1-605e4837b249"
      },
      "execution_count": null,
      "outputs": [
        {
          "output_type": "stream",
          "name": "stdout",
          "text": [
            "Loss: 0.033077,  Accuracy: 99.69%\n"
          ]
        }
      ]
    },
    {
      "cell_type": "markdown",
      "source": [
        "##Prediction based on 'text'"
      ],
      "metadata": {
        "id": "ZZF2NCF6DEBs"
      }
    },
    {
      "cell_type": "code",
      "source": [
        "train_dataloader, val_dataloader, test_dataloader = get_dataloaders(df['text_emb'], df['is_fake'], batch_size=128)"
      ],
      "metadata": {
        "id": "TbbUZGvSDECB"
      },
      "execution_count": null,
      "outputs": []
    },
    {
      "cell_type": "code",
      "source": [
        "epochs = 100\n",
        "train_loss_history = []\n",
        "train_accuracy_history = []\n",
        "val_loss_history = []\n",
        "val_accuracy_history = []\n",
        "best_accuracy = 0\n",
        "\n",
        "for epoch in range(epochs):\n",
        "    print(f'Epoch {epoch+1}:  ', end='')\n",
        "    print(f'Train: ', end='')\n",
        "    train_loss, train_accuracy = train_loop(train_dataloader, model, optimizer, criterion)\n",
        "    print(f'Validation: ', end='')\n",
        "    val_loss, val_accuracy = test_loop(val_dataloader, model, criterion)\n",
        "\n",
        "    if val_accuracy > best_accuracy:\n",
        "        best_accuracy = val_accuracy\n",
        "        best_model = model\n",
        "        torch.save(model.state_dict(), 'best_model.pt')\n",
        "\n",
        "    train_loss_history.append(train_loss)\n",
        "    train_accuracy_history.append(train_accuracy)\n",
        "    val_loss_history.append(val_loss)\n",
        "    val_accuracy_history.append(val_accuracy)\n",
        "\n",
        "print('Done!')"
      ],
      "metadata": {
        "colab": {
          "base_uri": "https://localhost:8080/"
        },
        "outputId": "56a160f6-7199-4c5d-8e7c-59af65ff78bf",
        "id": "gHAlxqo5DECB"
      },
      "execution_count": null,
      "outputs": [
        {
          "output_type": "stream",
          "name": "stdout",
          "text": [
            "Epoch 1:  Train: Loss: 0.289653,  Accuracy: 90.28%    Validation: Loss: 0.163750,  Accuracy: 93.73%\n",
            "Epoch 2:  Train: Loss: 0.156597,  Accuracy: 94.23%    Validation: Loss: 0.141759,  Accuracy: 94.78%\n",
            "Epoch 3:  Train: Loss: 0.137162,  Accuracy: 94.88%    Validation: Loss: 0.127098,  Accuracy: 95.31%\n",
            "Epoch 4:  Train: Loss: 0.125424,  Accuracy: 95.37%    Validation: Loss: 0.128147,  Accuracy: 95.37%\n",
            "Epoch 5:  Train: Loss: 0.117362,  Accuracy: 95.69%    Validation: Loss: 0.116365,  Accuracy: 95.69%\n",
            "Epoch 6:  Train: Loss: 0.111204,  Accuracy: 95.92%    Validation: Loss: 0.111651,  Accuracy: 95.82%\n",
            "Epoch 7:  Train: Loss: 0.106572,  Accuracy: 96.09%    Validation: Loss: 0.105562,  Accuracy: 96.22%\n",
            "Epoch 8:  Train: Loss: 0.100653,  Accuracy: 96.37%    Validation: Loss: 0.112301,  Accuracy: 96.15%\n",
            "Epoch 9:  Train: Loss: 0.099029,  Accuracy: 96.27%    Validation: Loss: 0.097326,  Accuracy: 96.56%\n",
            "Epoch 10:  Train: Loss: 0.096968,  Accuracy: 96.46%    Validation: Loss: 0.102000,  Accuracy: 96.40%\n",
            "Epoch 11:  Train: Loss: 0.090503,  Accuracy: 96.72%    Validation: Loss: 0.097902,  Accuracy: 96.52%\n",
            "Epoch 12:  Train: Loss: 0.089473,  Accuracy: 96.84%    Validation: Loss: 0.096426,  Accuracy: 96.46%\n",
            "Epoch 13:  Train: Loss: 0.085470,  Accuracy: 96.98%    Validation: Loss: 0.093616,  Accuracy: 96.69%\n",
            "Epoch 14:  Train: Loss: 0.082370,  Accuracy: 97.04%    Validation: Loss: 0.091947,  Accuracy: 96.79%\n",
            "Epoch 15:  Train: Loss: 0.083573,  Accuracy: 97.02%    Validation: Loss: 0.092184,  Accuracy: 96.75%\n",
            "Epoch 16:  Train: Loss: 0.079735,  Accuracy: 97.24%    Validation: Loss: 0.088383,  Accuracy: 96.91%\n",
            "Epoch 17:  Train: Loss: 0.080829,  Accuracy: 97.13%    Validation: Loss: 0.085913,  Accuracy: 97.06%\n",
            "Epoch 18:  Train: Loss: 0.076313,  Accuracy: 97.19%    Validation: Loss: 0.087106,  Accuracy: 96.99%\n",
            "Epoch 19:  Train: Loss: 0.075043,  Accuracy: 97.23%    Validation: Loss: 0.090282,  Accuracy: 96.95%\n",
            "Epoch 20:  Train: Loss: 0.072129,  Accuracy: 97.42%    Validation: Loss: 0.085932,  Accuracy: 96.99%\n",
            "Epoch 21:  Train: Loss: 0.072380,  Accuracy: 97.34%    Validation: Loss: 0.087238,  Accuracy: 97.06%\n",
            "Epoch 22:  Train: Loss: 0.070755,  Accuracy: 97.48%    Validation: Loss: 0.087563,  Accuracy: 97.15%\n",
            "Epoch 23:  Train: Loss: 0.071850,  Accuracy: 97.46%    Validation: Loss: 0.085714,  Accuracy: 97.10%\n",
            "Epoch 24:  Train: Loss: 0.068390,  Accuracy: 97.60%    Validation: Loss: 0.092878,  Accuracy: 97.30%\n",
            "Epoch 25:  Train: Loss: 0.068020,  Accuracy: 97.59%    Validation: Loss: 0.089665,  Accuracy: 97.05%\n",
            "Epoch 26:  Train: Loss: 0.065482,  Accuracy: 97.68%    Validation: Loss: 0.082081,  Accuracy: 97.26%\n",
            "Epoch 27:  Train: Loss: 0.065344,  Accuracy: 97.68%    Validation: Loss: 0.087608,  Accuracy: 96.84%\n",
            "Epoch 28:  Train: Loss: 0.065282,  Accuracy: 97.69%    Validation: Loss: 0.085549,  Accuracy: 97.25%\n",
            "Epoch 29:  Train: Loss: 0.064293,  Accuracy: 97.70%    Validation: Loss: 0.079984,  Accuracy: 97.39%\n",
            "Epoch 30:  Train: Loss: 0.065065,  Accuracy: 97.65%    Validation: Loss: 0.096822,  Accuracy: 97.12%\n",
            "Epoch 31:  Train: Loss: 0.060976,  Accuracy: 97.89%    Validation: Loss: 0.079372,  Accuracy: 97.27%\n",
            "Epoch 32:  Train: Loss: 0.060957,  Accuracy: 97.81%    Validation: Loss: 0.098885,  Accuracy: 96.97%\n",
            "Epoch 33:  Train: Loss: 0.059393,  Accuracy: 97.92%    Validation: Loss: 0.086148,  Accuracy: 97.09%\n",
            "Epoch 34:  Train: Loss: 0.060041,  Accuracy: 97.86%    Validation: Loss: 0.093633,  Accuracy: 97.34%\n",
            "Epoch 35:  Train: Loss: 0.059782,  Accuracy: 97.84%    Validation: Loss: 0.093696,  Accuracy: 97.18%\n",
            "Epoch 36:  Train: Loss: 0.056263,  Accuracy: 97.95%    Validation: Loss: 0.080115,  Accuracy: 97.42%\n",
            "Epoch 37:  Train: Loss: 0.057976,  Accuracy: 97.92%    Validation: Loss: 0.082794,  Accuracy: 97.33%\n",
            "Epoch 38:  Train: Loss: 0.056104,  Accuracy: 98.01%    Validation: Loss: 0.080573,  Accuracy: 97.38%\n",
            "Epoch 39:  Train: Loss: 0.052596,  Accuracy: 98.13%    Validation: Loss: 0.081054,  Accuracy: 97.25%\n",
            "Epoch 40:  Train: Loss: 0.055073,  Accuracy: 98.01%    Validation: Loss: 0.077575,  Accuracy: 97.59%\n",
            "Epoch 41:  Train: Loss: 0.054223,  Accuracy: 98.08%    Validation: Loss: 0.091172,  Accuracy: 97.56%\n",
            "Epoch 42:  Train: Loss: 0.053626,  Accuracy: 98.10%    Validation: Loss: 0.092876,  Accuracy: 97.46%\n",
            "Epoch 43:  Train: Loss: 0.052304,  Accuracy: 98.16%    Validation: Loss: 0.093823,  Accuracy: 97.23%\n",
            "Epoch 44:  Train: Loss: 0.050776,  Accuracy: 98.27%    Validation: Loss: 0.081093,  Accuracy: 97.39%\n",
            "Epoch 45:  Train: Loss: 0.049719,  Accuracy: 98.18%    Validation: Loss: 0.092235,  Accuracy: 97.55%\n",
            "Epoch 46:  Train: Loss: 0.048278,  Accuracy: 98.34%    Validation: Loss: 0.090790,  Accuracy: 97.45%\n",
            "Epoch 47:  Train: Loss: 0.049701,  Accuracy: 98.23%    Validation: Loss: 0.083754,  Accuracy: 97.19%\n",
            "Epoch 48:  Train: Loss: 0.049748,  Accuracy: 98.25%    Validation: Loss: 0.099031,  Accuracy: 97.28%\n",
            "Epoch 49:  Train: Loss: 0.049512,  Accuracy: 98.30%    Validation: Loss: 0.100683,  Accuracy: 97.28%\n",
            "Epoch 50:  Train: Loss: 0.049413,  Accuracy: 98.25%    Validation: Loss: 0.088111,  Accuracy: 97.53%\n",
            "Epoch 51:  Train: Loss: 0.046304,  Accuracy: 98.34%    Validation: Loss: 0.094562,  Accuracy: 97.38%\n",
            "Epoch 52:  Train: Loss: 0.047046,  Accuracy: 98.39%    Validation: Loss: 0.088508,  Accuracy: 97.56%\n",
            "Epoch 53:  Train: Loss: 0.043284,  Accuracy: 98.45%    Validation: Loss: 0.093006,  Accuracy: 97.38%\n",
            "Epoch 54:  Train: Loss: 0.046258,  Accuracy: 98.40%    Validation: Loss: 0.096146,  Accuracy: 97.17%\n",
            "Epoch 55:  Train: Loss: 0.044108,  Accuracy: 98.41%    Validation: Loss: 0.091757,  Accuracy: 97.46%\n",
            "Epoch 56:  Train: Loss: 0.045454,  Accuracy: 98.41%    Validation: Loss: 0.092306,  Accuracy: 97.42%\n",
            "Epoch 57:  Train: Loss: 0.042753,  Accuracy: 98.54%    Validation: Loss: 0.099037,  Accuracy: 97.08%\n",
            "Epoch 58:  Train: Loss: 0.043592,  Accuracy: 98.50%    Validation: Loss: 0.096494,  Accuracy: 97.09%\n",
            "Epoch 59:  Train: Loss: 0.042733,  Accuracy: 98.51%    Validation: Loss: 0.093184,  Accuracy: 97.40%\n",
            "Epoch 60:  Train: Loss: 0.043141,  Accuracy: 98.51%    Validation: Loss: 0.090252,  Accuracy: 97.51%\n",
            "Epoch 61:  Train: Loss: 0.042869,  Accuracy: 98.47%    Validation: Loss: 0.093285,  Accuracy: 97.40%\n",
            "Epoch 62:  Train: Loss: 0.041723,  Accuracy: 98.54%    Validation: Loss: 0.091694,  Accuracy: 97.55%\n",
            "Epoch 63:  Train: Loss: 0.041243,  Accuracy: 98.59%    Validation: Loss: 0.088675,  Accuracy: 97.72%\n",
            "Epoch 64:  Train: Loss: 0.042274,  Accuracy: 98.53%    Validation: Loss: 0.089190,  Accuracy: 97.51%\n",
            "Epoch 65:  Train: Loss: 0.041691,  Accuracy: 98.54%    Validation: Loss: 0.095740,  Accuracy: 97.40%\n",
            "Epoch 66:  Train: Loss: 0.042514,  Accuracy: 98.54%    Validation: Loss: 0.093091,  Accuracy: 97.48%\n",
            "Epoch 67:  Train: Loss: 0.042549,  Accuracy: 98.60%    Validation: Loss: 0.089596,  Accuracy: 97.55%\n",
            "Epoch 68:  Train: Loss: 0.040229,  Accuracy: 98.63%    Validation: Loss: 0.091380,  Accuracy: 97.63%\n",
            "Epoch 69:  Train: Loss: 0.042472,  Accuracy: 98.52%    Validation: Loss: 0.090487,  Accuracy: 97.58%\n",
            "Epoch 70:  Train: Loss: 0.039460,  Accuracy: 98.69%    Validation: Loss: 0.107695,  Accuracy: 97.46%\n",
            "Epoch 71:  Train: Loss: 0.039156,  Accuracy: 98.67%    Validation: Loss: 0.087952,  Accuracy: 97.57%\n",
            "Epoch 72:  Train: Loss: 0.039821,  Accuracy: 98.64%    Validation: Loss: 0.087951,  Accuracy: 97.56%\n",
            "Epoch 73:  Train: Loss: 0.042750,  Accuracy: 98.53%    Validation: Loss: 0.100873,  Accuracy: 97.75%\n",
            "Epoch 74:  Train: Loss: 0.036165,  Accuracy: 98.79%    Validation: Loss: 0.095087,  Accuracy: 97.61%\n",
            "Epoch 75:  Train: Loss: 0.035831,  Accuracy: 98.74%    Validation: Loss: 0.103374,  Accuracy: 97.01%\n",
            "Epoch 76:  Train: Loss: 0.033833,  Accuracy: 98.88%    Validation: Loss: 0.097977,  Accuracy: 97.32%\n",
            "Epoch 77:  Train: Loss: 0.037794,  Accuracy: 98.64%    Validation: Loss: 0.092587,  Accuracy: 97.27%\n",
            "Epoch 78:  Train: Loss: 0.035118,  Accuracy: 98.78%    Validation: Loss: 0.095307,  Accuracy: 97.53%\n",
            "Epoch 79:  Train: Loss: 0.033943,  Accuracy: 98.78%    Validation: Loss: 0.096654,  Accuracy: 97.55%\n",
            "Epoch 80:  Train: Loss: 0.037605,  Accuracy: 98.69%    Validation: Loss: 0.095906,  Accuracy: 97.67%\n",
            "Epoch 81:  Train: Loss: 0.036058,  Accuracy: 98.75%    Validation: Loss: 0.098304,  Accuracy: 97.49%\n",
            "Epoch 82:  Train: Loss: 0.035142,  Accuracy: 98.77%    Validation: Loss: 0.102453,  Accuracy: 97.61%\n",
            "Epoch 83:  Train: Loss: 0.032926,  Accuracy: 98.83%    Validation: Loss: 0.098832,  Accuracy: 97.40%\n",
            "Epoch 84:  Train: Loss: 0.034152,  Accuracy: 98.89%    Validation: Loss: 0.099446,  Accuracy: 97.78%\n",
            "Epoch 85:  Train: Loss: 0.034266,  Accuracy: 98.80%    Validation: Loss: 0.083177,  Accuracy: 97.61%\n",
            "Epoch 86:  Train: Loss: 0.035417,  Accuracy: 98.80%    Validation: Loss: 0.097816,  Accuracy: 97.48%\n",
            "Epoch 87:  Train: Loss: 0.035177,  Accuracy: 98.79%    Validation: Loss: 0.095448,  Accuracy: 97.63%\n",
            "Epoch 88:  Train: Loss: 0.033639,  Accuracy: 98.83%    Validation: Loss: 0.092018,  Accuracy: 97.45%\n",
            "Epoch 89:  Train: Loss: 0.038186,  Accuracy: 98.72%    Validation: Loss: 0.094807,  Accuracy: 97.52%\n",
            "Epoch 90:  Train: Loss: 0.032667,  Accuracy: 98.85%    Validation: Loss: 0.100922,  Accuracy: 97.85%\n",
            "Epoch 91:  Train: Loss: 0.030913,  Accuracy: 99.07%    Validation: Loss: 0.090286,  Accuracy: 97.79%\n",
            "Epoch 92:  Train: Loss: 0.034465,  Accuracy: 98.82%    Validation: Loss: 0.090823,  Accuracy: 97.55%\n",
            "Epoch 93:  Train: Loss: 0.034213,  Accuracy: 98.85%    Validation: Loss: 0.093532,  Accuracy: 97.68%\n",
            "Epoch 94:  Train: Loss: 0.030904,  Accuracy: 98.95%    Validation: Loss: 0.109283,  Accuracy: 97.52%\n",
            "Epoch 95:  Train: Loss: 0.032773,  Accuracy: 98.92%    Validation: Loss: 0.097739,  Accuracy: 97.48%\n",
            "Epoch 96:  Train: Loss: 0.035428,  Accuracy: 98.83%    Validation: Loss: 0.101389,  Accuracy: 97.81%\n",
            "Epoch 97:  Train: Loss: 0.031428,  Accuracy: 98.92%    Validation: Loss: 0.103565,  Accuracy: 97.67%\n",
            "Epoch 98:  Train: Loss: 0.030497,  Accuracy: 98.96%    Validation: Loss: 0.091700,  Accuracy: 97.75%\n",
            "Epoch 99:  Train: Loss: 0.028692,  Accuracy: 99.03%    Validation: Loss: 0.095618,  Accuracy: 97.77%\n",
            "Epoch 100:  Train: Loss: 0.031776,  Accuracy: 98.97%    Validation: Loss: 0.095957,  Accuracy: 97.61%\n",
            "Done!\n"
          ]
        }
      ]
    },
    {
      "cell_type": "code",
      "source": [
        "#Plot of Accuracy\n",
        "plt.plot(train_accuracy_history, label='train')\n",
        "plt.plot(val_accuracy_history, label='validation')\n",
        "plt.xlabel(\"no. of epochs\")\n",
        "plt.title(\"Accuracy\")\n",
        "plt.legend()\n",
        "plt.show()"
      ],
      "metadata": {
        "colab": {
          "base_uri": "https://localhost:8080/",
          "height": 472
        },
        "outputId": "fa9d2d2c-0f0a-4033-8278-679903b3645e",
        "id": "dbJcf1M2DECC"
      },
      "execution_count": null,
      "outputs": [
        {
          "output_type": "display_data",
          "data": {
            "text/plain": [
              "<Figure size 640x480 with 1 Axes>"
            ],
            "image/png": "[encoded data removed]"
          },
          "metadata": {}
        }
      ]
    },
    {
      "cell_type": "code",
      "source": [
        "#Plot of Loss\n",
        "plt.plot(train_loss_history, label='train')\n",
        "plt.plot(val_loss_history, label='validation')\n",
        "plt.xlabel('no. of epochs')\n",
        "plt.title('Loss')\n",
        "plt.legend()\n",
        "plt.show()"
      ],
      "metadata": {
        "colab": {
          "base_uri": "https://localhost:8080/",
          "height": 472
        },
        "outputId": "0824a1ce-215f-46ab-fcce-1665ffa31881",
        "id": "jay_4a3jDECD"
      },
      "execution_count": null,
      "outputs": [
        {
          "output_type": "display_data",
          "data": {
            "text/plain": [
              "<Figure size 640x480 with 1 Axes>"
            ],
            "image/png": "[encoded data removed]"
          },
          "metadata": {}
        }
      ]
    },
    {
      "cell_type": "code",
      "source": [
        "best_text_model = best_model\n",
        "test_loss, test_accuracy = test_loop(test_dataloader, best_text_model, criterion)"
      ],
      "metadata": {
        "colab": {
          "base_uri": "https://localhost:8080/"
        },
        "outputId": "5c244e25-9f24-48b6-d9ea-855ba18b72cc",
        "id": "0SP9GzvaDECE"
      },
      "execution_count": null,
      "outputs": [
        {
          "output_type": "stream",
          "name": "stdout",
          "text": [
            "Loss: 0.091146,  Accuracy: 97.44%\n"
          ]
        }
      ]
    },
    {
      "cell_type": "markdown",
      "source": [
        "#Comparisons"
      ],
      "metadata": {
        "id": "8GFmjYqBrlOz"
      }
    },
    {
      "cell_type": "markdown",
      "source": [
        "##Without cutting \"stopwords\""
      ],
      "metadata": {
        "id": "Epf8P7QwrqqJ"
      }
    },
    {
      "cell_type": "code",
      "source": [
        "def clean_text_with_stopwords(text):\n",
        "  \n",
        "  clean_text = []\n",
        "  text = re.sub(r'@\\S+', '', text)\n",
        "  text = nlp(text)\n",
        "  \n",
        "  for token in text:\n",
        "    token.norm_\n",
        "    token.lemma_\n",
        "     \n",
        "    if not (token.is_digit\n",
        "            or token.is_punct\n",
        "            or token.like_url\n",
        "            or token.like_email\n",
        "            or token.is_space\n",
        "            or token.is_oov\n",
        "            or len(token)<2) :\n",
        "\n",
        "      clean_text.append(token.text)  \n",
        "     \n",
        "  return ' '.join(clean_text)"
      ],
      "metadata": {
        "id": "nZSHAGL-r2p_"
      },
      "execution_count": null,
      "outputs": []
    },
    {
      "cell_type": "code",
      "source": [
        "df['title_progress_with_stopwords'] = df['title'].progress_apply(clean_text_with_stopwords)"
      ],
      "metadata": {
        "colab": {
          "base_uri": "https://localhost:8080/"
        },
        "id": "FPppgK-gsXMH",
        "outputId": "495bec4b-fcce-4034-8cbb-495840c1dec7"
      },
      "execution_count": null,
      "outputs": [
        {
          "output_type": "stream",
          "name": "stderr",
          "text": [
            "100%|██████████| 44888/44888 [08:15<00:00, 90.61it/s] \n"
          ]
        }
      ]
    },
    {
      "cell_type": "code",
      "source": [
        "df['title_emb_with_stopwords'] = df['title_progress_with_stopwords'].progress_apply(lambda x: nlp(x).vector)"
      ],
      "metadata": {
        "colab": {
          "base_uri": "https://localhost:8080/"
        },
        "id": "rD4Gtk8js37x",
        "outputId": "b6105898-0b67-4e40-f90e-dac0b7e2a74d"
      },
      "execution_count": null,
      "outputs": [
        {
          "output_type": "stream",
          "name": "stderr",
          "text": [
            "100%|██████████| 44888/44888 [09:06<00:00, 82.18it/s]\n"
          ]
        }
      ]
    },
    {
      "cell_type": "code",
      "source": [
        "train_dataloader, val_dataloader, test_dataloader = get_dataloaders(df['title_emb_with_stopwords'], df['is_fake'], batch_size=512)"
      ],
      "metadata": {
        "id": "z9H9pSbfsu2d"
      },
      "execution_count": null,
      "outputs": []
    },
    {
      "cell_type": "code",
      "source": [
        "epochs = 100\n",
        "train_loss_history = []\n",
        "train_accuracy_history = []\n",
        "val_loss_history = []\n",
        "val_accuracy_history = []\n",
        "best_accuracy = 0\n",
        "\n",
        "model.apply(weights_init)\n",
        "\n",
        "for epoch in range(epochs):\n",
        "    print(f'Epoch {epoch+1}:  ', end='')\n",
        "    print(f'Train: ', end='')\n",
        "    train_loss, train_accuracy = train_loop(train_dataloader, model, optimizer, criterion)\n",
        "    print(f'Validation: ', end='')\n",
        "    val_loss, val_accuracy = test_loop(val_dataloader, model, criterion)\n",
        "\n",
        "    if val_accuracy > best_accuracy:\n",
        "        best_accuracy = val_accuracy\n",
        "        best_model = model\n",
        "        torch.save(model.state_dict(), 'best_model.pt')\n",
        "\n",
        "    train_loss_history.append(train_loss)\n",
        "    train_accuracy_history.append(train_accuracy)\n",
        "    val_loss_history.append(val_loss)\n",
        "    val_accuracy_history.append(val_accuracy)\n",
        "\n",
        "print('Done!')"
      ],
      "metadata": {
        "colab": {
          "base_uri": "https://localhost:8080/"
        },
        "outputId": "67100cb2-2b7c-47eb-e858-aa91aaa4bc00",
        "id": "SaFHRH9csu2d"
      },
      "execution_count": null,
      "outputs": [
        {
          "output_type": "stream",
          "name": "stdout",
          "text": [
            "Epoch 1:  Train: Loss: 0.160640,  Accuracy: 95.38%    Validation: Loss: 0.036250,  Accuracy: 98.74%\n",
            "Epoch 2:  Train: Loss: 0.031347,  Accuracy: 99.07%    Validation: Loss: 0.025064,  Accuracy: 99.25%\n",
            "Epoch 3:  Train: Loss: 0.024160,  Accuracy: 99.29%    Validation: Loss: 0.022577,  Accuracy: 99.34%\n",
            "Epoch 4:  Train: Loss: 0.021413,  Accuracy: 99.36%    Validation: Loss: 0.020405,  Accuracy: 99.39%\n",
            "Epoch 5:  Train: Loss: 0.019051,  Accuracy: 99.49%    Validation: Loss: 0.017643,  Accuracy: 99.44%\n",
            "Epoch 6:  Train: Loss: 0.017689,  Accuracy: 99.53%    Validation: Loss: 0.016327,  Accuracy: 99.51%\n",
            "Epoch 7:  Train: Loss: 0.015672,  Accuracy: 99.61%    Validation: Loss: 0.016629,  Accuracy: 99.50%\n",
            "Epoch 8:  Train: Loss: 0.014478,  Accuracy: 99.66%    Validation: Loss: 0.015885,  Accuracy: 99.52%\n",
            "Epoch 9:  Train: Loss: 0.014000,  Accuracy: 99.66%    Validation: Loss: 0.015605,  Accuracy: 99.58%\n",
            "Epoch 10:  Train: Loss: 0.013374,  Accuracy: 99.72%    Validation: Loss: 0.015488,  Accuracy: 99.49%\n",
            "Epoch 11:  Train: Loss: 0.012687,  Accuracy: 99.74%    Validation: Loss: 0.015436,  Accuracy: 99.54%\n",
            "Epoch 12:  Train: Loss: 0.011841,  Accuracy: 99.73%    Validation: Loss: 0.014092,  Accuracy: 99.63%\n",
            "Epoch 13:  Train: Loss: 0.011175,  Accuracy: 99.78%    Validation: Loss: 0.013998,  Accuracy: 99.59%\n",
            "Epoch 14:  Train: Loss: 0.010868,  Accuracy: 99.79%    Validation: Loss: 0.015294,  Accuracy: 99.54%\n",
            "Epoch 15:  Train: Loss: 0.010383,  Accuracy: 99.80%    Validation: Loss: 0.015045,  Accuracy: 99.65%\n",
            "Epoch 16:  Train: Loss: 0.009501,  Accuracy: 99.84%    Validation: Loss: 0.013982,  Accuracy: 99.60%\n",
            "Epoch 17:  Train: Loss: 0.009569,  Accuracy: 99.83%    Validation: Loss: 0.014695,  Accuracy: 99.61%\n",
            "Epoch 18:  Train: Loss: 0.009153,  Accuracy: 99.84%    Validation: Loss: 0.012865,  Accuracy: 99.60%\n",
            "Epoch 19:  Train: Loss: 0.008389,  Accuracy: 99.87%    Validation: Loss: 0.013375,  Accuracy: 99.65%\n",
            "Epoch 20:  Train: Loss: 0.008649,  Accuracy: 99.87%    Validation: Loss: 0.013162,  Accuracy: 99.62%\n",
            "Epoch 21:  Train: Loss: 0.008074,  Accuracy: 99.88%    Validation: Loss: 0.012003,  Accuracy: 99.68%\n",
            "Epoch 22:  Train: Loss: 0.008270,  Accuracy: 99.87%    Validation: Loss: 0.013223,  Accuracy: 99.57%\n",
            "Epoch 23:  Train: Loss: 0.007501,  Accuracy: 99.90%    Validation: Loss: 0.013440,  Accuracy: 99.67%\n",
            "Epoch 24:  Train: Loss: 0.008176,  Accuracy: 99.87%    Validation: Loss: 0.011841,  Accuracy: 99.71%\n",
            "Epoch 25:  Train: Loss: 0.007092,  Accuracy: 99.91%    Validation: Loss: 0.012743,  Accuracy: 99.63%\n",
            "Epoch 26:  Train: Loss: 0.007397,  Accuracy: 99.90%    Validation: Loss: 0.014032,  Accuracy: 99.62%\n",
            "Epoch 27:  Train: Loss: 0.006852,  Accuracy: 99.90%    Validation: Loss: 0.012419,  Accuracy: 99.69%\n",
            "Epoch 28:  Train: Loss: 0.007084,  Accuracy: 99.90%    Validation: Loss: 0.013680,  Accuracy: 99.72%\n",
            "Epoch 29:  Train: Loss: 0.006958,  Accuracy: 99.91%    Validation: Loss: 0.012267,  Accuracy: 99.68%\n",
            "Epoch 30:  Train: Loss: 0.006269,  Accuracy: 99.93%    Validation: Loss: 0.013029,  Accuracy: 99.59%\n",
            "Epoch 31:  Train: Loss: 0.006474,  Accuracy: 99.93%    Validation: Loss: 0.013652,  Accuracy: 99.67%\n",
            "Epoch 32:  Train: Loss: 0.006588,  Accuracy: 99.91%    Validation: Loss: 0.013130,  Accuracy: 99.67%\n",
            "Epoch 33:  Train: Loss: 0.006076,  Accuracy: 99.93%    Validation: Loss: 0.011307,  Accuracy: 99.72%\n",
            "Epoch 34:  Train: Loss: 0.006354,  Accuracy: 99.93%    Validation: Loss: 0.011700,  Accuracy: 99.67%\n",
            "Epoch 35:  Train: Loss: 0.005963,  Accuracy: 99.94%    Validation: Loss: 0.012937,  Accuracy: 99.68%\n",
            "Epoch 36:  Train: Loss: 0.005767,  Accuracy: 99.96%    Validation: Loss: 0.012475,  Accuracy: 99.68%\n",
            "Epoch 37:  Train: Loss: 0.005846,  Accuracy: 99.94%    Validation: Loss: 0.012000,  Accuracy: 99.68%\n",
            "Epoch 38:  Train: Loss: 0.005546,  Accuracy: 99.97%    Validation: Loss: 0.012896,  Accuracy: 99.73%\n",
            "Epoch 39:  Train: Loss: 0.005517,  Accuracy: 99.95%    Validation: Loss: 0.013435,  Accuracy: 99.72%\n",
            "Epoch 40:  Train: Loss: 0.008171,  Accuracy: 99.93%    Validation: Loss: 0.012782,  Accuracy: 99.69%\n",
            "Epoch 41:  Train: Loss: 0.005260,  Accuracy: 99.97%    Validation: Loss: 0.010920,  Accuracy: 99.74%\n",
            "Epoch 42:  Train: Loss: 0.005424,  Accuracy: 99.97%    Validation: Loss: 0.011473,  Accuracy: 99.71%\n",
            "Epoch 43:  Train: Loss: 0.005229,  Accuracy: 99.94%    Validation: Loss: 0.013408,  Accuracy: 99.73%\n",
            "Epoch 44:  Train: Loss: 0.005069,  Accuracy: 99.96%    Validation: Loss: 0.011841,  Accuracy: 99.74%\n",
            "Epoch 45:  Train: Loss: 0.005056,  Accuracy: 99.96%    Validation: Loss: 0.011276,  Accuracy: 99.77%\n",
            "Epoch 46:  Train: Loss: 0.005234,  Accuracy: 99.96%    Validation: Loss: 0.012772,  Accuracy: 99.74%\n",
            "Epoch 47:  Train: Loss: 0.004808,  Accuracy: 99.99%    Validation: Loss: 0.012864,  Accuracy: 99.73%\n",
            "Epoch 48:  Train: Loss: 0.004985,  Accuracy: 99.97%    Validation: Loss: 0.011239,  Accuracy: 99.75%\n",
            "Epoch 49:  Train: Loss: 0.005184,  Accuracy: 99.97%    Validation: Loss: 0.011975,  Accuracy: 99.73%\n",
            "Epoch 50:  Train: Loss: 0.004961,  Accuracy: 99.97%    Validation: Loss: 0.013345,  Accuracy: 99.70%\n",
            "Epoch 51:  Train: Loss: 0.004720,  Accuracy: 99.97%    Validation: Loss: 0.014827,  Accuracy: 99.71%\n",
            "Epoch 52:  Train: Loss: 0.004817,  Accuracy: 99.99%    Validation: Loss: 0.012105,  Accuracy: 99.71%\n",
            "Epoch 53:  Train: Loss: 0.004611,  Accuracy: 99.98%    Validation: Loss: 0.011994,  Accuracy: 99.75%\n",
            "Epoch 54:  Train: Loss: 0.004814,  Accuracy: 99.98%    Validation: Loss: 0.013659,  Accuracy: 99.72%\n",
            "Epoch 55:  Train: Loss: 0.004563,  Accuracy: 99.99%    Validation: Loss: 0.012825,  Accuracy: 99.74%\n",
            "Epoch 56:  Train: Loss: 0.004755,  Accuracy: 99.97%    Validation: Loss: 0.014330,  Accuracy: 99.73%\n",
            "Epoch 57:  Train: Loss: 0.004553,  Accuracy: 99.98%    Validation: Loss: 0.011102,  Accuracy: 99.73%\n",
            "Epoch 58:  Train: Loss: 0.004756,  Accuracy: 99.95%    Validation: Loss: 0.014526,  Accuracy: 99.70%\n",
            "Epoch 59:  Train: Loss: 0.004616,  Accuracy: 99.98%    Validation: Loss: 0.015022,  Accuracy: 99.71%\n",
            "Epoch 60:  Train: Loss: 0.004508,  Accuracy: 99.99%    Validation: Loss: 0.013527,  Accuracy: 99.73%\n",
            "Epoch 61:  Train: Loss: 0.004416,  Accuracy: 99.98%    Validation: Loss: 0.012440,  Accuracy: 99.68%\n",
            "Epoch 62:  Train: Loss: 0.004491,  Accuracy: 99.98%    Validation: Loss: 0.014159,  Accuracy: 99.78%\n",
            "Epoch 63:  Train: Loss: 0.004563,  Accuracy: 99.97%    Validation: Loss: 0.012333,  Accuracy: 99.75%\n",
            "Epoch 64:  Train: Loss: 0.004500,  Accuracy: 99.97%    Validation: Loss: 0.012398,  Accuracy: 99.75%\n",
            "Epoch 65:  Train: Loss: 0.004455,  Accuracy: 99.99%    Validation: Loss: 0.015025,  Accuracy: 99.71%\n",
            "Epoch 66:  Train: Loss: 0.004304,  Accuracy: 99.99%    Validation: Loss: 0.014385,  Accuracy: 99.70%\n",
            "Epoch 67:  Train: Loss: 0.004350,  Accuracy: 99.99%    Validation: Loss: 0.013278,  Accuracy: 99.74%\n",
            "Epoch 68:  Train: Loss: 0.004329,  Accuracy: 99.99%    Validation: Loss: 0.014343,  Accuracy: 99.70%\n",
            "Epoch 69:  Train: Loss: 0.004199,  Accuracy: 99.99%    Validation: Loss: 0.013706,  Accuracy: 99.74%\n",
            "Epoch 70:  Train: Loss: 0.004208,  Accuracy: 99.99%    Validation: Loss: 0.015505,  Accuracy: 99.70%\n",
            "Epoch 71:  Train: Loss: 0.004256,  Accuracy: 99.99%    Validation: Loss: 0.013722,  Accuracy: 99.71%\n",
            "Epoch 72:  Train: Loss: 0.004497,  Accuracy: 99.98%    Validation: Loss: 0.014096,  Accuracy: 99.73%\n",
            "Epoch 73:  Train: Loss: 0.004135,  Accuracy: 99.99%    Validation: Loss: 0.011549,  Accuracy: 99.79%\n",
            "Epoch 74:  Train: Loss: 0.004064,  Accuracy: 100.00%    Validation: Loss: 0.015285,  Accuracy: 99.74%\n",
            "Epoch 75:  Train: Loss: 0.004160,  Accuracy: 99.99%    Validation: Loss: 0.023387,  Accuracy: 99.74%\n",
            "Epoch 76:  Train: Loss: 0.004390,  Accuracy: 99.98%    Validation: Loss: 0.011652,  Accuracy: 99.77%\n",
            "Epoch 77:  Train: Loss: 0.004115,  Accuracy: 99.99%    Validation: Loss: 0.024918,  Accuracy: 99.72%\n",
            "Epoch 78:  Train: Loss: 0.004410,  Accuracy: 99.97%    Validation: Loss: 0.022495,  Accuracy: 99.72%\n",
            "Epoch 79:  Train: Loss: 0.004188,  Accuracy: 99.99%    Validation: Loss: 0.021565,  Accuracy: 99.75%\n",
            "Epoch 80:  Train: Loss: 0.004228,  Accuracy: 99.99%    Validation: Loss: 0.013442,  Accuracy: 99.78%\n",
            "Epoch 81:  Train: Loss: 0.004240,  Accuracy: 99.99%    Validation: Loss: 0.012540,  Accuracy: 99.71%\n",
            "Epoch 82:  Train: Loss: 0.004106,  Accuracy: 99.99%    Validation: Loss: 0.024487,  Accuracy: 99.73%\n",
            "Epoch 83:  Train: Loss: 0.004141,  Accuracy: 99.99%    Validation: Loss: 0.024410,  Accuracy: 99.74%\n",
            "Epoch 84:  Train: Loss: 0.004182,  Accuracy: 99.99%    Validation: Loss: 0.023522,  Accuracy: 99.73%\n",
            "Epoch 85:  Train: Loss: 0.004106,  Accuracy: 99.99%    Validation: Loss: 0.022697,  Accuracy: 99.75%\n",
            "Epoch 86:  Train: Loss: 0.003876,  Accuracy: 100.00%    Validation: Loss: 0.021429,  Accuracy: 99.72%\n",
            "Epoch 87:  Train: Loss: 0.004117,  Accuracy: 99.99%    Validation: Loss: 0.024301,  Accuracy: 99.73%\n",
            "Epoch 88:  Train: Loss: 0.004326,  Accuracy: 99.98%    Validation: Loss: 0.026142,  Accuracy: 99.71%\n",
            "Epoch 89:  Train: Loss: 0.004222,  Accuracy: 99.99%    Validation: Loss: 0.015631,  Accuracy: 99.75%\n",
            "Epoch 90:  Train: Loss: 0.004108,  Accuracy: 99.99%    Validation: Loss: 0.015129,  Accuracy: 99.74%\n",
            "Epoch 91:  Train: Loss: 0.003983,  Accuracy: 99.99%    Validation: Loss: 0.026494,  Accuracy: 99.74%\n",
            "Epoch 92:  Train: Loss: 0.004119,  Accuracy: 99.99%    Validation: Loss: 0.025349,  Accuracy: 99.74%\n",
            "Epoch 93:  Train: Loss: 0.004194,  Accuracy: 99.99%    Validation: Loss: 0.023159,  Accuracy: 99.75%\n",
            "Epoch 94:  Train: Loss: 0.004070,  Accuracy: 99.99%    Validation: Loss: 0.016724,  Accuracy: 99.71%\n",
            "Epoch 95:  Train: Loss: 0.003938,  Accuracy: 100.00%    Validation: Loss: 0.015608,  Accuracy: 99.73%\n",
            "Epoch 96:  Train: Loss: 0.004039,  Accuracy: 99.99%    Validation: Loss: 0.017845,  Accuracy: 99.67%\n",
            "Epoch 97:  Train: Loss: 0.004177,  Accuracy: 99.99%    Validation: Loss: 0.024892,  Accuracy: 99.69%\n",
            "Epoch 98:  Train: Loss: 0.004118,  Accuracy: 99.97%    Validation: Loss: 0.024244,  Accuracy: 99.77%\n",
            "Epoch 99:  Train: Loss: 0.004017,  Accuracy: 99.99%    Validation: Loss: 0.013988,  Accuracy: 99.71%\n",
            "Epoch 100:  Train: Loss: 0.004022,  Accuracy: 99.99%    Validation: Loss: 0.026387,  Accuracy: 99.68%\n",
            "Done!\n"
          ]
        }
      ]
    },
    {
      "cell_type": "code",
      "source": [
        "#Plot of Accuracy\n",
        "plt.plot(train_accuracy_history, label='train')\n",
        "plt.plot(val_accuracy_history, label='validation')\n",
        "plt.xlabel(\"no. of epochs\")\n",
        "plt.title(\"Accuracy\")\n",
        "plt.legend()\n",
        "plt.show()"
      ],
      "metadata": {
        "colab": {
          "base_uri": "https://localhost:8080/",
          "height": 472
        },
        "outputId": "ab99fee8-5d56-48b9-e036-1d258ced6fa6",
        "id": "PvdiD8Fksu2d"
      },
      "execution_count": null,
      "outputs": [
        {
          "output_type": "display_data",
          "data": {
            "text/plain": [
              "<Figure size 640x480 with 1 Axes>"
            ],
            "image/png": "[encoded data removed]"
          },
          "metadata": {}
        }
      ]
    },
    {
      "cell_type": "code",
      "source": [
        "#Plot of Loss\n",
        "plt.plot(train_loss_history, label='train')\n",
        "plt.plot(val_loss_history, label='validation')\n",
        "plt.xlabel('no. of epochs')\n",
        "plt.title('Loss')\n",
        "plt.legend()\n",
        "plt.show()"
      ],
      "metadata": {
        "colab": {
          "base_uri": "https://localhost:8080/",
          "height": 472
        },
        "outputId": "c798893b-14dc-4868-8330-ec870057b8ce",
        "id": "XVpn6e_rsu2d"
      },
      "execution_count": null,
      "outputs": [
        {
          "output_type": "display_data",
          "data": {
            "text/plain": [
              "<Figure size 640x480 with 1 Axes>"
            ],
            "image/png": "[encoded data removed]"
          },
          "metadata": {}
        }
      ]
    },
    {
      "cell_type": "code",
      "source": [
        "best_title_model_with_stopwords = best_model\n",
        "test_loss, test_accuracy = test_loop(test_dataloader, best_title_model_with_stopwords, criterion)"
      ],
      "metadata": {
        "colab": {
          "base_uri": "https://localhost:8080/"
        },
        "outputId": "15b5141a-114b-4605-ddf5-2e53718adf03",
        "id": "t22a2w5xsu2e"
      },
      "execution_count": null,
      "outputs": [
        {
          "output_type": "stream",
          "name": "stdout",
          "text": [
            "Loss: 0.022601,  Accuracy: 99.79%\n"
          ]
        }
      ]
    },
    {
      "cell_type": "markdown",
      "source": [
        "##Without lemmatization"
      ],
      "metadata": {
        "id": "vn-jUncJtkt0"
      }
    },
    {
      "cell_type": "code",
      "source": [
        "def clean_text_without_lemma(text):\n",
        "  \n",
        "  clean_text = []\n",
        "  text = re.sub(r'@\\S+', '', text)\n",
        "  text = nlp(text)\n",
        "  \n",
        "  for token in text:\n",
        "    token.norm_\n",
        "     \n",
        "    if not (token.is_stop\n",
        "            or token.is_digit\n",
        "            or token.is_punct\n",
        "            or token.like_url\n",
        "            or token.like_email\n",
        "            or token.is_space\n",
        "            or token.is_oov\n",
        "            or len(token)<2) :\n",
        "\n",
        "      clean_text.append(token.text)  \n",
        "     \n",
        "  return ' '.join(clean_text)"
      ],
      "metadata": {
        "id": "Wju4JCHXtkt0"
      },
      "execution_count": null,
      "outputs": []
    },
    {
      "cell_type": "code",
      "source": [
        "df['title_progress_withot_lemma'] = df['title'].progress_apply(clean_text_without_lemma)"
      ],
      "metadata": {
        "colab": {
          "base_uri": "https://localhost:8080/"
        },
        "outputId": "6d9fe037-192e-4245-9b70-99e7c25ebf81",
        "id": "jS1E6F5etkt1"
      },
      "execution_count": null,
      "outputs": [
        {
          "output_type": "stream",
          "name": "stderr",
          "text": [
            "100%|██████████| 44888/44888 [08:13<00:00, 90.92it/s] \n"
          ]
        }
      ]
    },
    {
      "cell_type": "code",
      "source": [
        "df['title_emb_withot_lemma'] = df['title_progress_withot_lemma'].progress_apply(lambda x: nlp(x).vector)"
      ],
      "metadata": {
        "colab": {
          "base_uri": "https://localhost:8080/"
        },
        "id": "0ZXEGiRxtkt1",
        "outputId": "3b80d312-dc46-405a-a0e2-3240ecd649e1"
      },
      "execution_count": null,
      "outputs": [
        {
          "output_type": "stream",
          "name": "stderr",
          "text": [
            "100%|██████████| 44888/44888 [08:04<00:00, 92.63it/s] \n"
          ]
        }
      ]
    },
    {
      "cell_type": "code",
      "source": [
        "train_dataloader, val_dataloader, test_dataloader = get_dataloaders(df['title_emb_withot_lemma'], df['is_fake'], batch_size=512)"
      ],
      "metadata": {
        "id": "F3bhvdfitkt1"
      },
      "execution_count": null,
      "outputs": []
    },
    {
      "cell_type": "code",
      "source": [
        "epochs = 100\n",
        "train_loss_history = []\n",
        "train_accuracy_history = []\n",
        "val_loss_history = []\n",
        "val_accuracy_history = []\n",
        "best_accuracy = 0\n",
        "\n",
        "model.apply(weights_init)\n",
        "\n",
        "for epoch in range(epochs):\n",
        "    print(f'Epoch {epoch+1}:  ', end='')\n",
        "    print(f'Train: ', end='')\n",
        "    train_loss, train_accuracy = train_loop(train_dataloader, model, optimizer, criterion)\n",
        "    print(f'Validation: ', end='')\n",
        "    val_loss, val_accuracy = test_loop(val_dataloader, model, criterion)\n",
        "\n",
        "    if val_accuracy > best_accuracy:\n",
        "        best_accuracy = val_accuracy\n",
        "        best_model = model\n",
        "        torch.save(model.state_dict(), 'best_model.pt')\n",
        "\n",
        "    train_loss_history.append(train_loss)\n",
        "    train_accuracy_history.append(train_accuracy)\n",
        "    val_loss_history.append(val_loss)\n",
        "    val_accuracy_history.append(val_accuracy)\n",
        "\n",
        "print('Done!')"
      ],
      "metadata": {
        "colab": {
          "base_uri": "https://localhost:8080/"
        },
        "outputId": "358d6cfb-7fd6-412f-d99e-f5d0b7554b4a",
        "id": "_5Qo74xOtkt1"
      },
      "execution_count": null,
      "outputs": [
        {
          "output_type": "stream",
          "name": "stdout",
          "text": [
            "Epoch 1:  Train: Loss: 0.086790,  Accuracy: 96.67%    Validation: Loss: 0.035812,  Accuracy: 98.72%\n",
            "Epoch 2:  Train: Loss: 0.029250,  Accuracy: 99.02%    Validation: Loss: 0.025781,  Accuracy: 99.18%\n",
            "Epoch 3:  Train: Loss: 0.022888,  Accuracy: 99.25%    Validation: Loss: 0.021619,  Accuracy: 99.32%\n",
            "Epoch 4:  Train: Loss: 0.019715,  Accuracy: 99.38%    Validation: Loss: 0.020012,  Accuracy: 99.33%\n",
            "Epoch 5:  Train: Loss: 0.016375,  Accuracy: 99.47%    Validation: Loss: 0.017623,  Accuracy: 99.35%\n",
            "Epoch 6:  Train: Loss: 0.014926,  Accuracy: 99.57%    Validation: Loss: 0.018070,  Accuracy: 99.40%\n",
            "Epoch 7:  Train: Loss: 0.013815,  Accuracy: 99.54%    Validation: Loss: 0.015812,  Accuracy: 99.45%\n",
            "Epoch 8:  Train: Loss: 0.012204,  Accuracy: 99.60%    Validation: Loss: 0.015506,  Accuracy: 99.41%\n",
            "Epoch 9:  Train: Loss: 0.011678,  Accuracy: 99.61%    Validation: Loss: 0.015952,  Accuracy: 99.40%\n",
            "Epoch 10:  Train: Loss: 0.010273,  Accuracy: 99.70%    Validation: Loss: 0.015589,  Accuracy: 99.48%\n",
            "Epoch 11:  Train: Loss: 0.010088,  Accuracy: 99.67%    Validation: Loss: 0.013796,  Accuracy: 99.54%\n",
            "Epoch 12:  Train: Loss: 0.008706,  Accuracy: 99.73%    Validation: Loss: 0.013728,  Accuracy: 99.49%\n",
            "Epoch 13:  Train: Loss: 0.008245,  Accuracy: 99.76%    Validation: Loss: 0.014852,  Accuracy: 99.50%\n",
            "Epoch 14:  Train: Loss: 0.008075,  Accuracy: 99.74%    Validation: Loss: 0.015960,  Accuracy: 99.49%\n",
            "Epoch 15:  Train: Loss: 0.007517,  Accuracy: 99.75%    Validation: Loss: 0.014757,  Accuracy: 99.43%\n",
            "Epoch 16:  Train: Loss: 0.006718,  Accuracy: 99.78%    Validation: Loss: 0.013626,  Accuracy: 99.57%\n",
            "Epoch 17:  Train: Loss: 0.006615,  Accuracy: 99.79%    Validation: Loss: 0.012995,  Accuracy: 99.47%\n",
            "Epoch 18:  Train: Loss: 0.006171,  Accuracy: 99.83%    Validation: Loss: 0.012905,  Accuracy: 99.53%\n",
            "Epoch 19:  Train: Loss: 0.005692,  Accuracy: 99.83%    Validation: Loss: 0.013286,  Accuracy: 99.53%\n",
            "Epoch 20:  Train: Loss: 0.005393,  Accuracy: 99.83%    Validation: Loss: 0.013130,  Accuracy: 99.54%\n",
            "Epoch 21:  Train: Loss: 0.004740,  Accuracy: 99.88%    Validation: Loss: 0.012828,  Accuracy: 99.54%\n",
            "Epoch 22:  Train: Loss: 0.005062,  Accuracy: 99.84%    Validation: Loss: 0.012639,  Accuracy: 99.54%\n",
            "Epoch 23:  Train: Loss: 0.005013,  Accuracy: 99.86%    Validation: Loss: 0.012567,  Accuracy: 99.53%\n",
            "Epoch 24:  Train: Loss: 0.004023,  Accuracy: 99.89%    Validation: Loss: 0.012576,  Accuracy: 99.57%\n",
            "Epoch 25:  Train: Loss: 0.003810,  Accuracy: 99.90%    Validation: Loss: 0.012719,  Accuracy: 99.55%\n",
            "Epoch 26:  Train: Loss: 0.003529,  Accuracy: 99.91%    Validation: Loss: 0.013463,  Accuracy: 99.58%\n",
            "Epoch 27:  Train: Loss: 0.003855,  Accuracy: 99.87%    Validation: Loss: 0.012738,  Accuracy: 99.61%\n",
            "Epoch 28:  Train: Loss: 0.003158,  Accuracy: 99.94%    Validation: Loss: 0.012512,  Accuracy: 99.61%\n",
            "Epoch 29:  Train: Loss: 0.003545,  Accuracy: 99.89%    Validation: Loss: 0.012985,  Accuracy: 99.54%\n",
            "Epoch 30:  Train: Loss: 0.003319,  Accuracy: 99.91%    Validation: Loss: 0.011682,  Accuracy: 99.59%\n",
            "Epoch 31:  Train: Loss: 0.002964,  Accuracy: 99.92%    Validation: Loss: 0.012321,  Accuracy: 99.54%\n",
            "Epoch 32:  Train: Loss: 0.002294,  Accuracy: 99.96%    Validation: Loss: 0.012848,  Accuracy: 99.58%\n",
            "Epoch 33:  Train: Loss: 0.002412,  Accuracy: 99.95%    Validation: Loss: 0.015262,  Accuracy: 99.54%\n",
            "Epoch 34:  Train: Loss: 0.002330,  Accuracy: 99.94%    Validation: Loss: 0.013933,  Accuracy: 99.58%\n",
            "Epoch 35:  Train: Loss: 0.002283,  Accuracy: 99.94%    Validation: Loss: 0.013317,  Accuracy: 99.60%\n",
            "Epoch 36:  Train: Loss: 0.002405,  Accuracy: 99.94%    Validation: Loss: 0.013394,  Accuracy: 99.60%\n",
            "Epoch 37:  Train: Loss: 0.001918,  Accuracy: 99.96%    Validation: Loss: 0.012096,  Accuracy: 99.63%\n",
            "Epoch 38:  Train: Loss: 0.001694,  Accuracy: 99.97%    Validation: Loss: 0.012887,  Accuracy: 99.60%\n",
            "Epoch 39:  Train: Loss: 0.001832,  Accuracy: 99.96%    Validation: Loss: 0.012424,  Accuracy: 99.61%\n",
            "Epoch 40:  Train: Loss: 0.001897,  Accuracy: 99.96%    Validation: Loss: 0.015155,  Accuracy: 99.58%\n",
            "Epoch 41:  Train: Loss: 0.001869,  Accuracy: 99.96%    Validation: Loss: 0.014216,  Accuracy: 99.59%\n",
            "Epoch 42:  Train: Loss: 0.001529,  Accuracy: 99.98%    Validation: Loss: 0.014342,  Accuracy: 99.57%\n",
            "Epoch 43:  Train: Loss: 0.001228,  Accuracy: 99.99%    Validation: Loss: 0.011047,  Accuracy: 99.60%\n",
            "Epoch 44:  Train: Loss: 0.001623,  Accuracy: 99.97%    Validation: Loss: 0.012519,  Accuracy: 99.61%\n",
            "Epoch 45:  Train: Loss: 0.001442,  Accuracy: 99.98%    Validation: Loss: 0.012975,  Accuracy: 99.57%\n",
            "Epoch 46:  Train: Loss: 0.001457,  Accuracy: 99.96%    Validation: Loss: 0.012677,  Accuracy: 99.61%\n",
            "Epoch 47:  Train: Loss: 0.001402,  Accuracy: 99.98%    Validation: Loss: 0.014207,  Accuracy: 99.58%\n",
            "Epoch 48:  Train: Loss: 0.001217,  Accuracy: 99.99%    Validation: Loss: 0.013314,  Accuracy: 99.61%\n",
            "Epoch 49:  Train: Loss: 0.001280,  Accuracy: 99.98%    Validation: Loss: 0.014337,  Accuracy: 99.59%\n",
            "Epoch 50:  Train: Loss: 0.000925,  Accuracy: 99.99%    Validation: Loss: 0.013585,  Accuracy: 99.62%\n",
            "Epoch 51:  Train: Loss: 0.001117,  Accuracy: 99.99%    Validation: Loss: 0.013679,  Accuracy: 99.59%\n",
            "Epoch 52:  Train: Loss: 0.001410,  Accuracy: 99.96%    Validation: Loss: 0.014577,  Accuracy: 99.61%\n",
            "Epoch 53:  Train: Loss: 0.001291,  Accuracy: 99.98%    Validation: Loss: 0.013853,  Accuracy: 99.57%\n",
            "Epoch 54:  Train: Loss: 0.001334,  Accuracy: 99.97%    Validation: Loss: 0.014032,  Accuracy: 99.59%\n",
            "Epoch 55:  Train: Loss: 0.001028,  Accuracy: 99.99%    Validation: Loss: 0.013879,  Accuracy: 99.58%\n",
            "Epoch 56:  Train: Loss: 0.000897,  Accuracy: 99.97%    Validation: Loss: 0.014799,  Accuracy: 99.57%\n",
            "Epoch 57:  Train: Loss: 0.001083,  Accuracy: 99.98%    Validation: Loss: 0.015725,  Accuracy: 99.60%\n",
            "Epoch 58:  Train: Loss: 0.000902,  Accuracy: 99.98%    Validation: Loss: 0.015379,  Accuracy: 99.52%\n",
            "Epoch 59:  Train: Loss: 0.000720,  Accuracy: 99.99%    Validation: Loss: 0.015366,  Accuracy: 99.59%\n",
            "Epoch 60:  Train: Loss: 0.000849,  Accuracy: 99.98%    Validation: Loss: 0.013467,  Accuracy: 99.63%\n",
            "Epoch 61:  Train: Loss: 0.000958,  Accuracy: 99.98%    Validation: Loss: 0.014658,  Accuracy: 99.62%\n",
            "Epoch 62:  Train: Loss: 0.000811,  Accuracy: 99.98%    Validation: Loss: 0.016490,  Accuracy: 99.55%\n",
            "Epoch 63:  Train: Loss: 0.000999,  Accuracy: 99.98%    Validation: Loss: 0.015247,  Accuracy: 99.60%\n",
            "Epoch 64:  Train: Loss: 0.000649,  Accuracy: 100.00%    Validation: Loss: 0.015263,  Accuracy: 99.61%\n",
            "Epoch 65:  Train: Loss: 0.000873,  Accuracy: 99.98%    Validation: Loss: 0.014220,  Accuracy: 99.60%\n",
            "Epoch 66:  Train: Loss: 0.000604,  Accuracy: 99.99%    Validation: Loss: 0.014410,  Accuracy: 99.59%\n",
            "Epoch 67:  Train: Loss: 0.000578,  Accuracy: 99.99%    Validation: Loss: 0.015570,  Accuracy: 99.58%\n",
            "Epoch 68:  Train: Loss: 0.000582,  Accuracy: 99.99%    Validation: Loss: 0.015176,  Accuracy: 99.60%\n",
            "Epoch 69:  Train: Loss: 0.000577,  Accuracy: 99.99%    Validation: Loss: 0.014352,  Accuracy: 99.58%\n",
            "Epoch 70:  Train: Loss: 0.000660,  Accuracy: 99.98%    Validation: Loss: 0.014314,  Accuracy: 99.64%\n",
            "Epoch 71:  Train: Loss: 0.000851,  Accuracy: 99.99%    Validation: Loss: 0.018681,  Accuracy: 99.57%\n",
            "Epoch 72:  Train: Loss: 0.000617,  Accuracy: 99.99%    Validation: Loss: 0.013474,  Accuracy: 99.64%\n",
            "Epoch 73:  Train: Loss: 0.000545,  Accuracy: 100.00%    Validation: Loss: 0.015879,  Accuracy: 99.55%\n",
            "Epoch 74:  Train: Loss: 0.000572,  Accuracy: 99.99%    Validation: Loss: 0.014889,  Accuracy: 99.61%\n",
            "Epoch 75:  Train: Loss: 0.000550,  Accuracy: 99.99%    Validation: Loss: 0.014927,  Accuracy: 99.59%\n",
            "Epoch 76:  Train: Loss: 0.000654,  Accuracy: 99.99%    Validation: Loss: 0.015221,  Accuracy: 99.60%\n",
            "Epoch 77:  Train: Loss: 0.000390,  Accuracy: 100.00%    Validation: Loss: 0.012250,  Accuracy: 99.67%\n",
            "Epoch 78:  Train: Loss: 0.000433,  Accuracy: 99.99%    Validation: Loss: 0.016856,  Accuracy: 99.60%\n",
            "Epoch 79:  Train: Loss: 0.000772,  Accuracy: 99.99%    Validation: Loss: 0.015435,  Accuracy: 99.62%\n",
            "Epoch 80:  Train: Loss: 0.000507,  Accuracy: 99.99%    Validation: Loss: 0.014727,  Accuracy: 99.60%\n",
            "Epoch 81:  Train: Loss: 0.000786,  Accuracy: 99.97%    Validation: Loss: 0.015670,  Accuracy: 99.60%\n",
            "Epoch 82:  Train: Loss: 0.000603,  Accuracy: 99.99%    Validation: Loss: 0.014808,  Accuracy: 99.62%\n",
            "Epoch 83:  Train: Loss: 0.000475,  Accuracy: 99.99%    Validation: Loss: 0.016605,  Accuracy: 99.61%\n",
            "Epoch 84:  Train: Loss: 0.000361,  Accuracy: 100.00%    Validation: Loss: 0.013722,  Accuracy: 99.67%\n",
            "Epoch 85:  Train: Loss: 0.000447,  Accuracy: 99.99%    Validation: Loss: 0.016590,  Accuracy: 99.62%\n",
            "Epoch 86:  Train: Loss: 0.000447,  Accuracy: 100.00%    Validation: Loss: 0.018507,  Accuracy: 99.61%\n",
            "Epoch 87:  Train: Loss: 0.000322,  Accuracy: 100.00%    Validation: Loss: 0.017291,  Accuracy: 99.55%\n",
            "Epoch 88:  Train: Loss: 0.000414,  Accuracy: 99.99%    Validation: Loss: 0.015850,  Accuracy: 99.62%\n",
            "Epoch 89:  Train: Loss: 0.000641,  Accuracy: 99.99%    Validation: Loss: 0.014632,  Accuracy: 99.58%\n",
            "Epoch 90:  Train: Loss: 0.000367,  Accuracy: 99.99%    Validation: Loss: 0.016766,  Accuracy: 99.61%\n",
            "Epoch 91:  Train: Loss: 0.000282,  Accuracy: 100.00%    Validation: Loss: 0.017853,  Accuracy: 99.53%\n",
            "Epoch 92:  Train: Loss: 0.000304,  Accuracy: 99.99%    Validation: Loss: 0.017530,  Accuracy: 99.58%\n",
            "Epoch 93:  Train: Loss: 0.000390,  Accuracy: 99.99%    Validation: Loss: 0.015793,  Accuracy: 99.61%\n",
            "Epoch 94:  Train: Loss: 0.000469,  Accuracy: 99.99%    Validation: Loss: 0.019069,  Accuracy: 99.55%\n",
            "Epoch 95:  Train: Loss: 0.000911,  Accuracy: 99.98%    Validation: Loss: 0.016860,  Accuracy: 99.57%\n",
            "Epoch 96:  Train: Loss: 0.001025,  Accuracy: 99.96%    Validation: Loss: 0.017270,  Accuracy: 99.61%\n",
            "Epoch 97:  Train: Loss: 0.000488,  Accuracy: 99.99%    Validation: Loss: 0.018015,  Accuracy: 99.65%\n",
            "Epoch 98:  Train: Loss: 0.000390,  Accuracy: 99.99%    Validation: Loss: 0.014627,  Accuracy: 99.67%\n",
            "Epoch 99:  Train: Loss: 0.000454,  Accuracy: 99.99%    Validation: Loss: 0.017316,  Accuracy: 99.62%\n",
            "Epoch 100:  Train: Loss: 0.000363,  Accuracy: 99.99%    Validation: Loss: 0.016052,  Accuracy: 99.65%\n",
            "Done!\n"
          ]
        }
      ]
    },
    {
      "cell_type": "code",
      "source": [
        "#Plot of Accuracy\n",
        "plt.plot(train_accuracy_history, label='train')\n",
        "plt.plot(val_accuracy_history, label='validation')\n",
        "plt.xlabel(\"no. of epochs\")\n",
        "plt.title(\"Accuracy\")\n",
        "plt.legend()\n",
        "plt.show()"
      ],
      "metadata": {
        "colab": {
          "base_uri": "https://localhost:8080/",
          "height": 472
        },
        "outputId": "b87a6f3c-16d6-455a-cc9d-1bf3fdfd7b0f",
        "id": "qtiiFysMtkt1"
      },
      "execution_count": null,
      "outputs": [
        {
          "output_type": "display_data",
          "data": {
            "text/plain": [
              "<Figure size 640x480 with 1 Axes>"
            ],
            "image/png": "[encoded data removed]"
          },
          "metadata": {}
        }
      ]
    },
    {
      "cell_type": "code",
      "source": [
        "#Plot of Loss\n",
        "plt.plot(train_loss_history, label='train')\n",
        "plt.plot(val_loss_history, label='validation')\n",
        "plt.xlabel('no. of epochs')\n",
        "plt.title('Loss')\n",
        "plt.legend()\n",
        "plt.show()"
      ],
      "metadata": {
        "colab": {
          "base_uri": "https://localhost:8080/",
          "height": 472
        },
        "outputId": "fc26b744-48d6-4304-9180-62f62026f3ed",
        "id": "JG--TaWItkt1"
      },
      "execution_count": null,
      "outputs": [
        {
          "output_type": "display_data",
          "data": {
            "text/plain": [
              "<Figure size 640x480 with 1 Axes>"
            ],
            "image/png": "[encoded data removed]"
          },
          "metadata": {}
        }
      ]
    },
    {
      "cell_type": "code",
      "source": [
        "best_title_model_withot_lemma = best_model\n",
        "test_loss, test_accuracy = test_loop(test_dataloader, best_title_model_withot_lemma, criterion)"
      ],
      "metadata": {
        "colab": {
          "base_uri": "https://localhost:8080/"
        },
        "outputId": "d3554ac1-cc2d-4623-a86b-da09ad5c85d5",
        "id": "kSZOXTAGtkt1"
      },
      "execution_count": null,
      "outputs": [
        {
          "output_type": "stream",
          "name": "stdout",
          "text": [
            "Loss: 0.033715,  Accuracy: 99.68%\n"
          ]
        }
      ]
    },
    {
      "cell_type": "markdown",
      "source": [
        "##Summary"
      ],
      "metadata": {
        "id": "-KCQsJDePIdY"
      }
    },
    {
      "cell_type": "code",
      "source": [
        "df_subject = pd.DataFrame({'Model': ['Without_Model_Based_on_Subject'], 'Loss': [0.000000], 'Accuracy': ['100%']})\n",
        "df_reg_log_spacy = pd.DataFrame({'Model': ['LogisticRegression_with_Spacy'], 'Loss': [0.015593], 'Accuracy': ['99.52%']})\n",
        "df_reg_log_transf = pd.DataFrame({'Model': ['LogisticRegression_with_Transformer'], 'Loss': [0.097265], 'Accuracy': ['96.16%']})\n",
        "df_simple_net = pd.DataFrame({'Model': ['SimpleNet'], 'Loss': [0.033077], 'Accuracy': ['99.69%']})\n",
        "df_simple_net_stopwords = pd.DataFrame({'Model': ['SimpleNet_with_Stopwords'], 'Loss': [0.022601], 'Accuracy': ['99.79%']})\n",
        "df_simple_net_lemma = pd.DataFrame({'Model': ['SimpleNet_without_Lemmatization'], 'Loss': [0.033715], 'Accuracy': ['99.68%']})"
      ],
      "metadata": {
        "id": "fu9J7Je3w7B2"
      },
      "execution_count": null,
      "outputs": []
    },
    {
      "cell_type": "code",
      "source": [
        "comparison = pd.concat([df_subject, df_reg_log_spacy, df_reg_log_transf, df_simple_net, df_simple_net_stopwords, df_simple_net_lemma])\n",
        "comparison = comparison.reset_index(drop=True)\n",
        "comparison"
      ],
      "metadata": {
        "colab": {
          "base_uri": "https://localhost:8080/",
          "height": 238
        },
        "id": "ZsTT96Zezw6j",
        "outputId": "3cb5c463-a2a6-4d41-e389-ba212a0ed21d"
      },
      "execution_count": null,
      "outputs": [
        {
          "output_type": "execute_result",
          "data": {
            "text/plain": [
              "                                 Model      Loss Accuracy\n",
              "0       Without_Model_Based_on_Subject  0.000000     100%\n",
              "1        LogisticRegression_with_Spacy  0.015593   99.52%\n",
              "2  LogisticRegression_with_Transformer  0.097265   96.16%\n",
              "3                            SimpleNet  0.033077   99.69%\n",
              "4             SimpleNet_with_Stopwords  0.022601   99.79%\n",
              "5      SimpleNet_without_Lemmatization  0.033715   99.68%"
            ],
            "text/html": [
              "\n",
              "  <div id=\"df-eed6b863-945c-4ffa-937d-1d99af69790a\">\n",
              "    <div class=\"colab-df-container\">\n",
              "      <div>\n",
              "<style scoped>\n",
              "    .dataframe tbody tr th:only-of-type {\n",
              "        vertical-align: middle;\n",
              "    }\n",
              "\n",
              "    .dataframe tbody tr th {\n",
              "        vertical-align: top;\n",
              "    }\n",
              "\n",
              "    .dataframe thead th {\n",
              "        text-align: right;\n",
              "    }\n",
              "</style>\n",
              "<table border=\"1\" class=\"dataframe\">\n",
              "  <thead>\n",
              "    <tr style=\"text-align: right;\">\n",
              "      <th></th>\n",
              "      <th>Model</th>\n",
              "      <th>Loss</th>\n",
              "      <th>Accuracy</th>\n",
              "    </tr>\n",
              "  </thead>\n",
              "  <tbody>\n",
              "    <tr>\n",
              "      <th>0</th>\n",
              "      <td>Without_Model_Based_on_Subject</td>\n",
              "      <td>0.000000</td>\n",
              "      <td>100%</td>\n",
              "    </tr>\n",
              "    <tr>\n",
              "      <th>1</th>\n",
              "      <td>LogisticRegression_with_Spacy</td>\n",
              "      <td>0.015593</td>\n",
              "      <td>99.52%</td>\n",
              "    </tr>\n",
              "    <tr>\n",
              "      <th>2</th>\n",
              "      <td>LogisticRegression_with_Transformer</td>\n",
              "      <td>0.097265</td>\n",
              "      <td>96.16%</td>\n",
              "    </tr>\n",
              "    <tr>\n",
              "      <th>3</th>\n",
              "      <td>SimpleNet</td>\n",
              "      <td>0.033077</td>\n",
              "      <td>99.69%</td>\n",
              "    </tr>\n",
              "    <tr>\n",
              "      <th>4</th>\n",
              "      <td>SimpleNet_with_Stopwords</td>\n",
              "      <td>0.022601</td>\n",
              "      <td>99.79%</td>\n",
              "    </tr>\n",
              "    <tr>\n",
              "      <th>5</th>\n",
              "      <td>SimpleNet_without_Lemmatization</td>\n",
              "      <td>0.033715</td>\n",
              "      <td>99.68%</td>\n",
              "    </tr>\n",
              "  </tbody>\n",
              "</table>\n",
              "</div>\n",
              "      <button class=\"colab-df-convert\" onclick=\"convertToInteractive('df-eed6b863-945c-4ffa-937d-1d99af69790a')\"\n",
              "              title=\"Convert this dataframe to an interactive table.\"\n",
              "              style=\"display:none;\">\n",
              "        \n",
              "  <svg xmlns=\"http://www.w3.org/2000/svg\" height=\"24px\"viewBox=\"0 0 24 24\"\n",
              "       width=\"24px\">\n",
              "    <path d=\"M0 0h24v24H0V0z\" fill=\"none\"/>\n",
              "    <path d=\"M18.56 5.44l.94 2.06.94-2.06 2.06-.94-2.06-.94-.94-2.06-.94 2.06-2.06.94zm-11 1L8.5 8.5l.94-2.06 2.06-.94-2.06-.94L8.5 2.5l-.94 2.06-2.06.94zm10 10l.94 2.06.94-2.06 2.06-.94-2.06-.94-.94-2.06-.94 2.06-2.06.94z\"/><path d=\"M17.41 7.96l-1.37-1.37c-.4-.4-.92-.59-1.43-.59-.52 0-1.04.2-1.43.59L10.3 9.45l-7.72 7.72c-.78.78-.78 2.05 0 2.83L4 21.41c.39.39.9.59 1.41.59.51 0 1.02-.2 1.41-.59l7.78-7.78 2.81-2.81c.8-.78.8-2.07 0-2.86zM5.41 20L4 18.59l7.72-7.72 1.47 1.35L5.41 20z\"/>\n",
              "  </svg>\n",
              "      </button>\n",
              "      \n",
              "  <style>\n",
              "    .colab-df-container {\n",
              "      display:flex;\n",
              "      flex-wrap:wrap;\n",
              "      gap: 12px;\n",
              "    }\n",
              "\n",
              "    .colab-df-convert {\n",
              "      background-color: #E8F0FE;\n",
              "      border: none;\n",
              "      border-radius: 50%;\n",
              "      cursor: pointer;\n",
              "      display: none;\n",
              "      fill: #1967D2;\n",
              "      height: 32px;\n",
              "      padding: 0 0 0 0;\n",
              "      width: 32px;\n",
              "    }\n",
              "\n",
              "    .colab-df-convert:hover {\n",
              "      background-color: #E2EBFA;\n",
              "      box-shadow: 0px 1px 2px rgba(60, 64, 67, 0.3), 0px 1px 3px 1px rgba(60, 64, 67, 0.15);\n",
              "      fill: #174EA6;\n",
              "    }\n",
              "\n",
              "    [theme=dark] .colab-df-convert {\n",
              "      background-color: #3B4455;\n",
              "      fill: #D2E3FC;\n",
              "    }\n",
              "\n",
              "    [theme=dark] .colab-df-convert:hover {\n",
              "      background-color: #434B5C;\n",
              "      box-shadow: 0px 1px 3px 1px rgba(0, 0, 0, 0.15);\n",
              "      filter: drop-shadow(0px 1px 2px rgba(0, 0, 0, 0.3));\n",
              "      fill: #FFFFFF;\n",
              "    }\n",
              "  </style>\n",
              "\n",
              "      <script>\n",
              "        const buttonEl =\n",
              "          document.querySelector('#df-eed6b863-945c-4ffa-937d-1d99af69790a button.colab-df-convert');\n",
              "        buttonEl.style.display =\n",
              "          google.colab.kernel.accessAllowed ? 'block' : 'none';\n",
              "\n",
              "        async function convertToInteractive(key) {\n",
              "          const element = document.querySelector('#df-eed6b863-945c-4ffa-937d-1d99af69790a');\n",
              "          const dataTable =\n",
              "            await google.colab.kernel.invokeFunction('convertToInteractive',\n",
              "                                                     [key], {});\n",
              "          if (!dataTable) return;\n",
              "\n",
              "          const docLinkHtml = 'Like what you see? Visit the ' +\n",
              "            '<a target=\"_blank\" href=https://colab.research.google.com/notebooks/data_table.ipynb>data table notebook</a>'\n",
              "            + ' to learn more about interactive tables.';\n",
              "          element.innerHTML = '';\n",
              "          dataTable['output_type'] = 'display_data';\n",
              "          await google.colab.output.renderOutput(dataTable, element);\n",
              "          const docLink = document.createElement('div');\n",
              "          docLink.innerHTML = docLinkHtml;\n",
              "          element.appendChild(docLink);\n",
              "        }\n",
              "      </script>\n",
              "    </div>\n",
              "  </div>\n",
              "  "
            ]
          },
          "metadata": {},
          "execution_count": 243
        }
      ]
    },
    {
      "cell_type": "markdown",
      "source": [
        "#Finding similar news"
      ],
      "metadata": {
        "id": "_9G_wdgc2BJT"
      }
    },
    {
      "cell_type": "markdown",
      "source": [
        "##For title"
      ],
      "metadata": {
        "id": "lo_LNhn4T-NW"
      }
    },
    {
      "cell_type": "code",
      "source": [
        "corpus_title_embeddings = []\n",
        "\n",
        "for vectors in df['title_emb']:\n",
        "  corpus_title_embeddings.append(vectors)"
      ],
      "metadata": {
        "id": "br6aa-UX2SZC"
      },
      "execution_count": null,
      "outputs": []
    },
    {
      "cell_type": "code",
      "source": [
        "id_title = random.randint(0, len(df))\n",
        "news_title = df['title'][id_title]\n",
        "news_title_emb = df['title_emb'][id_title]\n",
        "news_title"
      ],
      "metadata": {
        "colab": {
          "base_uri": "https://localhost:8080/",
          "height": 36
        },
        "id": "5d26cd4w3R_f",
        "outputId": "008e8e3d-648b-4368-f8ac-6f6377ad3c6b"
      },
      "execution_count": null,
      "outputs": [
        {
          "output_type": "execute_result",
          "data": {
            "text/plain": [
              "'Casualties in explosion at airfield near Kabul: U.S. military'"
            ],
            "application/vnd.google.colaboratory.intrinsic+json": {
              "type": "string"
            }
          },
          "metadata": {},
          "execution_count": 325
        }
      ]
    },
    {
      "cell_type": "code",
      "source": [
        "closet_n = 5\n",
        "\n",
        "distances = scipy.spatial.distance.cdist([news_title_emb], corpus_title_embeddings, 'cosine')[0]\n",
        "\n",
        "results = zip(range(len(distances)), distances)\n",
        "results = sorted(results, key=lambda x: x[1])\n",
        "results = pd.DataFrame(results)\n",
        "\n",
        "print('News title:\\n', news_title)\n",
        "print('\\nTop 5 most similiar news title in all titles:\\n')\n",
        "\n",
        "for i in range(closet_n):\n",
        "  id = results[0][i]\n",
        "  news = df['title'].iloc[id]\n",
        "  print(f'{news} \\n Score: {round(results[1][i], 4)}  ID: {id}\\n')"
      ],
      "metadata": {
        "colab": {
          "base_uri": "https://localhost:8080/"
        },
        "id": "Kc9JDJZzD_rh",
        "outputId": "e82948c8-b76f-4254-916b-471d74fdcb51"
      },
      "execution_count": null,
      "outputs": [
        {
          "output_type": "stream",
          "name": "stdout",
          "text": [
            "News title:\n",
            " Casualties in explosion at airfield near Kabul: U.S. military\n",
            "\n",
            "Top 5 most similiar news title in all titles:\n",
            "\n",
            "Casualties in explosion at airfield near Kabul: U.S. military \n",
            " Score: 0.0  ID: 44315\n",
            "\n",
            "U.S. military aircraft crashes in Syria, injuring two: officials \n",
            " Score: 0.1168  ID: 42175\n",
            "\n",
            "U.S.-led surveillance aircraft leave area near Islamic State convoy in Syria \n",
            " Score: 0.1308  ID: 44070\n",
            "\n",
            "Turkish military kills three PKK militants in north Iraq near border: sources \n",
            " Score: 0.1428  ID: 42203\n",
            "\n",
            "Violence flares at protest near U.S. Embassy in Lebanon \n",
            " Score: 0.1511  ID: 36106\n",
            "\n"
          ]
        }
      ]
    },
    {
      "cell_type": "markdown",
      "source": [
        "##For text"
      ],
      "metadata": {
        "id": "6dA9dVXnUFZz"
      }
    },
    {
      "cell_type": "code",
      "source": [
        "corpus_text_embeddings = []\n",
        "\n",
        "for vectors in df['text_emb']:\n",
        "  corpus_text_embeddings.append(vectors)"
      ],
      "metadata": {
        "id": "Xf8Y4ciXUFZ0"
      },
      "execution_count": null,
      "outputs": []
    },
    {
      "cell_type": "code",
      "source": [
        "id_news = random.randint(0, len(df))\n",
        "news = df['text'][id_news]\n",
        "news_emb = df['text_emb'][id_news]\n",
        "news"
      ],
      "metadata": {
        "colab": {
          "base_uri": "https://localhost:8080/",
          "height": 105
        },
        "outputId": "971f7741-45f5-46d8-d324-6973c7a5463b",
        "id": "bg09T8ksUFZ1"
      },
      "execution_count": null,
      "outputs": [
        {
          "output_type": "execute_result",
          "data": {
            "text/plain": [
              "'WASHINGTON (Reuters) - Republican presidential candidate Donald Trump’s team of economic policy advisers is packed with moguls from the hedge fund and investment banking industries that he has railed against in the past. And none of them are women - a demographic group he needs to court if he hopes to win in November. Trump’s campaign has been powered by a populist message that criticizes corporate America for outsourcing jobs, profiting at the expense of everyday workers and buying influence in Washington. The message resonates best with middle-class and working-class voters buffeted by the forces of globalization.  But among the members of the 13-member team of advisers announced on Friday are hedge-fund billionaire John Paulson and investment bankers Steve Feinberg and Andy Beal, as well as a former top steel executive and a former high-ranking U.S. government official.  “\\u200eIt is a hallowed campaign tradition. Malign an industry, but court its wealthy big shots,” said\\xa0Erik Gordon, a professor of law and business at the University of Michigan. The reliance on Wall Street executives comes after Trump spent much of his primary campaign lambasting the industry for paying too little in taxes. “The hedge fund guys are getting away with murder,” Trump said in an interview last year. One of the best known of Trump’s panel is Paulson, whose bet against the overheated housing market in 2007 netted him and his investors billions of dollars. His bets have since gone the other way, losing some $15 billion in the last five years. Don Steinbrugge, managing partner at investment consulting firm Agecroft Partners LLC, said Trump could benefit from his advisers’ expertise on global capital markets if he “would listen to them.” Whether Trump will heed the counsel of his conservative-leaning economic advisers or steer his own course was also raised by Lanhee Chen, who served as a top policy aide to Republican presidential candidate Mitt Romney in 2012.  “It’s hard to see a consistent strain of conservative economic thought,” Chen said, citing Trump’s protectionist policies on trade as an example of where Trump differs from the Republican party’s free-market economic orthodoxy. The panel also includes former steel executive Dan DiMicco; oil magnate Harold Hamm; Howard Lorber, the CEO of tobacco company Vector Group Ltd; Trump campaign finance chairman Steven Mnuchin, a former partner at Goldman Sachs who is now chairman and CEO of private investment firm Dune Capital Management LP; and David Malpass, a former official of the U.S. Treasury and State departments. James Pethokoukis, an economist with the conservative American Enterprise Institute, noted the absence of representatives from the tech and venture capital sectors.  “If I was assembling a task force to analyze the big challenges facing the American economy and to develop solutions, I am not sure that a group like this would naturally spring to mind,” he said. But the panel fits with the themes of Trump’s campaign in another way. Trump often has boasted about bringing in successful business people to tackle Washington’s entrenched problems, and many of Trump’s supporters see his background in business as among his biggest assets. Some critics seized upon the lack of women on Trump’s panel. After being asked this week to identify women he might appoint to his cabinet if elected, Trump could only respond with the name of his daughter Ivanka.  Democratic rival Hillary Clinton hit Trump on the comment in a Twitter post, comparing him to Romney who, when asked a similar question during his campaign, said he’d reviewed “binders full of women.” “We know a guy with a binder,\\xa0@realDonaldTrump. (He might not take your calls, though.)” Clinton’s campaign wrote. The campaign declined to comment on Trump’s advisers. Trump has struggled with women voters since his campaign began. Some 65 percent of women have an unfavorable view of Trump, according to Reuters/Ipsos polling, compared with 53 percent who have an unfavorable view of Clinton. Kellyanne Conway, a pollster who works for the Trump campaign, said the emphasis on gender on the economic team is misplaced. Women voters, she said, care more about their economic well-being than the make-up of an advisory group. “What female voters wish to know is whose economic plan will be better for them,” she said.  '"
            ],
            "application/vnd.google.colaboratory.intrinsic+json": {
              "type": "string"
            }
          },
          "metadata": {},
          "execution_count": 330
        }
      ]
    },
    {
      "cell_type": "code",
      "source": [
        "closet_n = 5\n",
        "\n",
        "distances = scipy.spatial.distance.cdist([news_emb], corpus_text_embeddings, 'cosine')[0]\n",
        "\n",
        "results_text = zip(range(len(distances)), distances)\n",
        "results_text = sorted(results_text, key=lambda x: x[1])\n",
        "results_text = pd.DataFrame(results_text)\n",
        "\n",
        "print('News:\\n', news)\n",
        "print('\\nTop 5 most similiar news:\\n')\n",
        "\n",
        "for i in range(closet_n):\n",
        "  id = results_text[0][i]\n",
        "  news = df['text'].iloc[id]\n",
        "  print(f'{news} \\n Score: {round(results_text[1][i], 4)}  ID: {id}\\n')"
      ],
      "metadata": {
        "colab": {
          "base_uri": "https://localhost:8080/"
        },
        "outputId": "8b12b731-790a-4b65-e52c-66f60a7c21fa",
        "id": "PPMKLW5HUFZ1"
      },
      "execution_count": null,
      "outputs": [
        {
          "output_type": "stream",
          "name": "stdout",
          "text": [
            "News:\n",
            " WASHINGTON (Reuters) - Republican presidential candidate Donald Trump’s team of economic policy advisers is packed with moguls from the hedge fund and investment banking industries that he has railed against in the past. And none of them are women - a demographic group he needs to court if he hopes to win in November. Trump’s campaign has been powered by a populist message that criticizes corporate America for outsourcing jobs, profiting at the expense of everyday workers and buying influence in Washington. The message resonates best with middle-class and working-class voters buffeted by the forces of globalization.  But among the members of the 13-member team of advisers announced on Friday are hedge-fund billionaire John Paulson and investment bankers Steve Feinberg and Andy Beal, as well as a former top steel executive and a former high-ranking U.S. government official.  “‎It is a hallowed campaign tradition. Malign an industry, but court its wealthy big shots,” said Erik Gordon, a professor of law and business at the University of Michigan. The reliance on Wall Street executives comes after Trump spent much of his primary campaign lambasting the industry for paying too little in taxes. “The hedge fund guys are getting away with murder,” Trump said in an interview last year. One of the best known of Trump’s panel is Paulson, whose bet against the overheated housing market in 2007 netted him and his investors billions of dollars. His bets have since gone the other way, losing some $15 billion in the last five years. Don Steinbrugge, managing partner at investment consulting firm Agecroft Partners LLC, said Trump could benefit from his advisers’ expertise on global capital markets if he “would listen to them.” Whether Trump will heed the counsel of his conservative-leaning economic advisers or steer his own course was also raised by Lanhee Chen, who served as a top policy aide to Republican presidential candidate Mitt Romney in 2012.  “It’s hard to see a consistent strain of conservative economic thought,” Chen said, citing Trump’s protectionist policies on trade as an example of where Trump differs from the Republican party’s free-market economic orthodoxy. The panel also includes former steel executive Dan DiMicco; oil magnate Harold Hamm; Howard Lorber, the CEO of tobacco company Vector Group Ltd; Trump campaign finance chairman Steven Mnuchin, a former partner at Goldman Sachs who is now chairman and CEO of private investment firm Dune Capital Management LP; and David Malpass, a former official of the U.S. Treasury and State departments. James Pethokoukis, an economist with the conservative American Enterprise Institute, noted the absence of representatives from the tech and venture capital sectors.  “If I was assembling a task force to analyze the big challenges facing the American economy and to develop solutions, I am not sure that a group like this would naturally spring to mind,” he said. But the panel fits with the themes of Trump’s campaign in another way. Trump often has boasted about bringing in successful business people to tackle Washington’s entrenched problems, and many of Trump’s supporters see his background in business as among his biggest assets. Some critics seized upon the lack of women on Trump’s panel. After being asked this week to identify women he might appoint to his cabinet if elected, Trump could only respond with the name of his daughter Ivanka.  Democratic rival Hillary Clinton hit Trump on the comment in a Twitter post, comparing him to Romney who, when asked a similar question during his campaign, said he’d reviewed “binders full of women.” “We know a guy with a binder, @realDonaldTrump. (He might not take your calls, though.)” Clinton’s campaign wrote. The campaign declined to comment on Trump’s advisers. Trump has struggled with women voters since his campaign began. Some 65 percent of women have an unfavorable view of Trump, according to Reuters/Ipsos polling, compared with 53 percent who have an unfavorable view of Clinton. Kellyanne Conway, a pollster who works for the Trump campaign, said the emphasis on gender on the economic team is misplaced. Women voters, she said, care more about their economic well-being than the make-up of an advisory group. “What female voters wish to know is whose economic plan will be better for them,” she said.  \n",
            "\n",
            "Top 5 most similiar news:\n",
            "\n",
            "Reality TV star and presumptive Republican presidential nominee Donald Trump  has convinced thousands of people that he s an expert on business, finance, and commerce. There isn t much evidence of those claims, and as he consolidates his power at the head of the Republican Party, his words reveal a dangerous lack of knowledge about global economics.In an interview with CNBC (on the phone, of course) Trump proposed a radical idea. He told the interviewer that he would reduce the national debt by having the United States fail to pay back on the money it owes. I would borrow, knowing that if the economy crashed, you could make a deal,  he told CNBC.  And if the economy was good, it was good. So, therefore, you can t lose. Trump doesn t seem to understand that the United States economy isn t one of his many, many casinos and other ventures that he sent into bankruptcy at the expense of his investors (and rarely himself). To set him straight, Gene Sperling, who was an economic adviser to Presidents Clinton and Obama, released a statement lacerating Trump s insane proposal: For Donald Trump to casually announce he would consider defaulting on our debt for the first time in our history shows a stunning lack of responsibility and understanding of the global economy,  he said.Sperling also pointed out that Trump s plan  would risk a global financial meltdown, drive up interest rates for Americans for decades, and seriously harm middle-class families. In case anyone might think that this is simply a case of a Democrat hitting Trump, Republicans and business experts also think his idea is bonkers:Tony Fratto, a spokesman for the U.S. Treasury Department under former President George W. Bush and a vocal member of the  Never Trump  movement, called the comments  dumb as a bucket of rocks.  Fortune Editor Alan S. Murray called them  scary. In Trump s first week as the Republican standard-bearer, he s revealing just how ill-prepared he is to govern, more than even your average modern Republican.Featured image via Flickr \n",
            " Score: 0.0348  ID: 6487\n",
            "\n",
            "Linda McMahon, Trump s pick to head the Small Business Administration, has been making headlines because of her unsavory career building the WWE. However, those headlines have been hiding a sinister fact that everyone should be aware of: the McMahons are major funders of Trump. They ve given the Trump Foundation and Super PACs supporting the candidate millions of dollars. A donor is being given a spot on the incoming administration.Here s more, from The New Civil Rights Movement:Donald Trump has named former WWE CEO Linda McMahon to become his Small Business Administration chief. McMahon gave a Trump Super PAC $6 million during the final months of the campaign, despite having denounced his comments about women as  deplorable. McMahon, who ran for the U.S. Senate in Connecticut but failed, twice, is the top outside donor (along with her husband) to the Trump Foundation, giving the controversial family charity $5 million between 2007 and 2009  more than Trump himself gave.Apparently, she s totally fine with Trump s comments as long as she gets to buy a spot on his administration.As Trump said when speaking about the Clinton Foundation,  Follow the money.  If she s not buying a position in the administration, why would you appoint someone who has donated over $10 million to support you? After all, the appearance of impropriety and impropriety itself are often not far separate in public life, where perception can be everything. It s very obvious that Donald Trump is either corrupt, or doesn t care if people think he s corrupt. And considering his settlement for fraud, thousands of stiffed contractors, thousands upon thousands of lawsuits, and general business record, it seems most likely it s the former option.Can you imagine the level of scrutiny Hillary Clinton would have faced if she appointed someone to her hypothetical administration who had donated over $10 million to her? Conservatives would be frothing at the mouth   and rightfully so, in that case. Pay-to-play is simply not the way a government should be run. Of course, since it s Trump, conservatives are silent.Plus, she s not even qualified:Like many of the President-elect s cabinet appointments, McMahon s professional qualifications appear to be out-of-step with the duties she will assume when she is confirmed. Despite her family s entrepreneurial streak, the WWE has a near monopolization over the industry and has been accused of allegedly prioritizing money over the health of its wrestlers.  We of course had a responsibility to our shareholders,  McMahon told the Times in response, denying the allegations.  But every good chief executive understands that in addition to maintaining profitability, companies that hope to be successful in the long term absolutely have to put people first.  Whether McMahon will be able to use her experience with big business to benefit small businesses around America has yet to be seen. (Source)This is just more evidence that Trump is doing the OPPOSITE of  draining the swamp.  He s business-as-usual on steroids.Featured image via Sara D. Davis/Getty Images \n",
            " Score: 0.0365  ID: 3498\n",
            "\n",
            "To hear Donald Trump tell it, he s the best, hugest, biggest boss there has ever been and the way he runs his businesses (if you ignore the multiple bankruptcies and closures) means the people who work for him should be overwhelmingly proud to be under his leadership.But Reuters has done some number-crunching on what kind of financial support the people who work in his businesses have shown to his presidential campaign, and as he would say, it s very  sad! Only a dozen of an estimated 22,450 people employed at Trump s companies have donated more than $200 to the celebrity businessman s bid for the U.S. presidency, a Reuters review of federal campaign finance records through August shows. Those who gave less to either Trump s campaign or his joint fundraising committees would not have shown up in the review.The contributors, including an office cleaner, a golf course groundskeeper, a bartender and an attorney, have given $5,298 to Trump s campaign, a fraction of the $112 million Trump s political operation has received from donors and joint fundraisers.The news service also points out that an employee at the Trump companies even has donated to Secretary Hillary Clinton, his electoral rival and the current front-runner in the presidential contest.By comparison, in 2012 people who had worked alongside Republican presidential nominee Mitt Romney had donated $1.4 million both directly to his campaign and to the super PAC supporting his campaign.Secretary Clinton has also received donations from employees at the U.S. State Department, which she headed from 2009 to 2013.Trump has continually lagged behind Clinton in fundraising during the election, a disparity which has shown up in underfunded campaign operations in many of the key swing states and a severe lack of television advertising. Trump claimed he would self-fund his campaign, but while he has donated to the enterprise, it hasn t been a significant fraction of the  billions  Trump claims to possess, a figure which cannot be independently verified because Trump won t release his tax returns.Featured image via Flickr \n",
            " Score: 0.0382  ID: 4209\n",
            "\n",
            "Just when you thought things couldn t get crazier and more bizarre in the future Donald Trump administration, the president-elect just nominated ex-WWE CEO Linda McMahon to head the Small Business Administration, which is considered a cabinet role.According to Reuters: U.S. President-elect Donald Trump plans to nominate professional wrestling magnate and former Senate candidate Linda McMahon as his choice to head the Small Business Administration, transition officials told Reuters on Wednesday. Trump picks Linda McMahon to lead the Small Business Administration pic.twitter.com/sIWGV4MJsd  Bradd Jaffy (@BraddJaffy) December 7, 2016Reuters points out: McMahon, 68, is a co-founder and former CEO of the professional wrestling franchise WWE, which is based in Stamford, Connecticut. She ran unsuccessfully for a U.S. Senate seat in Connecticut in 2010. She was an early supporter of Trump s presidential campaign. Further: The SBA, which has at least one office in every U.S. state, provides support to small businesses such as extending loans and making sure they get a percentage of federal contracts. And nothing says  small business  like the WWE! It s likely one of the largest entertainment companies around, and Trump is likely giving her the position as a personal favor for all her years of support and friendship. In fact, McMahon donated $6 Million to Trump s presidential campaign. Talk about pay for play. Linda s contributions in August and September alone reportedly make up nearly one third of the money raised by Rebuilding America Now, The Donald s super PAC, making her one of the leading external donors for the Republican party during this election. This entire scenario is just mind-boggling and beyond obscene. It s almost as if Trump is going out of his way to be as horrible as possible. Between white supremacists and the WWE running this country, hopefully we make it until 2020 to make sure Trump gets voted out.In the mean time, we really need to focus on the 2018 midterms.Read more:Featured Photo by Bill Pugliano/Getty Images \n",
            " Score: 0.0405  ID: 3520\n",
            "\n",
            "It looks like the GOP machine over-estimated their power to hand select a candidate for the party. It turns out amnesty is not as popular to the American voter as it is to the Chamber of Commerce and corporate donors Three top Jeb Bush fundraisers abruptly parted ways with his presidential campaign on Friday, amid internal personality conflicts and questions about the strength of his candidacy, POLITICO has learned.There are different versions of what transpired. The Florida-based fundraising consultants   Kris Money, Trey McCarley, and Debbie Aleksander   have said that they voluntarily quit the campaign and were still working with Bush s super PAC, Right to Rise Super PAC. Others said the three, who worked under the same contract, were let go because they were no longer needed for the current phase of the campaign.None of the three responded to requests for comment. Bush spokesman Tim Miller would only say that  Governor Bush has the widest and deepest fundraising operation of any candidate in the field. Ann Herberger   a longtime aide with more than two decades of experience in state and national politics   will continue to lead the operation in Florida with our team in Miami.  The departures came at a time of uncertainty for Bush. While he has had massive success raising money for his Super PAC, he is overseeing an official campaign that has many more staffers but far less money. Earlier this week, the New York Times revealed that it had taken steps to rein in some of its spending and had gone so far as to cut some employee salaries. And POLITICO reported one Bush fundraiser expressed concerns about the slowing pace of the campaign s fundraising after Bush s shaky debate performance.The Bush campaign wasted no time seeking a replacement for the three fundraising consultants and has reached out to Meredith O Rourke   one of Florida s top Republican fundraisers who briefly worked for Chris Christie s campaign in May but left it in July. O Rourke, who wouldn t comment, helped Gov. Rick Scott raise about $100 million for his 2014 reelection campaign and also works for Florida Agriculture Commissioner Adam Putnam, who s likely to run for governor in 2018.One source attributed the departures to personality conflicts in the campaign. Some identified Bush s finance director, Heather Larrison, as a shouter with whom it s difficult to work. She wouldn t comment. Others singled out Money as a problem due to what they describe as his haughtiness and his heavy-handed donate-or-else attitude with potential contributors. They were glad to go. This wasn t a shock to anybody,  said one campaign source.  There were just some personality problems. It happens when you have a big organization like this, a big campaign. Some of the national people are tough to work for.  Another campaign source, though, said the three fundraising consultants   who worked on contract and were not staffers   were let go because they weren t raising enough money relative to how much they had been raising during the last financial quarter. We appreciated their work, but we are entering a new phase of the campaign post Labor Day, and we needed to move in a different direction,  the source said.But another source disputed that:  They raised a lot of money out of Florida. A lot. So if anyone says they didn t quit, it s not true. They re still working for the super PAC as well. This is not about them This is about the campaign. Frontrunner Donald Trump seized on the POLITICO report Saturday morning and took a shot at his rival on Twitter:  Wow, Jeb Bush just lost three of his top fundraisers   they quit!  Aleksander, Money and McCarley have deep and longstanding ties to Florida s GOP power structure. Aleksander has been a member in good standing of Bush s operation since he was governor.Money is close with former House Speaker Will Weatherford, McCarley s part of Commissioner Adam Putnam s political team along with O Rourke.Donors last week told POLITICO that they still felt good about Bush s chances and that they weren t worried about Bush s recent slip from second to third place in averages of national polls. As the son and brother of former presidents, the former governor of the third-most populous state in the nation has a broad, deep-pocketed and savvy donor base. Some said they re less concerned with the campaign than with Jeb s candidacy, which has so far failed to ignite Republicans.But Bush s fundraising pace has slowed in the late summer months. Still, he s likely to remain the GOP campaign s top fundraiser, but Bush is also spending more than other candidates because he has a mammoth operation. Jeb has a big army, and that army needs to be fed,  said one campaign consultant familiar with the campaign s internal numbers.  Jeb might not have a fundraiser problem. He might have a spending problem. Via: Politico \n",
            " Score: 0.043  ID: 15254\n",
            "\n"
          ]
        }
      ]
    }
  ]
}